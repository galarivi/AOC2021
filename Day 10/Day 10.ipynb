{
 "cells": [
  {
   "cell_type": "code",
   "execution_count": 1,
   "id": "d634ec50",
   "metadata": {},
   "outputs": [],
   "source": [
    "# open file \n",
    "mni = open(\"input.txt\",\"r\");\n",
    "  \n",
    "# reading file content line by line\n",
    "lines = readlines(mni);\n",
    "expected_char_dict = Dict('(' => ')', '{' => '}', '[' => ']', '<' => '>');\n",
    "syntax_scores = Dict(')' => 3, ']' => 57, '}' => 1197, '>' => 25137);\n",
    "autocorrect_score_dict = Dict(')' => 1, ']' => 2, '}' => 3, '>' => 4);"
   ]
  },
  {
   "cell_type": "code",
   "execution_count": 2,
   "id": "25556f35",
   "metadata": {},
   "outputs": [
    {
     "name": "stdout",
     "output_type": "stream",
     "text": [
      "syntax_score = 294195\n"
     ]
    }
   ],
   "source": [
    "expected = ' '\n",
    "good_codes = Array{String}(undef,0)\n",
    "unfinished = Array{typeof(Array{Char}(undef,0))}(undef,0)\n",
    "\n",
    "syntax_score = 0\n",
    "for line in lines\n",
    "    expected_stack = Array{Char}(undef,0)\n",
    "    valid = true\n",
    "    \n",
    "    for code in line\n",
    "        if !(code in keys(expected_char_dict)) # Not an opening brace\n",
    "            if code == pop!(expected_stack) \n",
    "                continue\n",
    "            else\n",
    "                valid = false\n",
    "                syntax_score = syntax_score + syntax_scores[code]\n",
    "                break\n",
    "            end\n",
    "        else\n",
    "            push!(expected_stack,expected_char_dict[code])\n",
    "        end\n",
    "    end\n",
    "    \n",
    "    if valid\n",
    "         push!(good_codes, line)\n",
    "        \n",
    "        if size(expected_stack, 1) > 0\n",
    "            push!(unfinished, expected_stack)\n",
    "        end\n",
    "    end\n",
    "end\n",
    "\n",
    "@show syntax_score;"
   ]
  },
  {
   "cell_type": "code",
   "execution_count": 3,
   "id": "d297a737",
   "metadata": {},
   "outputs": [
    {
     "name": "stdout",
     "output_type": "stream",
     "text": [
      "size(autocorrect_scores, 1) = 47\n",
      "mid = Int((size(autocorrect_scores, 1) + 1) // 2) = 24\n",
      "autocorrect_scores[mid] = 3490802734\n"
     ]
    }
   ],
   "source": [
    "autocorrect_scores = Array{Int64}(undef,0)\n",
    "\n",
    "for stack in unfinished\n",
    "    cur_score = 0\n",
    "    for code in reverse(stack)\n",
    "        cur_score = cur_score * 5\n",
    "        cur_score = cur_score + autocorrect_score_dict[code]\n",
    "    end\n",
    "    push!(autocorrect_scores, cur_score)\n",
    "end\n",
    "\n",
    "sort!(autocorrect_scores)\n",
    "\n",
    "@show size(autocorrect_scores, 1)\n",
    "@show mid = Int((size(autocorrect_scores, 1) + 1)//2)\n",
    "@show autocorrect_scores[mid];"
   ]
  }
 ],
 "metadata": {
  "kernelspec": {
   "display_name": "Julia 1.7.0",
   "language": "julia",
   "name": "julia-1.7"
  },
  "language_info": {
   "file_extension": ".jl",
   "mimetype": "application/julia",
   "name": "julia",
   "version": "1.7.0"
  }
 },
 "nbformat": 4,
 "nbformat_minor": 5
}
