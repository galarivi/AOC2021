{
 "cells": [
  {
   "cell_type": "code",
   "execution_count": 1,
   "id": "033319a2",
   "metadata": {},
   "outputs": [],
   "source": [
    "# open file \n",
    "mni = open(\"input.txt\",\"r\");\n",
    "  \n",
    "# reading file content line by line\n",
    "raw = readlines(mni);"
   ]
  },
  {
   "cell_type": "code",
   "execution_count": 2,
   "id": "7e16fd5f",
   "metadata": {},
   "outputs": [
    {
     "data": {
      "text/plain": [
       "RawToPointPair (generic function with 1 method)"
      ]
     },
     "execution_count": 2,
     "metadata": {},
     "output_type": "execute_result"
    }
   ],
   "source": [
    "function RawToPointPair(inStr)\n",
    "    points = split(inStr, \" -> \")\n",
    "    x1 = parse(Int64, split(points[1],\",\")[1], base=10)\n",
    "    y1 = parse(Int64, split(points[1],\",\")[2], base=10)\n",
    "    x2 = parse(Int64, split(points[2],\",\")[1], base=10)\n",
    "    y2 = parse(Int64, split(points[2],\",\")[2], base=10)\n",
    "    \n",
    "    point_pair = [x1 y1; x2 y2]\n",
    "end"
   ]
  },
  {
   "cell_type": "code",
   "execution_count": 3,
   "id": "2d2929cc",
   "metadata": {},
   "outputs": [],
   "source": [
    "point_pairs = [RawToPointPair(str) for str in raw];"
   ]
  },
  {
   "cell_type": "code",
   "execution_count": 4,
   "id": "4fedffba",
   "metadata": {},
   "outputs": [
    {
     "data": {
      "text/plain": [
       "6113"
      ]
     },
     "execution_count": 4,
     "metadata": {},
     "output_type": "execute_result"
    }
   ],
   "source": [
    "#Part 1\n",
    "vent_locations = Dict()\n",
    "\n",
    "for pp in point_pairs\n",
    "    x1 = pp[1,1]\n",
    "    y1 = pp[1,2]\n",
    "    x2 = pp[2,1]\n",
    "    y2 = pp[2,2]\n",
    "    \n",
    "    if x1 == x2 \n",
    "        for y in min(y1,y2):max(y1,y2)\n",
    "            #Count in Dict +1\n",
    "            key = \"$x1,$y\"\n",
    "            if getkey(vent_locations, key, \"\") != \"\"\n",
    "                vent_locations[key] += 1\n",
    "            else\n",
    "                vent_locations[key] = 1\n",
    "            end\n",
    "        end\n",
    "    elseif y1 == y2\n",
    "        for x in min(x1,x2):max(x1,x2)\n",
    "             #Count in Dict +1\n",
    "            key = \"$x,$y1\"\n",
    "            if getkey(vent_locations, key, \"\") != \"\"\n",
    "               vent_locations[key] += 1\n",
    "            else\n",
    "               vent_locations[key] = 1\n",
    "            end\n",
    "        end\n",
    "    end\n",
    "end\n",
    "\n",
    "intersect_count = sum(val->(val >= 2 ? 1 : 0), values(vent_locations))"
   ]
  },
  {
   "cell_type": "code",
   "execution_count": 5,
   "id": "8567331e",
   "metadata": {},
   "outputs": [
    {
     "data": {
      "text/plain": [
       "20373"
      ]
     },
     "execution_count": 5,
     "metadata": {},
     "output_type": "execute_result"
    }
   ],
   "source": [
    "#Part 2\n",
    "vent_locations = Dict()\n",
    "\n",
    "for pp in point_pairs\n",
    "    x1 = pp[1,1]\n",
    "    y1 = pp[1,2]\n",
    "    x2 = pp[2,1]\n",
    "    y2 = pp[2,2]\n",
    "    \n",
    "    if x1 == x2 \n",
    "        for y in min(y1,y2):max(y1,y2)\n",
    "            #Count in Dict +1\n",
    "            key = \"$x1,$y\"\n",
    "            if getkey(vent_locations, key, \"\") != \"\"\n",
    "                vent_locations[key] += 1\n",
    "            else\n",
    "                vent_locations[key] = 1\n",
    "            end\n",
    "        end\n",
    "    elseif y1 == y2\n",
    "        for x in min(x1,x2):max(x1,x2)\n",
    "             #Count in Dict +1\n",
    "            key = \"$x,$y1\"\n",
    "            if getkey(vent_locations, key, \"\") != \"\"\n",
    "               vent_locations[key] += 1\n",
    "            else\n",
    "               vent_locations[key] = 1\n",
    "            end\n",
    "        end\n",
    "    elseif (y2-y1)/(x2-x1) > 0 # + slope, 45 deg from bottom left to top right\n",
    "        diffx = abs(x1-x2)\n",
    "        diffy = abs(y1-y2)\n",
    "        for diag in 0:diffx\n",
    "            x = min(x1,x2) + diag\n",
    "            y = min(y1,y2) + diag\n",
    "            key = \"$x,$y\"\n",
    "            if getkey(vent_locations, key, \"\") != \"\"\n",
    "                vent_locations[key] += 1\n",
    "            else\n",
    "                vent_locations[key] = 1\n",
    "            end\n",
    "        end\n",
    "    elseif (y2-y1)/(x2-x1) < 0 # - slope, 45 deg from top left to bottom right\n",
    "        diffx = abs(x1-x2)\n",
    "        diffy = abs(y1-y2)\n",
    "        for diag in 0:diffx\n",
    "            x = min(x1,x2) + diag\n",
    "            y = max(y1,y2) - diag\n",
    "            key = \"$x,$y\"\n",
    "            if getkey(vent_locations, key, \"\") != \"\"\n",
    "                vent_locations[key] += 1\n",
    "            else\n",
    "                vent_locations[key] = 1\n",
    "            end\n",
    "        end\n",
    "    end\n",
    "end\n",
    "\n",
    "intersect_count = sum(val->(val >= 2 ? 1 : 0), values(vent_locations))"
   ]
  },
  {
   "cell_type": "code",
   "execution_count": null,
   "id": "1324d769",
   "metadata": {},
   "outputs": [],
   "source": []
  }
 ],
 "metadata": {
  "kernelspec": {
   "display_name": "Julia 1.7.0",
   "language": "julia",
   "name": "julia-1.7"
  },
  "language_info": {
   "file_extension": ".jl",
   "mimetype": "application/julia",
   "name": "julia",
   "version": "1.7.0"
  }
 },
 "nbformat": 4,
 "nbformat_minor": 5
}
