{
 "cells": [
  {
   "cell_type": "code",
   "execution_count": 13,
   "id": "5d3deca8",
   "metadata": {},
   "outputs": [
    {
     "ename": "LoadError",
     "evalue": "UndefVarError: posx not defined",
     "output_type": "error",
     "traceback": [
      "UndefVarError: posx not defined",
      "",
      "Stacktrace:",
      " [1] top-level scope",
      "   @ .\\In[13]:14",
      " [2] eval",
      "   @ .\\boot.jl:360 [inlined]",
      " [3] include_string(mapexpr::typeof(REPL.softscope), mod::Module, code::String, filename::String)",
      "   @ Base .\\loading.jl:1094"
     ]
    }
   ],
   "source": [
    "# open file \n",
    "mni = open(\"input.txt\",\"r\");\n",
    "  \n",
    "# reading file content line by line\n",
    "dd = readlines(mni);\n",
    "\n",
    "directions = [split(d, \" \") for d in dd] \n",
    "\n",
    "posX = 0\n",
    "depth = 0\n",
    "\n",
    "for dir in directions\n",
    "    if dir[1] == \"forward\"\n",
    "        posX += parse(Int, dir[2])\n",
    "    elseif dir[1] == \"up\"\n",
    "        depth -= parse(Int, dir[2])\n",
    "    elseif dir[1] == \"down\"\n",
    "        depth += parse(Int, dir[2])\n",
    "    end\n",
    "end\n",
    "\n",
    "posX * depth\n",
    "#"
   ]
  },
  {
   "cell_type": "code",
   "execution_count": null,
   "id": "3bdc9c89",
   "metadata": {},
   "outputs": [],
   "source": []
  },
  {
   "cell_type": "code",
   "execution_count": null,
   "id": "ba8ee863",
   "metadata": {},
   "outputs": [],
   "source": []
  }
 ],
 "metadata": {
  "kernelspec": {
   "display_name": "Julia 1.6.1",
   "language": "julia",
   "name": "julia-1.6"
  },
  "language_info": {
   "file_extension": ".jl",
   "mimetype": "application/julia",
   "name": "julia",
   "version": "1.6.1"
  }
 },
 "nbformat": 4,
 "nbformat_minor": 5
}
