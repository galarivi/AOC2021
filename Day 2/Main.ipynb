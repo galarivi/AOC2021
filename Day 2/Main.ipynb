{
 "cells": [
  {
   "cell_type": "code",
   "execution_count": 1,
   "id": "a3bbc2f2",
   "metadata": {},
   "outputs": [],
   "source": [
    "# open file \n",
    "mni = open(\"input.txt\",\"r\");\n",
    "  \n",
    "# reading file content line by line\n",
    "dd = readlines(mni);\n",
    "\n"
   ]
  },
  {
   "cell_type": "code",
   "execution_count": null,
   "id": "04fa9095",
   "metadata": {},
   "outputs": [],
   "source": [
    "# Part 1\n",
    "posX = 0\n",
    "depth = 0\n",
    "\n",
    "for dir in directions\n",
    "    if dir[1] == \"forward\"\n",
    "        posX += parse(Int, dir[2])\n",
    "    elseif dir[1] == \"up\"\n",
    "        depth -= parse(Int, dir[2])\n",
    "    elseif dir[1] == \"down\"\n",
    "        depth += parse(Int, dir[2])\n",
    "    end\n",
    "end\n",
    "\n",
    "posX * depth"
   ]
  },
  {
   "cell_type": "code",
   "execution_count": 15,
   "id": "0084801a",
   "metadata": {},
   "outputs": [
    {
     "data": {
      "text/plain": [
       "1855892637"
      ]
     },
     "execution_count": 15,
     "metadata": {},
     "output_type": "execute_result"
    }
   ],
   "source": [
    "# Part 2\n",
    "posX = 0\n",
    "depth = 0\n",
    "aim = 0\n",
    "\n",
    "for dir in directions\n",
    "    if dir[1] == \"forward\"\n",
    "        posX += parse(Int, dir[2])\n",
    "        depth += aim * parse(Int, dir[2])\n",
    "    elseif dir[1] == \"up\"\n",
    "        aim -= parse(Int, dir[2])\n",
    "    elseif dir[1] == \"down\"\n",
    "        aim += parse(Int, dir[2])\n",
    "    end\n",
    "end\n",
    "\n",
    "posX * depth"
   ]
  },
  {
   "cell_type": "code",
   "execution_count": null,
   "id": "8f277d9e",
   "metadata": {},
   "outputs": [],
   "source": []
  }
 ],
 "metadata": {
  "kernelspec": {
   "display_name": "Julia 1.7.0",
   "language": "julia",
   "name": "julia-1.7"
  },
  "language_info": {
   "file_extension": ".jl",
   "mimetype": "application/julia",
   "name": "julia",
   "version": "1.7.0"
  }
 },
 "nbformat": 4,
 "nbformat_minor": 5
}
