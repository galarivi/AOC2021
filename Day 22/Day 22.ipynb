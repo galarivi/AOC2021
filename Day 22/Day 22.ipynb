{
 "cells": [
  {
   "cell_type": "code",
   "execution_count": 1,
   "id": "d2c63e31",
   "metadata": {},
   "outputs": [],
   "source": [
    "# open file \n",
    "mni = open(\"input.txt\",\"r\");\n",
    "lines = readlines(mni);"
   ]
  },
  {
   "cell_type": "code",
   "execution_count": 2,
   "id": "448319de",
   "metadata": {},
   "outputs": [
    {
     "data": {
      "text/plain": [
       "count_lights (generic function with 1 method)"
      ]
     },
     "execution_count": 2,
     "metadata": {},
     "output_type": "execute_result"
    }
   ],
   "source": [
    "struct cuboid\n",
    "    p1 # Min Corner\n",
    "    p2 # Max Corner\n",
    "    # Only track \"on\" cubes and negative intersections + derivitave terms as per the inclusive-exclusive theorem\n",
    "    on # on = 1, off = -1 for counting. \n",
    "end\n",
    "\n",
    "function parse_input(line)\n",
    "    on, ranges = split(line, \" \")\n",
    "    on = on == \"on\" ? 1 : -1\n",
    "    xr, yr, zr = split.(split(ranges,\",\"), \"=\")\n",
    "    xr = [parse(Int64, val) for val in split(xr[2], \"..\")]\n",
    "    yr = [parse(Int64, val) for val in split(yr[2], \"..\")]\n",
    "    zr = [parse(Int64, val) for val in split(zr[2], \"..\")]\n",
    "    \n",
    "    p1 = [xr[1], yr[1], zr[1]]\n",
    "    p2 = [xr[2], yr[2], zr[2]]\n",
    "    return cuboid(p1, p2, on)\n",
    "end\n",
    "\n",
    "function volume(cube)\n",
    "    vol = 1\n",
    "    for I in CartesianIndices(cube.p1)\n",
    "        vol *= cube.p2[I] - cube.p1[I] + 1\n",
    "    end\n",
    "    return vol\n",
    "end\n",
    "\n",
    "# Inclusion-Exclusion Theorem: |A U B| = |A| + |B| - |A n B| \n",
    "# We will keep:\n",
    "#    On Cubes\n",
    "#    Negations of overlapping on regions\n",
    "#    Negations for overlapping off regions\n",
    "\n",
    "# A on, B on: Then Keep A, Keep B, Keep -{A n B} to negate the overlapping region from double counting\n",
    "# A on, B off: Keep A, Keep -{A n B} to negate the overlapping region\n",
    "# A off, B on: A is a negation of a positive, B will add and negate itself with the underlying cube\n",
    "#              so we keep +{A n B} to cancel out that negation\n",
    "# A off, B off: A is a negation of a positive, B will double negate the underlying cube \n",
    "#              so we keep +{A n B}\n",
    "function intersect_cube(cube1, cube2)\n",
    "    p1 = max.(cube1.p1, cube2.p1)\n",
    "    p2 = min.(cube1.p2, cube2.p2)\n",
    "    on = cube1.on == cube2.on ? -cube1.on : cube2.on\n",
    "    \n",
    "    intersect = cuboid(p1, p2, on)\n",
    "    for I in CartesianIndices(intersect.p1)\n",
    "        if intersect.p1[I] > intersect.p2[I]\n",
    "            return 0\n",
    "        end\n",
    "    end\n",
    "    \n",
    "    return intersect\n",
    "end\n",
    "\n",
    "function count_lights(cubes)\n",
    "    tot = 0\n",
    "    for cube in cubes\n",
    "        tot += volume(cube) * cube.on\n",
    "    end\n",
    "    return tot\n",
    "end"
   ]
  },
  {
   "cell_type": "code",
   "execution_count": 8,
   "id": "c228f4b6",
   "metadata": {},
   "outputs": [
    {
     "name": "stdout",
     "output_type": "stream",
     "text": [
      "tot = count_lights(cubes) = 653798\n",
      "tot = count_lights(cubes) = 1257350313518866\n"
     ]
    },
    {
     "data": {
      "text/plain": [
       "1257350313518866"
      ]
     },
     "execution_count": 8,
     "metadata": {},
     "output_type": "execute_result"
    }
   ],
   "source": [
    "# https://en.wikipedia.org/wiki/Inclusion%E2%80%93exclusion_principle\n",
    "# https://www.reddit.com/r/adventofcode/comments/rlxhmg/2021_day_22_solutions/hqxczc4/?utm_source=share&utm_medium=web2x&context=3\n",
    "cubes = []\n",
    "tot = 0\n",
    "for line in lines\n",
    "    current = parse_input(line)\n",
    "    intersections = []\n",
    "    \n",
    "    #Part 1\n",
    "    if tot <= 0\n",
    "        for I in CartesianIndices(current.p1)\n",
    "            if abs(current.p1[I]) >= 50\n",
    "                @show tot = count_lights(cubes)\n",
    "                break\n",
    "            end\n",
    "        end\n",
    "    end\n",
    "    for cube in cubes\n",
    "        intersection = intersect_cube(cube, current)\n",
    "        if intersection != 0\n",
    "            push!(intersections, intersection)\n",
    "        end\n",
    "    end\n",
    "    for intersection in intersections\n",
    "        push!(cubes, intersection)\n",
    "    end \n",
    "    if current.on == 1 \n",
    "        push!(cubes, current)\n",
    "    end\n",
    "end\n",
    "\n",
    " @show tot = count_lights(cubes)"
   ]
  }
 ],
 "metadata": {
  "kernelspec": {
   "display_name": "Julia 1.7.0",
   "language": "julia",
   "name": "julia-1.7"
  },
  "language_info": {
   "file_extension": ".jl",
   "mimetype": "application/julia",
   "name": "julia",
   "version": "1.7.0"
  }
 },
 "nbformat": 4,
 "nbformat_minor": 5
}
