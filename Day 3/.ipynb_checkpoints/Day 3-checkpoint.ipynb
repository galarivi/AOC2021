{
 "cells": [
  {
   "cell_type": "code",
   "execution_count": 1,
   "id": "c44d27b1",
   "metadata": {},
   "outputs": [],
   "source": [
    "# open file \n",
    "mni = open(\"input.txt\",\"r\");\n",
    "  \n",
    "# reading file content line by line\n",
    "file = readlines(mni);\n",
    "intLines = [parse(Int, line) for line in file] # not padded yet\n",
    "\n",
    "padding = findmax([size(digits(line), 1) for line in intLines])[1]\n",
    "codes = [digits(line, pad = padding) for line in intLines];"
   ]
  },
  {
   "cell_type": "code",
   "execution_count": 2,
   "id": "65c1c019",
   "metadata": {},
   "outputs": [
    {
     "data": {
      "text/plain": [
       "0"
      ]
     },
     "execution_count": 2,
     "metadata": {},
     "output_type": "execute_result"
    }
   ],
   "source": [
    "# Part 1\n",
    "γCount = Vector{Int64}(undef, padding);\n",
    "\n",
    "for code in codes\n",
    "    for i in eachindex(code)\n",
    "       γCount[i] += code[i]\n",
    "    end\n",
    "end\n",
    "\n",
    "γ = Vector{Int64}(undef, padding);\n",
    "ϵ = Vector{Int64}(undef, padding);\n",
    "\n",
    "for i in eachindex(γCount)\n",
    "    γ[i] = (γCount[i]/size(codes, 1)) >= 0.5 ? 1 : 0\n",
    "    ϵ[i] = γ[i] == 1.0 ? 0 : 1\n",
    "end\n",
    "\n",
    "#same same\n",
    "dγ = parse(Int, reverse(reduce(string, γ)), base = 2)\n",
    "dϵ = parse(Int, reverse(reduce(string, ϵ)), base = 2)\n",
    "\n",
    "dγ * dϵ"
   ]
  },
  {
   "cell_type": "code",
   "execution_count": 7,
   "id": "15b75bf4",
   "metadata": {},
   "outputs": [
    {
     "data": {
      "text/plain": [
       "FindO2 (generic function with 1 method)"
      ]
     },
     "execution_count": 7,
     "metadata": {},
     "output_type": "execute_result"
    }
   ],
   "source": [
    "#Part 2\n",
    "function FindO2(bitsCodeArray,idx)\n",
    "    num_ones = 0\n",
    "    for bitsCode in bitsCodeArray\n",
    "        if bitsCode[idx] == 1.0\n",
    "            num_ones += 1\n",
    "        end\n",
    "    end \n",
    "    \n",
    "    most_common = (num_ones / size(bitsCodeArray, 1)) >= 1//2 ? 1 : 0\n",
    "    filteredBitsCodeArray = Vector{typeof(bitsCodeArray[1])}(undef, 0)\n",
    "    \n",
    "    for bitsCode in bitsCodeArray\n",
    "        if bitsCode[idx] == most_common\n",
    "            push!(filteredBitsCodeArray, bitsCode)\n",
    "        end\n",
    "    end\n",
    "    \n",
    "    if size(filteredBitsCodeArray, 1) == 1 || idx == padding\n",
    "        filteredBitsCodeArray\n",
    "    else\n",
    "        FindO2(filteredBitsCodeArray, idx + 1)\n",
    "    end\n",
    "    \n",
    "end"
   ]
  },
  {
   "cell_type": "code",
   "execution_count": 11,
   "id": "492e0a99",
   "metadata": {},
   "outputs": [
    {
     "data": {
      "text/plain": [
       "FindCO2 (generic function with 1 method)"
      ]
     },
     "execution_count": 11,
     "metadata": {},
     "output_type": "execute_result"
    }
   ],
   "source": [
    "function FindCO2(bitsCodeArray,idx)\n",
    "    num_ones = 0\n",
    "    for bitsCode in bitsCodeArray\n",
    "        if bitsCode[idx] == 1.0\n",
    "            num_ones += 1\n",
    "        end\n",
    "    end \n",
    "    \n",
    "    least_common = (num_ones / size(bitsCodeArray, 1)) >= 1//2 ? 0 : 1\n",
    "    filteredBitsCodeArray = Vector{typeof(bitsCodeArray[1])}(undef, 0)\n",
    "    \n",
    "    for bitsCode in bitsCodeArray\n",
    "        if bitsCode[idx] == least_common\n",
    "            push!(filteredBitsCodeArray, bitsCode)\n",
    "        end\n",
    "    end\n",
    "    \n",
    "    if size(filteredBitsCodeArray, 1) == 1 || idx == padding\n",
    "        filteredBitsCodeArray\n",
    "    else\n",
    "        FindCO2(filteredBitsCodeArray, idx + 1)\n",
    "    end\n",
    "end"
   ]
  },
  {
   "cell_type": "code",
   "execution_count": 20,
   "id": "de736e6c",
   "metadata": {},
   "outputs": [
    {
     "name": "stdout",
     "output_type": "stream",
     "text": [
      "most_common = 1\n",
      "most_common = 1\n",
      "most_common = 1\n",
      "most_common = 1\n",
      "most_common = 1\n",
      "most_common = 0\n",
      "most_common = 0\n",
      "most_common = 1\n",
      "most_common = 1\n",
      "most_common = 0\n",
      "most_common = 1\n",
      "most_common = 1\n",
      "O2_rating = parse(Int, reduce(string, O2_rating_bits), base = 2) = 3995\n",
      "CO2_rating = parse(Int, reduce(string, CO2_rating_bits), base = 2) = 1696\n"
     ]
    },
    {
     "data": {
      "text/plain": [
       "6775520"
      ]
     },
     "execution_count": 20,
     "metadata": {},
     "output_type": "execute_result"
    }
   ],
   "source": [
    "O2_rating_bits = FindO2([reverse(code) for code in codes],1)[1];\n",
    "CO2_rating_bits = FindCO2([reverse(code) for code in codes],1)[1];\n",
    "O2_rating = parse(Int, reduce(string, O2_rating_bits), base = 2)\n",
    "@CO2_rating = parse(Int, reduce(string, CO2_rating_bits), base = 2)\n",
    "\n",
    "O2_rating*CO2_rating"
   ]
  },
  {
   "cell_type": "code",
   "execution_count": 6,
   "id": "94b0e2eb",
   "metadata": {},
   "outputs": [
    {
     "data": {
      "text/plain": [
       "0.0"
      ]
     },
     "execution_count": 6,
     "metadata": {},
     "output_type": "execute_result"
    }
   ],
   "source": [
    "round(2/4)"
   ]
  },
  {
   "cell_type": "code",
   "execution_count": 23,
   "id": "e0adace4",
   "metadata": {},
   "outputs": [
    {
     "data": {
      "text/plain": [
       "1000-element Vector{Vector{Int64}}:\n",
       " [1, 0, 1, 0, 0, 0, 1, 1, 1, 1, 0, 0]\n",
       " [0, 0, 0, 0, 1, 1, 1, 1, 1, 1, 0, 1]\n",
       " [0, 1, 1, 1, 0, 0, 0, 0, 0, 1, 0, 0]\n",
       " [1, 0, 0, 1, 0, 0, 0, 1, 0, 0, 0, 0]\n",
       " [0, 1, 1, 1, 1, 0, 0, 1, 0, 1, 0, 0]\n",
       " [1, 0, 1, 0, 0, 1, 1, 0, 0, 0, 0, 0]\n",
       " [1, 1, 0, 0, 0, 1, 0, 1, 0, 0, 0, 0]\n",
       " [1, 1, 1, 1, 1, 0, 0, 1, 1, 0, 1, 1]\n",
       " [0, 0, 0, 1, 1, 0, 1, 0, 0, 1, 1, 0]\n",
       " [1, 1, 0, 1, 0, 0, 0, 0, 0, 0, 0, 1]\n",
       " [1, 1, 0, 1, 0, 0, 0, 0, 1, 0, 0, 1]\n",
       " [0, 1, 0, 0, 0, 0, 1, 0, 0, 0, 1, 1]\n",
       " [0, 0, 0, 0, 1, 0, 0, 1, 1, 1, 0, 0]\n",
       " ⋮\n",
       " [0, 1, 0, 1, 1, 0, 1, 0, 0, 1, 1, 1]\n",
       " [0, 1, 1, 1, 1, 0, 1, 1, 0, 0, 0, 0]\n",
       " [1, 1, 1, 0, 0, 1, 0, 0, 0, 1, 0, 1]\n",
       " [0, 0, 1, 1, 1, 0, 1, 0, 0, 1, 1, 0]\n",
       " [1, 1, 1, 0, 0, 1, 0, 1, 0, 0, 1, 0]\n",
       " [1, 0, 1, 0, 0, 1, 0, 1, 0, 0, 1, 0]\n",
       " [0, 0, 1, 0, 1, 1, 0, 0, 0, 0, 1, 0]\n",
       " [1, 1, 1, 0, 1, 0, 1, 0, 1, 0, 1, 0]\n",
       " [1, 0, 1, 0, 1, 0, 1, 1, 0, 0, 0, 0]\n",
       " [1, 1, 1, 1, 0, 0, 0, 1, 0, 1, 0, 0]\n",
       " [0, 0, 0, 1, 1, 1, 1, 0, 0, 1, 1, 1]\n",
       " [1, 1, 0, 1, 1, 1, 1, 0, 0, 1, 0, 0]"
      ]
     },
     "execution_count": 23,
     "metadata": {},
     "output_type": "execute_result"
    }
   ],
   "source": [
    "[reverse(code) for code in codes]"
   ]
  },
  {
   "cell_type": "code",
   "execution_count": 24,
   "id": "a73212e9",
   "metadata": {},
   "outputs": [
    {
     "data": {
      "text/plain": [
       "7-element Vector{Int64}:\n",
       " 0\n",
       " 1\n",
       " 0\n",
       " 0\n",
       " 0\n",
       " 1\n",
       " 1"
      ]
     },
     "execution_count": 24,
     "metadata": {},
     "output_type": "execute_result"
    }
   ],
   "source": [
    "[reverse(code) for code in codes][1][2:8]"
   ]
  },
  {
   "cell_type": "code",
   "execution_count": null,
   "id": "dca91392",
   "metadata": {},
   "outputs": [],
   "source": []
  }
 ],
 "metadata": {
  "kernelspec": {
   "display_name": "Julia 1.7.0",
   "language": "julia",
   "name": "julia-1.7"
  },
  "language_info": {
   "file_extension": ".jl",
   "mimetype": "application/julia",
   "name": "julia",
   "version": "1.7.0"
  }
 },
 "nbformat": 4,
 "nbformat_minor": 5
}
