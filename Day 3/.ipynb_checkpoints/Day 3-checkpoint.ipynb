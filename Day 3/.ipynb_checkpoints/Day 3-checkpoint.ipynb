{
 "cells": [
  {
   "cell_type": "code",
   "execution_count": 112,
   "id": "2d302f55",
   "metadata": {},
   "outputs": [
    {
     "data": {
      "text/plain": [
       "1000-element Vector{Vector{Int64}}:\n",
       " [0, 0, 1, 1, 1, 1, 1, 1, 1, 1  …  0, 0, 0, 0, 1, 1, 1, 1, 0, 1]\n",
       " [1, 0, 1, 1, 1, 1, 0, 1, 0, 1  …  0, 1, 1, 0, 0, 1, 0, 1, 0, 1]\n",
       " [0, 0, 1, 0, 0, 1, 1, 0, 1, 1  …  1, 0, 1, 0, 1, 0, 0, 1, 0, 1]\n",
       " [0, 0, 0, 0, 1, 0, 0, 0, 0, 0  …  1, 0, 0, 1, 0, 1, 1, 1, 0, 1]\n",
       " [0, 0, 1, 0, 1, 1, 1, 1, 0, 0  …  0, 1, 1, 0, 1, 0, 0, 1, 0, 1]\n",
       " [0, 0, 0, 0, 0, 1, 1, 1, 0, 1  …  0, 0, 0, 0, 1, 1, 1, 1, 0, 1]\n",
       " [0, 0, 0, 0, 1, 0, 1, 0, 1, 0  …  1, 1, 0, 0, 1, 1, 0, 0, 1, 1]\n",
       " [1, 1, 0, 0, 0, 0, 0, 1, 0, 0  …  1, 1, 0, 1, 1, 1, 0, 0, 1, 1]\n",
       " [0, 1, 1, 1, 0, 0, 0, 1, 0, 1  …  1, 1, 1, 0, 0, 0, 1, 0, 1, 1]\n",
       " [1, 0, 0, 0, 0, 0, 0, 0, 1, 0  …  0, 0, 1, 0, 1, 1, 0, 0, 1, 1]\n",
       " [1, 0, 0, 1, 0, 1, 1, 1, 0, 0  …  0, 0, 1, 0, 1, 1, 0, 0, 1, 1]\n",
       " [1, 1, 0, 1, 0, 1, 0, 1, 0, 1  …  0, 0, 1, 0, 1, 0, 1, 0, 0, 1]\n",
       " [0, 0, 1, 1, 1, 0, 1, 1, 1, 0  …  1, 1, 0, 0, 0, 1, 1, 0, 0, 1]\n",
       " ⋮\n",
       " [1, 1, 1, 1, 0, 0, 0, 1, 0, 1  …  0, 1, 0, 1, 1, 0, 1, 0, 0, 1]\n",
       " [0, 0, 0, 0, 1, 1, 0, 0, 1, 1  …  0, 1, 1, 0, 1, 0, 0, 1, 0, 1]\n",
       " [1, 0, 1, 0, 0, 1, 0, 1, 0, 0  …  1, 1, 0, 1, 1, 1, 0, 0, 1, 1]\n",
       " [0, 1, 1, 1, 0, 0, 0, 1, 0, 0  …  1, 0, 0, 0, 1, 0, 0, 0, 0, 1]\n",
       " [0, 1, 0, 1, 1, 0, 1, 0, 1, 1  …  1, 1, 0, 1, 1, 1, 0, 0, 1, 1]\n",
       " [0, 1, 0, 1, 1, 0, 1, 0, 1, 1  …  0, 0, 0, 0, 1, 1, 1, 1, 0, 1]\n",
       " [0, 1, 0, 1, 0, 0, 1, 1, 0, 1  …  0, 0, 1, 0, 0, 0, 1, 1, 1, 1]\n",
       " [0, 1, 0, 0, 1, 0, 0, 0, 1, 1  …  1, 1, 0, 1, 1, 1, 0, 0, 1, 1]\n",
       " [0, 0, 0, 0, 1, 1, 0, 0, 0, 1  …  0, 0, 0, 0, 1, 1, 1, 1, 0, 1]\n",
       " [0, 0, 1, 0, 1, 1, 1, 0, 0, 1  …  1, 1, 0, 1, 1, 1, 0, 0, 1, 1]\n",
       " [1, 1, 1, 1, 0, 0, 1, 1, 0, 0  …  1, 1, 1, 1, 0, 0, 1, 0, 1, 1]\n",
       " [0, 0, 1, 0, 0, 0, 1, 1, 0, 0  …  0, 0, 1, 0, 1, 1, 0, 0, 1, 1]"
      ]
     },
     "execution_count": 112,
     "metadata": {},
     "output_type": "execute_result"
    }
   ],
   "source": [
    "# open file \n",
    "mni = open(\"input.txt\",\"r\");\n",
    "  \n",
    "# reading file content line by line\n",
    "file = readlines(mni);\n",
    "intLines = [parse(Int, line) for line in file]\n",
    "\n",
    "padding = findmax([size(digits(line))[1] for line in intLines])[1]\n",
    "\n",
    "codes = [digits(line, pad = padding) for line in intLines]"
   ]
  },
  {
   "cell_type": "code",
   "execution_count": 109,
   "id": "46d93158",
   "metadata": {},
   "outputs": [
    {
     "ename": "LoadError",
     "evalue": "BoundsError: attempt to access 12-element Vector{Int64} at index [13]",
     "output_type": "error",
     "traceback": [
      "BoundsError: attempt to access 12-element Vector{Int64} at index [13]",
      "",
      "Stacktrace:",
      " [1] getindex(A::Vector{Int64}, i1::Int64)",
      "   @ Base .\\array.jl:801",
      " [2] top-level scope",
      "   @ .\\In[109]:6",
      " [3] eval",
      "   @ .\\boot.jl:360 [inlined]",
      " [4] include_string(mapexpr::typeof(REPL.softscope), mod::Module, code::String, filename::String)",
      "   @ Base .\\loading.jl:1094"
     ]
    }
   ],
   "source": [
    "# Part 1\n",
    "γCount = Vector{Int64}(undef, padding);\n",
    "\n",
    "for code in codes\n",
    "    for i in eachindex(code)\n",
    "        γCount[i] += code[i]\n",
    "    end\n",
    "end\n",
    "\n",
    "γ = Vector{Int64}(undef, padding);\n",
    "ϵ = Vector{Int64}(undef, padding);\n",
    "for i in eachindex(γCount)\n",
    "    γ[i] = (γCount[i]/size(codes)[1]) >= 0.5 ? 1 : 0\n",
    "    ϵ[i] = γ[i] == 1.0 ? 0 : 1\n",
    "end\n",
    "\n",
    "d1 = sum(((i, dγ),) -> big(dγ) << ((i-1) * 8sizeof(dγ)), enumerate(BitArray(γ).chunks))\n",
    "d2 = sum(((i, dϵ),) -> big(dϵ) << ((i-1) * 8sizeof(dϵ)), enumerate(BitArray(ϵ).chunks))\n",
    "\n",
    "d1 * d2"
   ]
  },
  {
   "cell_type": "code",
   "execution_count": null,
   "id": "737f0b66",
   "metadata": {},
   "outputs": [],
   "source": [
    "bits = [parse(Int, line) for line in file]"
   ]
  },
  {
   "cell_type": "code",
   "execution_count": null,
   "id": "ca99536f",
   "metadata": {},
   "outputs": [],
   "source": []
  }
 ],
 "metadata": {
  "kernelspec": {
   "display_name": "Julia 1.6.1",
   "language": "julia",
   "name": "julia-1.6"
  },
  "language_info": {
   "file_extension": ".jl",
   "mimetype": "application/julia",
   "name": "julia",
   "version": "1.6.1"
  }
 },
 "nbformat": 4,
 "nbformat_minor": 5
}
