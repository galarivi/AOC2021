{
 "cells": [
  {
   "cell_type": "code",
   "execution_count": 141,
   "id": "c44d27b1",
   "metadata": {},
   "outputs": [],
   "source": [
    "# open file \n",
    "mni = open(\"input.txt\",\"r\");\n",
    "  \n",
    "# reading file content line by line\n",
    "file = readlines(mni);\n",
    "intLines = [parse(Int, line) for line in file]\n",
    "\n",
    "padding = findmax([size(digits(line))[1] for line in intLines])[1]\n",
    "\n",
    "codes = [digits(line, pad = padding) for line in intLines];"
   ]
  },
  {
   "cell_type": "code",
   "execution_count": 142,
   "id": "65c1c019",
   "metadata": {},
   "outputs": [
    {
     "data": {
      "text/plain": [
       "2261546"
      ]
     },
     "execution_count": 142,
     "metadata": {},
     "output_type": "execute_result"
    }
   ],
   "source": [
    "# Part 1\n",
    "γCount = Vector{Int64}(undef, padding);\n",
    "\n",
    "for code in codes\n",
    "    for i in eachindex(code)\n",
    "        γCount[i] += code[i]\n",
    "    end\n",
    "end\n",
    "\n",
    "same = Vector{Int64}(undef, padding);\n",
    "γ = Vector{Int64}(undef, padding);\n",
    "ϵ = Vector{Int64}(undef, padding);\n",
    "\n",
    "for i in eachindex(γCount)\n",
    "    γ[i] = (γCount[i]/size(codes)[1]) >= 0.5 ? 1 : 0\n",
    "    ϵ[i] = γ[i] == 1.0 ? 0 : 1\n",
    "    same[i] = (γCount[i]/size(codes)[1]) == 0.5 ? 1.0 : 0\n",
    "end\n",
    "\n",
    "#same same\n",
    "dγ = parse(Int, reverse(reduce(string, γ)), base = 2)\n",
    "dϵ = parse(Int, reverse(reduce(string, ϵ)), base = 2)\n",
    "#d1 = sum(((i, dγ),) -> big(dγ) << ((i-1) * 8sizeof(dγ)), enumerate(BitArray(γ).chunks))\n",
    "#d2 = sum(((i, dϵ),) -> big(dϵ) << ((i-1) * 8sizeof(dϵ)), enumerate(BitArray(ϵ).chunks))\n",
    "\n",
    "dγ * dϵ"
   ]
  },
  {
   "cell_type": "code",
   "execution_count": null,
   "id": "e7e3c9c5",
   "metadata": {},
   "outputs": [],
   "source": [
    "#Part 2\n",
    "\n",
    "CO2_mask = \n",
    "O2_r_idx = 0\n",
    "CO2_r_idx = 0\n",
    "\n",
    "for code in codes\n",
    "    \n",
    "end"
   ]
  }
 ],
 "metadata": {
  "kernelspec": {
   "display_name": "Julia 1.6.1",
   "language": "julia",
   "name": "julia-1.6"
  },
  "language_info": {
   "file_extension": ".jl",
   "mimetype": "application/julia",
   "name": "julia",
   "version": "1.6.1"
  }
 },
 "nbformat": 4,
 "nbformat_minor": 5
}
