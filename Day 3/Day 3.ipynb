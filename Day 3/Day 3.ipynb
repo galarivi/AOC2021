{
 "cells": [
  {
   "cell_type": "code",
   "execution_count": 25,
   "id": "c44d27b1",
   "metadata": {},
   "outputs": [],
   "source": [
    "# open file \n",
    "mni = open(\"input.txt\",\"r\");\n",
    "  \n",
    "# reading file content line by line\n",
    "file = readlines(mni);\n",
    "intLines = [parse(Int, line) for line in file] # not padded yet\n",
    "\n",
    "padding = findmax([size(digits(line), 1) for line in intLines])[1]\n",
    "codes = [reverse(digits(line, pad = padding)) for line in intLines]; #padded and un-reversed"
   ]
  },
  {
   "cell_type": "code",
   "execution_count": 26,
   "id": "65c1c019",
   "metadata": {},
   "outputs": [
    {
     "data": {
      "text/plain": [
       "2261546"
      ]
     },
     "execution_count": 26,
     "metadata": {},
     "output_type": "execute_result"
    }
   ],
   "source": [
    "# Part 1\n",
    "γCount = Vector{Int64}(undef, padding);\n",
    "\n",
    "for code in codes\n",
    "    for i in eachindex(code)\n",
    "       γCount[i] += code[i]\n",
    "    end\n",
    "end\n",
    "\n",
    "γ = Vector{Int64}(undef, padding);\n",
    "ϵ = Vector{Int64}(undef, padding);\n",
    "\n",
    "for i in eachindex(γCount)\n",
    "    γ[i] = (γCount[i]/size(codes, 1)) >= 0.5 ? 1 : 0\n",
    "    ϵ[i] = γ[i] == 1.0 ? 0 : 1\n",
    "end\n",
    "\n",
    "#same same\n",
    "dγ = parse(Int, reduce(string, γ), base = 2)\n",
    "dϵ = parse(Int, reduce(string, ϵ), base = 2)\n",
    "\n",
    "dγ * dϵ"
   ]
  },
  {
   "cell_type": "code",
   "execution_count": 29,
   "id": "a2a9e1ac",
   "metadata": {},
   "outputs": [
    {
     "data": {
      "text/plain": [
       "FindO2 (generic function with 1 method)"
      ]
     },
     "execution_count": 29,
     "metadata": {},
     "output_type": "execute_result"
    }
   ],
   "source": [
    "#Part 2\n",
    "function FindO2(bitsCodeArray,idx)\n",
    "    num_ones = 0\n",
    "    for bitsCode in bitsCodeArray\n",
    "        if bitsCode[idx] == 1.0\n",
    "            num_ones += 1\n",
    "        end\n",
    "    end \n",
    "    \n",
    "    most_common = (num_ones / size(bitsCodeArray, 1)) >= 1//2 ? 1 : 0\n",
    "    filteredBitsCodeArray = Vector{typeof(bitsCodeArray[1])}(undef, 0)\n",
    "    \n",
    "    for bitsCode in bitsCodeArray\n",
    "        if bitsCode[idx] == most_common\n",
    "            push!(filteredBitsCodeArray, bitsCode)\n",
    "        end\n",
    "    end\n",
    "    \n",
    "    if size(filteredBitsCodeArray, 1) == 1 || idx == padding\n",
    "        filteredBitsCodeArray\n",
    "    else\n",
    "        FindO2(filteredBitsCodeArray, idx + 1)\n",
    "    end\n",
    "    \n",
    "end"
   ]
  },
  {
   "cell_type": "code",
   "execution_count": 30,
   "id": "011ceda9",
   "metadata": {},
   "outputs": [
    {
     "data": {
      "text/plain": [
       "FindCO2 (generic function with 1 method)"
      ]
     },
     "execution_count": 30,
     "metadata": {},
     "output_type": "execute_result"
    }
   ],
   "source": [
    "function FindCO2(bitsCodeArray,idx)\n",
    "    num_ones = 0\n",
    "    for bitsCode in bitsCodeArray\n",
    "        if bitsCode[idx] == 1.0\n",
    "            num_ones += 1\n",
    "        end\n",
    "    end \n",
    "    \n",
    "    least_common = (num_ones / size(bitsCodeArray, 1)) >= 1//2 ? 0 : 1\n",
    "    filteredBitsCodeArray = Vector{typeof(bitsCodeArray[1])}(undef, 0)\n",
    "    \n",
    "    for bitsCode in bitsCodeArray\n",
    "        if bitsCode[idx] == least_common\n",
    "            push!(filteredBitsCodeArray, bitsCode)\n",
    "        end\n",
    "    end\n",
    "    \n",
    "    if size(filteredBitsCodeArray, 1) == 1 || idx == padding\n",
    "        filteredBitsCodeArray\n",
    "    else\n",
    "        FindCO2(filteredBitsCodeArray, idx + 1)\n",
    "    end\n",
    "end"
   ]
  },
  {
   "cell_type": "code",
   "execution_count": 34,
   "id": "f98e6c6d",
   "metadata": {},
   "outputs": [
    {
     "data": {
      "text/plain": [
       "6775520"
      ]
     },
     "execution_count": 34,
     "metadata": {},
     "output_type": "execute_result"
    }
   ],
   "source": [
    "O2_rating_bits = FindO2(codes,1)[1];\n",
    "CO2_rating_bits = FindCO2(codes,1)[1];\n",
    "O2_rating = parse(Int, reduce(string, O2_rating_bits), base = 2)\n",
    "CO2_rating = parse(Int, reduce(string, CO2_rating_bits), base = 2)\n",
    "\n",
    "O2_rating*CO2_rating"
   ]
  }
 ],
 "metadata": {
  "kernelspec": {
   "display_name": "Julia 1.7.0",
   "language": "julia",
   "name": "julia-1.7"
  },
  "language_info": {
   "file_extension": ".jl",
   "mimetype": "application/julia",
   "name": "julia",
   "version": "1.7.0"
  }
 },
 "nbformat": 4,
 "nbformat_minor": 5
}
