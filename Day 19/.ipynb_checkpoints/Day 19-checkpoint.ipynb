{
 "cells": [
  {
   "cell_type": "code",
   "execution_count": 1,
   "id": "2b557d6f",
   "metadata": {},
   "outputs": [],
   "source": [
    "using LinearAlgebra # Nioce.\n",
    "# open file \n",
    "mni = open(\"input.txt\",\"r\");\n",
    "raw = readlines(mni)\n",
    "scans = []\n",
    "cur_scan = Matrix{Int}(undef, 0, 3)\n",
    "for line in raw\n",
    "    if line == \"\"\n",
    "        push!(scans, cur_scan)\n",
    "        cur_scan = Matrix{Int}(undef, 0, 3)\n",
    "        continue\n",
    "    elseif line[1:3] == \"---\"\n",
    "        continue\n",
    "    end\n",
    "    cur_scan = [cur_scan; reshape([parse(Int, val) for val in split(line,\",\")],1,3)]\n",
    "end\n",
    "  \n",
    "push!(scans, cur_scan);"
   ]
  },
  {
   "cell_type": "code",
   "execution_count": 2,
   "id": "2791d78b",
   "metadata": {},
   "outputs": [
    {
     "data": {
      "text/plain": [
       "Rz (generic function with 1 method)"
      ]
     },
     "execution_count": 2,
     "metadata": {},
     "output_type": "execute_result"
    }
   ],
   "source": [
    "function Rx(θ)\n",
    "    rot = zeros(Int,3,3)\n",
    "    rot[1,1] = 1\n",
    "    rot[2,2] = cosd(θ)\n",
    "    rot[2,3] = sind(θ)\n",
    "    rot[3,2] = -sind(θ)\n",
    "    rot[3,3] = cosd(θ)\n",
    "    return rot\n",
    "end\n",
    "function Ry(θ)\n",
    "    rot = zeros(Int,3,3)\n",
    "    rot[1,1] = cosd(θ)\n",
    "    rot[1,3] = -sind(θ)\n",
    "    rot[2,2] = 1\n",
    "    rot[3,1] = sind(θ)\n",
    "    rot[3,3] = cosd(θ)\n",
    "    return rot\n",
    "end\n",
    "function Rz(θ)\n",
    "    rot = zeros(Int,3,3)\n",
    "    rot[1,1] = cosd(θ)\n",
    "    rot[1,2] = sind(θ)\n",
    "    rot[2,1] = -sind(θ)\n",
    "    rot[2,2] = cosd(θ)\n",
    "    rot[3,3] = 1\n",
    "    return rot\n",
    "end"
   ]
  },
  {
   "cell_type": "code",
   "execution_count": 3,
   "id": "7a5cabba",
   "metadata": {},
   "outputs": [],
   "source": [
    "const Rxc = Rx(90)\n",
    "const Ryc = Ry(90)\n",
    "const Rzc = Rz(90)\n",
    "const neg_x = [-1 0 0; 0 1 0; 0 0 1]\n",
    "const neg_y = [1 0 0; 0 -1 0; 0 0 1]\n",
    "const neg_z = [1 0 0; 0 1 0; 0 0 -1];"
   ]
  },
  {
   "cell_type": "code",
   "execution_count": 4,
   "id": "418accd2",
   "metadata": {},
   "outputs": [
    {
     "data": {
      "text/plain": [
       "register_scan (generic function with 1 method)"
      ]
     },
     "execution_count": 4,
     "metadata": {},
     "output_type": "execute_result"
    }
   ],
   "source": [
    "function translate(scan, t)\n",
    "    T = t .* ones(Int, size(scan, 1), size(scan, 2))\n",
    "    t_scan = scan .+ T\n",
    "    return t_scan\n",
    "end\n",
    "\n",
    "function overlap(scan, full_map)\n",
    "    overlap = Matrix{Int}(undef, 0, 3)\n",
    "    for s in 1:size(scan, 1)\n",
    "        scan_pt = transpose(scan[s,1:3])\n",
    "        for m in 1:size(full_map, 1)\n",
    "            map_pt = transpose(full_map[m,1:3])\n",
    "            \n",
    "            if scan_pt == map_pt\n",
    "                overlap = [overlap; scan_pt]\n",
    "            end\n",
    "        end\n",
    "    end\n",
    "    \n",
    "    return overlap\n",
    "end\n",
    "function get_translations(scan, full_map)\n",
    "    translations = []\n",
    "    for s in 1:size(scan, 1)\n",
    "        scan_pt = transpose(scan[s,1:3])\n",
    "        for m in 1:size(full_map, 1)\n",
    "            map_pt = transpose(full_map[m,1:3])\n",
    "            T = map_pt - scan_pt\n",
    "            push!(translations, T)\n",
    "        end\n",
    "    end\n",
    "    return translations\n",
    "end\n",
    "function get_rotations()\n",
    "    rotations = []\n",
    "    push!(rotations, I)\n",
    "    push!(rotations, Rzc)\n",
    "    push!(rotations, Rzc*Rzc)\n",
    "    push!(rotations, Rzc*Rzc*Rzc)\n",
    "    push!(rotations, Ryc)\n",
    "    push!(rotations, Ryc*Ryc*Ryc)\n",
    "    \n",
    "    push!(rotations, Rxc)\n",
    "    push!(rotations, Rxc*Rzc)\n",
    "    push!(rotations, Rxc*Rzc*Rzc)\n",
    "    push!(rotations, Rxc*Rzc*Rzc*Rzc)\n",
    "    push!(rotations, Rxc*Ryc)\n",
    "    push!(rotations, Rxc*Ryc*Ryc*Ryc)\n",
    "    \n",
    "    push!(rotations, Rxc*Rxc)\n",
    "    push!(rotations, Rxc*Rxc*Rzc)\n",
    "    push!(rotations, Rxc*Rxc*Rzc*Rzc)\n",
    "    push!(rotations, Rxc*Rxc*Rzc*Rzc*Rzc)\n",
    "    push!(rotations, Rxc*Rxc*Ryc)\n",
    "    push!(rotations, Rxc*Rxc*Ryc*Ryc*Ryc)\n",
    "    \n",
    "    push!(rotations, Rxc*Rxc*Rxc)\n",
    "    push!(rotations, Rxc*Rxc*Rxc*Rzc)\n",
    "    push!(rotations, Rxc*Rxc*Rxc*Rzc*Rzc)\n",
    "    push!(rotations, Rxc*Rxc*Rxc*Rzc*Rzc*Rzc)\n",
    "    push!(rotations, Rxc*Rxc*Rxc*Ryc)\n",
    "    push!(rotations, Rxc*Rxc*Rxc*Ryc*Ryc*Ryc)\n",
    "    \n",
    "    return rotations\n",
    "end\n",
    "function merge_scan(scan, full_map)\n",
    "    new_map = copy(full_map)\n",
    "    \n",
    "    for s in 1:size(scan, 1)\n",
    "        scan_pt = transpose(scan[s,1:3])\n",
    "        exists = false\n",
    "        for m in 1:size(full_map, 1)\n",
    "            map_pt = transpose(full_map[m,1:3])\n",
    "            \n",
    "            if scan_pt == map_pt\n",
    "                exists = true\n",
    "                break\n",
    "            end\n",
    "        end\n",
    "        \n",
    "        if !exists\n",
    "           new_map = [new_map; scan_pt]\n",
    "        end\n",
    "    end\n",
    "    return new_map\n",
    "end\n",
    "function register_scan(scan, full_map)\n",
    "    full_map = copy(full_map)\n",
    "    rotation = I\n",
    "    translation = I\n",
    "    for R in get_rotations()\n",
    "        rotated = scan*R\n",
    "        translations = get_translations(rotated, full_map)\n",
    "        for T in translations\n",
    "            #@show T\n",
    "            rot_trans_scan = translate(rotated, T)\n",
    "            common_beacons =  overlap(rot_trans_scan, full_map)\n",
    "            if length(common_beacons) >= 12*3\n",
    "                full_map = merge_scan(rot_trans_scan, full_map)\n",
    "                rotation = R\n",
    "                translation = T\n",
    "                return full_map, rotation, translation\n",
    "            end\n",
    "        end\n",
    "     end\n",
    "    return full_map, rotation, translation\n",
    "end"
   ]
  },
  {
   "cell_type": "code",
   "execution_count": null,
   "id": "2e9225d3",
   "metadata": {},
   "outputs": [],
   "source": [
    "ss = copy(scans)\n",
    "full_map = popfirst!(scans)\n",
    "registered_scans = []\n",
    "\n",
    "while length(ss) > 1\n",
    "    scan = popfirst!(ss)\n",
    "    new_map, R, T = register_scan(scan, full_map);\n",
    "    if new_map == full_map\n",
    "        push!(ss, scan)\n",
    "    else\n",
    "        full_map = new_map\n",
    "        push!(registered_scans, (scan, R, T))\n",
    "    end\n",
    "end\n",
    "length(full_map)/3"
   ]
  },
  {
   "cell_type": "code",
   "execution_count": 17,
   "id": "dc2ee15c",
   "metadata": {},
   "outputs": [
    {
     "data": {
      "text/plain": [
       "9655"
      ]
     },
     "execution_count": 17,
     "metadata": {},
     "output_type": "execute_result"
    }
   ],
   "source": [
    "all_T = [scan[3] for scan in registered_scans]\n",
    "mh_dists = []\n",
    "for T1 in all_T\n",
    "    for T2 in all_T\n",
    "        push!(mh_dists, sum(abs.(T1 .- T2)))\n",
    "    end\n",
    "end\n",
    "\n",
    "sort!(mh_dists, rev = true)[1]"
   ]
  }
 ],
 "metadata": {
  "kernelspec": {
   "display_name": "Julia 1.7.0",
   "language": "julia",
   "name": "julia-1.7"
  },
  "language_info": {
   "file_extension": ".jl",
   "mimetype": "application/julia",
   "name": "julia",
   "version": "1.7.0"
  }
 },
 "nbformat": 4,
 "nbformat_minor": 5
}
