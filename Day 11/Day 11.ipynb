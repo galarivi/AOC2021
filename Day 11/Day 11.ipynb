{
 "cells": [
  {
   "cell_type": "code",
   "execution_count": 1,
   "id": "383db5d1",
   "metadata": {},
   "outputs": [],
   "source": [
    "# open file \n",
    "mni = open(\"input.txt\",\"r\");\n",
    "  \n",
    "# reading file content line by line\n",
    "ingrid = [[parse(Int64, chr) for chr in line] for line in readlines(mni)]; \n",
    "\n",
    "xmax = size(ingrid[1], 1);\n",
    "ymax = size(ingrid, 1);"
   ]
  },
  {
   "cell_type": "code",
   "execution_count": 2,
   "id": "a3ab4534",
   "metadata": {},
   "outputs": [
    {
     "data": {
      "text/plain": [
       "find_flash (generic function with 1 method)"
      ]
     },
     "execution_count": 2,
     "metadata": {},
     "output_type": "execute_result"
    }
   ],
   "source": [
    "function find_flash(grid, ymax, xmax)\n",
    "    flash_state = zeros(Int64, ymax, xmax)\n",
    "    for j in 1:ymax\n",
    "        for i in 1:xmax\n",
    "            flash_state[j, i] += grid[j][i] > 9 ? 1 : 0         \n",
    "        end\n",
    "    end\n",
    "    return flash_state\n",
    "end"
   ]
  },
  {
   "cell_type": "code",
   "execution_count": 3,
   "id": "11a51bd3",
   "metadata": {},
   "outputs": [
    {
     "data": {
      "text/plain": [
       "update_flash (generic function with 1 method)"
      ]
     },
     "execution_count": 3,
     "metadata": {},
     "output_type": "execute_result"
    }
   ],
   "source": [
    "function update_flash(grid, ymax, xmax)\n",
    "    # Increment from the step has already been performed\n",
    "    flash_state = find_flash(grid, ymax, xmax)\n",
    "    \n",
    "    while 1 in flash_state \n",
    "        for j in 1:ymax\n",
    "            for i in 1:xmax\n",
    "                if flash_state[j,i] == 1\n",
    "                    for rid in max(j-1,1) : min(j+1,ymax)\n",
    "                        for cid in max(i-1,1) : min(i+1,xmax)\n",
    "                            if rid != j || cid != i\n",
    "                                grid[rid][cid] += 1\n",
    "                            end\n",
    "                        end\n",
    "                    end\n",
    "                end\n",
    "            end\n",
    "        end\n",
    "        \n",
    "        flash_state .+= find_flash(grid, ymax, xmax)\n",
    "    end\n",
    "    \n",
    "    for j in 1:ymax\n",
    "        for i in  1:xmax\n",
    "            grid[j][i] = grid[j][i] > 9 ? 0 : grid[j][i]\n",
    "        end\n",
    "    end\n",
    "    \n",
    "    return grid, flash_state\n",
    "end"
   ]
  },
  {
   "cell_type": "code",
   "execution_count": 4,
   "id": "df457d9d",
   "metadata": {},
   "outputs": [
    {
     "name": "stdout",
     "output_type": "stream",
     "text": [
      "flashes = 1739\n",
      "i = 324\n"
     ]
    },
    {
     "data": {
      "text/plain": [
       "324"
      ]
     },
     "execution_count": 4,
     "metadata": {},
     "output_type": "execute_result"
    }
   ],
   "source": [
    "\n",
    "max_checks = 1000\n",
    "i = 1\n",
    "record = push!(Array{typeof(ingrid)}(undef, 0), ingrid)\n",
    "flash_record = Array{typeof(zeros(Int64, ymax, xmax))}(undef, 0)\n",
    "    \n",
    "flashes = 0\n",
    "\n",
    "while i < max_checks \n",
    "    next = copy(record[end])\n",
    "    for (j, row) in enumerate(next)\n",
    "        next[j] = row .+ 1\n",
    "    end\n",
    "    \n",
    "    next, flash_state = update_flash(next, ymax, xmax)\n",
    "    \n",
    "    push!(flash_record, flash_state)\n",
    "        \n",
    "    cur_flashes = 0\n",
    "    for elem in flash_state\n",
    "        cur_flashes += elem > 0 ? 1 : 0\n",
    "    end\n",
    "    \n",
    "    flashes += cur_flashes\n",
    "    \n",
    "    if i == 100\n",
    "        @show flashes #part 1\n",
    "    end  \n",
    "    \n",
    "    if cur_flashes == 100\n",
    "        break\n",
    "    end   \n",
    "        \n",
    "    push!(record, next)\n",
    "    i += 1\n",
    "end\n",
    "\n",
    "@show i # part 2"
   ]
  }
 ],
 "metadata": {
  "kernelspec": {
   "display_name": "Julia 1.7.0",
   "language": "julia",
   "name": "julia-1.7"
  },
  "language_info": {
   "file_extension": ".jl",
   "mimetype": "application/julia",
   "name": "julia",
   "version": "1.7.0"
  }
 },
 "nbformat": 4,
 "nbformat_minor": 5
}
