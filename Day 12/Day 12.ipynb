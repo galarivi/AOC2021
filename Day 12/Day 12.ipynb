{
 "cells": [
  {
   "cell_type": "code",
   "execution_count": 5,
   "id": "7f052c3b",
   "metadata": {},
   "outputs": [],
   "source": [
    "# open file \n",
    "mni = open(\"input.txt\",\"r\");\n",
    "  \n",
    "# reading file content line by line\n",
    "paths = [split(line, \"-\") for line in readlines(mni)]; "
   ]
  },
  {
   "cell_type": "code",
   "execution_count": 6,
   "id": "525afc22",
   "metadata": {},
   "outputs": [
    {
     "data": {
      "text/plain": [
       "build_node_dict (generic function with 1 method)"
      ]
     },
     "execution_count": 6,
     "metadata": {},
     "output_type": "execute_result"
    }
   ],
   "source": [
    "function build_node_dict()\n",
    "    node_dict = Dict()\n",
    "    for nodes in paths\n",
    "        if nodes[1] in keys(node_dict)\n",
    "            # Add pair to this node\n",
    "            if !(nodes[2] in node_dict[nodes[1]][2])\n",
    "                push!(node_dict[nodes[1]][2], nodes[2])\n",
    "            end\n",
    "        else\n",
    "            node_dict[nodes[1]] = (0, [nodes[2]])\n",
    "        end\n",
    "        \n",
    "         if nodes[2] in keys(node_dict)\n",
    "            # Add pair to this node\n",
    "            if !(nodes[1] in node_dict[nodes[2]][2])\n",
    "                push!(node_dict[nodes[2]][2], nodes[1])\n",
    "            end\n",
    "        else\n",
    "            node_dict[nodes[2]] = (0, [nodes[1]])\n",
    "        end\n",
    "    end\n",
    "    return node_dict\n",
    "end"
   ]
  },
  {
   "cell_type": "code",
   "execution_count": 7,
   "id": "bdce106d",
   "metadata": {},
   "outputs": [
    {
     "data": {
      "text/plain": [
       "get_path (generic function with 1 method)"
      ]
     },
     "execution_count": 7,
     "metadata": {},
     "output_type": "execute_result"
    }
   ],
   "source": [
    "isbig(s) = all(c->(Int(c) >= Int('A') && Int(c) <= Int('Z')), s)\n",
    "\n",
    "function get_path(cur_node, discovered_paths, node_dict, cur_path, extra_used)\n",
    "    node_visted = (node_dict[cur_node][1] + 1, node_dict[cur_node][2])\n",
    "    node_dict[cur_node] = node_visted\n",
    "    \n",
    "    for next_node in node_dict[cur_node][2]\n",
    "        if isbig(next_node) || node_dict[next_node][1] < 1 || !extra_used\n",
    "            if next_node == \"end\"\n",
    "                push!(discovered_paths, push!(copy(cur_path), \"end\"))\n",
    "            elseif isbig(next_node) || node_dict[next_node][1] < 1 \n",
    "                get_path(next_node, discovered_paths, copy(node_dict), push!(copy(cur_path), next_node), extra_used)\n",
    "            elseif !extra_used && next_node != \"start\" && next_node != \"end\"\n",
    "                get_path(next_node, discovered_paths, copy(node_dict), push!(copy(cur_path), next_node), true)\n",
    "            end\n",
    "        end\n",
    "    end\n",
    "    \n",
    "    return discovered_paths\n",
    "end"
   ]
  },
  {
   "cell_type": "code",
   "execution_count": 8,
   "id": "f370e808",
   "metadata": {},
   "outputs": [
    {
     "name": "stdout",
     "output_type": "stream",
     "text": [
      "length(get_path(\"start\", Array{typeof([\"start\"])}(undef, 0), build_node_dict(), [\"start\"], true)) = 4011\n",
      "length(get_path(\"start\", Array{typeof([\"start\"])}(undef, 0), build_node_dict(), [\"start\"], false)) = 108035\n"
     ]
    }
   ],
   "source": [
    "# Part 1\n",
    "@show length(get_path(\"start\", Array{typeof([\"start\"])}(undef, 0), build_node_dict(), [\"start\"], true))\n",
    "\n",
    "# Part 2\n",
    "@show length(get_path(\"start\", Array{typeof([\"start\"])}(undef, 0), build_node_dict(), [\"start\"], false));"
   ]
  }
 ],
 "metadata": {
  "kernelspec": {
   "display_name": "Julia 1.7.0",
   "language": "julia",
   "name": "julia-1.7"
  },
  "language_info": {
   "file_extension": ".jl",
   "mimetype": "application/julia",
   "name": "julia",
   "version": "1.7.0"
  }
 },
 "nbformat": 4,
 "nbformat_minor": 5
}
