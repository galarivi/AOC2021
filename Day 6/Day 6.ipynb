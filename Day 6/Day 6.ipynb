{
 "cells": [
  {
   "cell_type": "code",
   "execution_count": 15,
   "id": "7b61d3f7",
   "metadata": {},
   "outputs": [],
   "source": [
    "# open file \n",
    "mni = open(\"input.txt\",\"r\");\n",
    "  \n",
    "# reading file content line by line\n",
    "raw = readline(mni);\n",
    "\n",
    "vals = [parse(Int64, val) for val in split(raw,\",\")];\n",
    "bin_nums = [0,1,2,3,4,5,6,7,8];\n",
    "bins = zeros(9,1);\n",
    "\n",
    "[bins[idx] += 1 for idx in indexin(vals,bin_nums)];"
   ]
  },
  {
   "cell_type": "code",
   "execution_count": 16,
   "id": "5c334227",
   "metadata": {
    "scrolled": false
   },
   "outputs": [
    {
     "data": {
      "text/plain": [
       "AdvanceDay (generic function with 1 method)"
      ]
     },
     "execution_count": 16,
     "metadata": {},
     "output_type": "execute_result"
    }
   ],
   "source": [
    "function AdvanceDay(fish_bins)\n",
    "    new_bins = zeros(9,1);\n",
    "    \n",
    "    new_bins[9] = fish_bins[1]\n",
    "    new_bins[8] = fish_bins[9]\n",
    "    new_bins[7] = fish_bins[8] + fish_bins[1]\n",
    "    \n",
    "    for i in 1:6\n",
    "        new_bins[i] = fish_bins[i+1]\n",
    "    end\n",
    "    \n",
    "    return new_bins\n",
    "end"
   ]
  },
  {
   "cell_type": "code",
   "execution_count": 17,
   "id": "1c4c7afd",
   "metadata": {},
   "outputs": [
    {
     "data": {
      "text/plain": [
       "343441.0"
      ]
     },
     "execution_count": 17,
     "metadata": {},
     "output_type": "execute_result"
    }
   ],
   "source": [
    "next_day_bins = AdvanceDay(bins)\n",
    "for i in 1:79\n",
    "    next_day_bins = AdvanceDay(next_day_bins)\n",
    "end\n",
    "\n",
    "sum(next_day_bins)"
   ]
  },
  {
   "cell_type": "code",
   "execution_count": null,
   "id": "210556d7",
   "metadata": {},
   "outputs": [],
   "source": []
  }
 ],
 "metadata": {
  "kernelspec": {
   "display_name": "Julia 1.7.0",
   "language": "julia",
   "name": "julia-1.7"
  },
  "language_info": {
   "file_extension": ".jl",
   "mimetype": "application/julia",
   "name": "julia",
   "version": "1.7.0"
  }
 },
 "nbformat": 4,
 "nbformat_minor": 5
}
