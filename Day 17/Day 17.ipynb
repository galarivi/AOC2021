{
 "cells": [
  {
   "cell_type": "code",
   "execution_count": 1,
   "id": "ecfd9436",
   "metadata": {},
   "outputs": [
    {
     "data": {
      "text/plain": [
       "2-element Vector{Vector{Int64}}:\n",
       " [56, 76]\n",
       " [-162, -134]"
      ]
     },
     "execution_count": 1,
     "metadata": {},
     "output_type": "execute_result"
    }
   ],
   "source": [
    "# open file \n",
    "mni = open(\"input.txt\",\"r\");\n",
    "  \n",
    "ranges = split(readline(mni), \" \")\n",
    "xrange = split(ranges[3],\"=\")[2][1:end-1] # cut off comma\n",
    "yrange = split(ranges[4],\"=\")[2]\n",
    "\n",
    "xr = [parse(Int, val) for val in split(xrange,\"..\")]\n",
    "yr = [parse(Int, val) for val in split(yrange,\"..\")];\n",
    "target = [xr, yr]"
   ]
  },
  {
   "cell_type": "code",
   "execution_count": 2,
   "id": "c164f334",
   "metadata": {},
   "outputs": [
    {
     "data": {
      "text/plain": [
       "sim (generic function with 1 method)"
      ]
     },
     "execution_count": 2,
     "metadata": {},
     "output_type": "execute_result"
    }
   ],
   "source": [
    "function sim(vx, vy)\n",
    "    vx_s, vy_s = vx, vy\n",
    "    x, y = (0, 0)\n",
    "    simulate = true \n",
    "    steps = 0\n",
    "    maxy = 0\n",
    "    hit = false\n",
    "    msg = \"\"\n",
    "    #@show (x, y), (vx, vy)\n",
    "    \n",
    "    while simulate\n",
    "        x += vx\n",
    "        y += vy\n",
    "        vx = max(0, vx - 1)\n",
    "        vy -= 1\n",
    "        \n",
    "        steps += 1\n",
    "        maxy = max(y, maxy)\n",
    "\n",
    "        #@show (x, y), (vx, vy)\n",
    "        if vx == 0 && x < target[1][1]\n",
    "            hit = false\n",
    "            msg = \"vx too low\"\n",
    "            break\n",
    "        elseif x > target[1][2]\n",
    "            hit = false\n",
    "            msg = \"surpassed x bounds\"\n",
    "            break\n",
    "        elseif y < target[2][1]\n",
    "            hit = false\n",
    "            msg = \"surpassed y bounds\"\n",
    "            break\n",
    "        elseif target[1][1] <= x <= target[1][2] && target[2][1] <= y <= target[2][2]\n",
    "            hit = true\n",
    "            msg = \"Hit!\"\n",
    "            break\n",
    "        end\n",
    "    end\n",
    "    return (x, y), maxy, steps, hit, msg, (vx_s, vy_s)\n",
    "end"
   ]
  },
  {
   "cell_type": "code",
   "execution_count": 3,
   "id": "7f78bb67",
   "metadata": {},
   "outputs": [
    {
     "data": {
      "text/plain": [
       "76"
      ]
     },
     "execution_count": 3,
     "metadata": {},
     "output_type": "execute_result"
    }
   ],
   "source": [
    "# Best case shot is min x velocity with maximum y that still lands in the region\n",
    "# Vmin occurs when probe crosses the leading edge with a velocity of 1\n",
    "# Vmax occurs when probe lands at opposite edge in 1 time step\n",
    "v_step = 1\n",
    "dist = xr[1]\n",
    "while dist > 0\n",
    "    dist -= v_step\n",
    "    v_step += 1\n",
    "end\n",
    "vxmin = v_step - 1\n",
    "vxmax = xr[2]"
   ]
  },
  {
   "cell_type": "code",
   "execution_count": 4,
   "id": "7b166843",
   "metadata": {},
   "outputs": [],
   "source": [
    "trajectories = []\n",
    "for vx in vxmin:vxmax\n",
    "    for vy in -162:1000\n",
    "        traj = sim(vx,vy)\n",
    "        if traj[4]\n",
    "            push!(trajectories, traj)\n",
    "        end\n",
    "    end\n",
    "end"
   ]
  },
  {
   "cell_type": "code",
   "execution_count": 5,
   "id": "fd63571e",
   "metadata": {
    "scrolled": false
   },
   "outputs": [
    {
     "data": {
      "text/plain": [
       "1031-element Vector{Any}:\n",
       " ((66, -162), 13041, 324, true, \"Hit!\", (11, 161))\n",
       " ((66, -161), 12880, 322, true, \"Hit!\", (11, 160))\n",
       " ((66, -160), 12720, 320, true, \"Hit!\", (11, 159))\n",
       " ((66, -159), 12561, 318, true, \"Hit!\", (11, 158))\n",
       " ((66, -158), 12403, 316, true, \"Hit!\", (11, 157))\n",
       " ((66, -157), 12246, 314, true, \"Hit!\", (11, 156))\n",
       " ((66, -156), 12090, 312, true, \"Hit!\", (11, 155))\n",
       " ((66, -155), 11935, 310, true, \"Hit!\", (11, 154))\n",
       " ((66, -154), 11781, 308, true, \"Hit!\", (11, 153))\n",
       " ((66, -153), 11628, 306, true, \"Hit!\", (11, 152))\n",
       " ((66, -152), 11476, 304, true, \"Hit!\", (11, 151))\n",
       " ((66, -151), 11325, 302, true, \"Hit!\", (11, 150))\n",
       " ((66, -150), 11175, 300, true, \"Hit!\", (11, 149))\n",
       " ⋮\n",
       " ((76, -145), 0, 1, true, \"Hit!\", (76, -145))\n",
       " ((76, -144), 0, 1, true, \"Hit!\", (76, -144))\n",
       " ((76, -143), 0, 1, true, \"Hit!\", (76, -143))\n",
       " ((76, -142), 0, 1, true, \"Hit!\", (76, -142))\n",
       " ((76, -141), 0, 1, true, \"Hit!\", (76, -141))\n",
       " ((76, -140), 0, 1, true, \"Hit!\", (76, -140))\n",
       " ((76, -139), 0, 1, true, \"Hit!\", (76, -139))\n",
       " ((76, -138), 0, 1, true, \"Hit!\", (76, -138))\n",
       " ((76, -137), 0, 1, true, \"Hit!\", (76, -137))\n",
       " ((76, -136), 0, 1, true, \"Hit!\", (76, -136))\n",
       " ((76, -135), 0, 1, true, \"Hit!\", (76, -135))\n",
       " ((76, -134), 0, 1, true, \"Hit!\", (76, -134))"
      ]
     },
     "execution_count": 5,
     "metadata": {},
     "output_type": "execute_result"
    }
   ],
   "source": [
    "sort!(trajectories, by = x -> x[2] , rev = true)"
   ]
  }
 ],
 "metadata": {
  "kernelspec": {
   "display_name": "Julia 1.7.0",
   "language": "julia",
   "name": "julia-1.7"
  },
  "language_info": {
   "file_extension": ".jl",
   "mimetype": "application/julia",
   "name": "julia",
   "version": "1.7.0"
  }
 },
 "nbformat": 4,
 "nbformat_minor": 5
}
