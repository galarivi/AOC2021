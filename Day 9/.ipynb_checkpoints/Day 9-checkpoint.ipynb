{
 "cells": [
  {
   "cell_type": "code",
   "execution_count": 1,
   "id": "bb505306",
   "metadata": {},
   "outputs": [],
   "source": [
    "# open file \n",
    "mni = open(\"input.txt\",\"r\");\n",
    "  \n",
    "# reading file content line by line\n",
    "lines = readlines(mni);"
   ]
  },
  {
   "cell_type": "code",
   "execution_count": 2,
   "id": "f3990f1a",
   "metadata": {},
   "outputs": [],
   "source": [
    "sea_grid = [[parse(Int,chr) for chr in line] for line in lines];"
   ]
  },
  {
   "cell_type": "code",
   "execution_count": 3,
   "id": "68f0c49c",
   "metadata": {},
   "outputs": [
    {
     "data": {
      "text/plain": [
       "is_low (generic function with 1 method)"
      ]
     },
     "execution_count": 3,
     "metadata": {},
     "output_type": "execute_result"
    }
   ],
   "source": [
    "function is_low(y, x, map)\n",
    "   \n",
    "    if y > 1 && map[y-1][x] <= map[y][x]\n",
    "         return false\n",
    "    end\n",
    "    if y < size(map,1) && map[y+1][x] <= map[y][x]\n",
    "         return false\n",
    "    end\n",
    "    \n",
    "    if x > 1 && map[y][x-1] <= map[y][x]\n",
    "         return false\n",
    "    end\n",
    "    if x < size(map[1],1) && map[y][x+1] <= map[y][x]\n",
    "         return false\n",
    "    end\n",
    "  \n",
    "    return true\n",
    "end"
   ]
  },
  {
   "cell_type": "code",
   "execution_count": 4,
   "id": "d15c5ef5",
   "metadata": {},
   "outputs": [
    {
     "name": "stdout",
     "output_type": "stream",
     "text": [
      "count = 448\n"
     ]
    },
    {
     "data": {
      "text/plain": [
       "448"
      ]
     },
     "execution_count": 4,
     "metadata": {},
     "output_type": "execute_result"
    }
   ],
   "source": [
    "# Part 1\n",
    "count = 0\n",
    "xmax = size(sea_grid[1],1)\n",
    "ymax = size(sea_grid,1)\n",
    "\n",
    "for ypos in 1:ymax\n",
    "    for xpos in 1:xmax\n",
    "        if is_low(ypos,xpos,sea_grid)\n",
    "            count = count + 1 + sea_grid[ypos][xpos]\n",
    "            #@show [sea_grid[ypos][xpos]  xpos ypos]\n",
    "        end\n",
    "    end\n",
    "end\n",
    "\n",
    "@show count"
   ]
  },
  {
   "cell_type": "code",
   "execution_count": 5,
   "id": "37985289",
   "metadata": {},
   "outputs": [
    {
     "data": {
      "text/plain": [
       "explore_basin (generic function with 1 method)"
      ]
     },
     "execution_count": 5,
     "metadata": {},
     "output_type": "execute_result"
    }
   ],
   "source": [
    "function explore_basin(y, x, bmap, smap, basin_num)\n",
    "    if smap[y][x] == 9\n",
    "        bmap[y,x] = -1\n",
    "        return -1\n",
    "    end\n",
    "    \n",
    "    considered = push!(Array{typeof([x, y])}(undef,0), [y, x])\n",
    "    added = Array{typeof([x, y])}(undef,0)\n",
    "    \n",
    "    while length(considered) > 0\n",
    "        cur_point = pop!(considered)\n",
    "        x = cur_point[2]\n",
    "        y = cur_point[1]\n",
    "        ######\n",
    "        ####  Why is bmap[y,x] out of bounds\n",
    "        ######\n",
    "        if bmap[y, x] == 0\n",
    "            if smap[y][x] == 9\n",
    "                bmap[y,x] = -1\n",
    "            else\n",
    "                size(bmap, 1)\n",
    "                size(bmap, 2)\n",
    "                bmap[y, x] = basin_num\n",
    "                push!(added, [y, x])\n",
    "                if y > 1 && bmap[y-1, x] == 0\n",
    "                     push!(considered, [y-1, x])\n",
    "                end\n",
    "                if y < size(bmap,1) && basin_map[y+1, x] == 0\n",
    "                     push!(considered, [y+1, x])\n",
    "                end\n",
    "        \n",
    "                if x > 1 && bmap[y, x-1] == 0\n",
    "                     push!(considered, [y, x-1])\n",
    "                end\n",
    "                if x < size(bmap,2) && bmap[y, x+1] == 0\n",
    "                     push!(considered, [y, x+1])\n",
    "                end\n",
    "            end\n",
    "        end\n",
    "    end\n",
    "        \n",
    "    return length(added)\n",
    "end"
   ]
  },
  {
   "cell_type": "code",
   "execution_count": 13,
   "id": "cd5efd10",
   "metadata": {},
   "outputs": [],
   "source": [
    "basin_map = zeros(Int64, ymax, xmax);\n",
    "basin_sizes = Dict()\n",
    "size_arr = Array{Int64}(undef, 0)\n",
    "cur_basin = 1\n",
    "\n",
    "for ypos in 1:ymax\n",
    "    for xpos in 1:xmax\n",
    "        if basin_map[ypos, xpos] == 0 #Unassigned\n",
    "            \n",
    "            cur_size = explore_basin(ypos, xpos, basin_map, sea_grid, cur_basin)\n",
    "            \n",
    "            if cur_size > 0\n",
    "                basin_sizes[cur_basin] = cur_size\n",
    "                push!(size_arr,cur_size)\n",
    "                cur_basin +=  1\n",
    "            end\n",
    "        end\n",
    "    end\n",
    "end"
   ]
  },
  {
   "cell_type": "code",
   "execution_count": 17,
   "id": "f3aa68aa",
   "metadata": {},
   "outputs": [
    {
     "name": "stdout",
     "output_type": "stream",
     "text": [
      "sorted[1] * sorted[2] * sorted[3] = 1417248\n"
     ]
    },
    {
     "data": {
      "text/plain": [
       "1417248"
      ]
     },
     "execution_count": 17,
     "metadata": {},
     "output_type": "execute_result"
    }
   ],
   "source": [
    "sorted = reverse(sort!(size_arr))\n",
    "\n",
    "@show sorted[1]*sorted[2]*sorted[3]"
   ]
  }
 ],
 "metadata": {
  "kernelspec": {
   "display_name": "Julia 1.7.0",
   "language": "julia",
   "name": "julia-1.7"
  },
  "language_info": {
   "file_extension": ".jl",
   "mimetype": "application/julia",
   "name": "julia",
   "version": "1.7.0"
  }
 },
 "nbformat": 4,
 "nbformat_minor": 5
}
