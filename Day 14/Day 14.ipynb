{
 "cells": [
  {
   "cell_type": "code",
   "execution_count": 1,
   "id": "dc0c706f",
   "metadata": {},
   "outputs": [],
   "source": [
    "# open file \n",
    "mni = open(\"input.txt\",\"r\");\n",
    "\n",
    "# reading file content line by line\n",
    "polymer_template = readline(mni)\n",
    "readline(mni)\n",
    "pairs = Dict(); \n",
    "\n",
    "for line in readlines(mni)\n",
    "    pairs[split(line,\" -> \")[1]] = split(line,\" -> \")[2]\n",
    "end"
   ]
  },
  {
   "cell_type": "code",
   "execution_count": 2,
   "id": "c53e0f6d",
   "metadata": {},
   "outputs": [
    {
     "data": {
      "text/plain": [
       "insert_polymer (generic function with 1 method)"
      ]
     },
     "execution_count": 2,
     "metadata": {},
     "output_type": "execute_result"
    }
   ],
   "source": [
    "function insert_polymer(cur_polymer, dict)\n",
    "    new_polymer = []\n",
    "    for (a, b) in zip(cur_polymer[1:end-1], cur_polymer[2:end])\n",
    "        push!(new_polymer, string(a))\n",
    "        push!(new_polymer, string(dict[a*b]))\n",
    "    end\n",
    "    \n",
    "    push!(new_polymer, string(cur_polymer[end]))\n",
    "    \n",
    "    return new_polymer\n",
    "end"
   ]
  },
  {
   "cell_type": "code",
   "execution_count": 3,
   "id": "d60dd6ad",
   "metadata": {},
   "outputs": [],
   "source": [
    "polymer_list = []\n",
    "polymer_dict = copy(pairs)\n",
    "\n",
    "push!(polymer_list, polymer_template)\n",
    "\n",
    "for i in 1:10\n",
    "    push!(polymer_list, insert_polymer(polymer_list[end], polymer_dict));\n",
    "end"
   ]
  },
  {
   "cell_type": "code",
   "execution_count": 4,
   "id": "50dd4cf5",
   "metadata": {},
   "outputs": [],
   "source": [
    "counts = Dict()\n",
    "for elem in polymer_list[end]\n",
    "    if elem in keys(counts)\n",
    "        counts[elem] += 1\n",
    "    else\n",
    "        counts[elem] = 1\n",
    "    end\n",
    "end\n"
   ]
  },
  {
   "cell_type": "code",
   "execution_count": 5,
   "id": "1617cbac",
   "metadata": {},
   "outputs": [
    {
     "name": "stdout",
     "output_type": "stream",
     "text": [
      "(maxv, minv, maxv - minv) = (3962, 551, 3411)\n"
     ]
    }
   ],
   "source": [
    "minv = 10000000\n",
    "maxv = 0\n",
    "\n",
    "for val in values(counts)\n",
    "    minv = val < minv ? val : minv\n",
    "    maxv = val > maxv ? val : maxv\n",
    "end\n",
    "\n",
    "@show (maxv, minv, maxv-minv);"
   ]
  },
  {
   "cell_type": "code",
   "execution_count": 6,
   "id": "d0642822",
   "metadata": {},
   "outputs": [],
   "source": [
    "# Part 2"
   ]
  },
  {
   "cell_type": "code",
   "execution_count": 7,
   "id": "7bdf41cb",
   "metadata": {},
   "outputs": [
    {
     "data": {
      "text/plain": [
       "expand_and_count (generic function with 1 method)"
      ]
     },
     "execution_count": 7,
     "metadata": {},
     "output_type": "execute_result"
    }
   ],
   "source": [
    "function expand_and_count(pair, rule_dict, memo, cur_step, max_step, distinct_elem)\n",
    "    pair_str = string(pair[1] * pair[2])\n",
    "    \n",
    "    if sum(memo[pair_str][cur_step, 1:end]) > 0\n",
    "        #@show (\"Found\", pair_str, cur_step, memo[pair_str][cur_step, 1:end], sum(memo[pair_str][cur_step, 1:end]))\n",
    "        return memo[pair_str][cur_step, 1:end]\n",
    "    end\n",
    "    \n",
    "    if cur_step < max_step \n",
    "        left_pair = rule_dict[pair_str]\n",
    "        left_count = expand_and_count(left_pair, rule_dict, memo, cur_step + 1, max_step, distinct_elem)\n",
    "        right_pair = string(rule_dict[pair_str][end], string(pair[end]))\n",
    "        right_count = expand_and_count(right_pair, rule_dict, memo, cur_step + 1, max_step, distinct_elem)\n",
    "        \n",
    "        memo[pair_str][cur_step, 1:end] = left_count + right_count\n",
    "        \n",
    "        mid = string(rule_dict[pair_str][2])\n",
    "        idx_mid = indexin([mid], distinct_elem)[1]\n",
    "        memo[pair_str][cur_step, idx_mid] -= 1\n",
    "    else\n",
    "        \n",
    "        left = string(rule_dict[pair_str][1])\n",
    "        mid = string(rule_dict[pair_str][2])\n",
    "        right = string(pair[2])\n",
    "        \n",
    "        idx_left = indexin([left], distinct_elem)[1]\n",
    "        idx_mid = indexin([mid], distinct_elem)[1]\n",
    "        idx_right = indexin([right], distinct_elem)[1]\n",
    "        \n",
    "        #@show (pair_str, rule_dict[pair_str], cur_step, mid, idx_mid, distinct_elem, memo[pair_str][cur_step, idx_left])\n",
    "        memo[pair_str][cur_step, idx_left] += 1\n",
    "        memo[pair_str][cur_step, idx_mid] += 1\n",
    "        memo[pair_str][cur_step, idx_right] += 1\n",
    "    end\n",
    "    \n",
    "    #@show (\"Add\", pair_str, cur_step, memo[pair_str][cur_step, 1:end])\n",
    "    \n",
    "    return memo[pair_str][cur_step, 1:end]\n",
    "end"
   ]
  },
  {
   "cell_type": "code",
   "execution_count": 8,
   "id": "d3d6de5d",
   "metadata": {},
   "outputs": [
    {
     "data": {
      "text/plain": [
       "initialize_memo (generic function with 1 method)"
      ]
     },
     "execution_count": 8,
     "metadata": {},
     "output_type": "execute_result"
    }
   ],
   "source": [
    "function initialize_memo(pairs, steps, distinct_elem)\n",
    "    memo = Dict()\n",
    "    for pair in keys(pairs)\n",
    "        pair_counts = zeros(Int64, max, length(distinct_elem))\n",
    "        pair_str = string(pair)\n",
    "        memo[pair_str] = pair_counts\n",
    "    end\n",
    "    \n",
    "    return memo\n",
    "end    \n",
    "    "
   ]
  },
  {
   "cell_type": "code",
   "execution_count": 9,
   "id": "c4c60c32",
   "metadata": {},
   "outputs": [],
   "source": [
    "mni = open(\"input.txt\",\"r\");\n",
    "\n",
    "\n",
    "# reading file content line by line\n",
    "polymer_template = readline(mni)\n",
    "readline(mni)\n",
    "\n",
    "distinct_elem = []\n",
    "for elem in values(pairs)\n",
    "    if !(string(elem) in distinct_elem) \n",
    "        push!(distinct_elem, string(elem))\n",
    "    end\n",
    "end\n",
    "sort!(distinct_elem)\n",
    "\n",
    "pairs2 = Dict(); \n",
    "for line in readlines(mni)\n",
    "    pairs2[split(line,\" -> \")[1]] = string(split(line,\" -> \")[1][1]) * split(line,\" -> \")[2]\n",
    "end"
   ]
  },
  {
   "cell_type": "code",
   "execution_count": 10,
   "id": "0a4750de",
   "metadata": {
    "scrolled": true
   },
   "outputs": [],
   "source": [
    "max = 40 #steps\n",
    "memo = initialize_memo(pairs2, max, distinct_elem)\n",
    "tot_count = copy(memo[string(polymer_template[1], polymer_template[2])][1, 1:end])\n",
    "\n",
    "for i =  2:length(polymer_template)\n",
    "    pair = string(polymer_template[i-1], polymer_template[i])\n",
    "    cur_count = expand_and_count(pair, pairs2, memo, 1, max, distinct_elem)\n",
    "  \n",
    "    tot_count += cur_count \n",
    "end\n",
    "\n",
    "for i =  2:length(polymer_template) - 1  \n",
    "    cur = string(polymer_template[i])\n",
    "    idx = indexin([cur], distinct_elem)[1]\n",
    "    tot_count[idx] -= 1\n",
    "end"
   ]
  },
  {
   "cell_type": "code",
   "execution_count": 11,
   "id": "24305c64",
   "metadata": {
    "scrolled": false
   },
   "outputs": [
    {
     "data": {
      "text/plain": [
       "7477815755570"
      ]
     },
     "execution_count": 11,
     "metadata": {},
     "output_type": "execute_result"
    }
   ],
   "source": [
    "findmax(tot_count)[1] - findmin(tot_count)[1]"
   ]
  }
 ],
 "metadata": {
  "kernelspec": {
   "display_name": "Julia 1.7.0",
   "language": "julia",
   "name": "julia-1.7"
  },
  "language_info": {
   "file_extension": ".jl",
   "mimetype": "application/julia",
   "name": "julia",
   "version": "1.7.0"
  }
 },
 "nbformat": 4,
 "nbformat_minor": 5
}
