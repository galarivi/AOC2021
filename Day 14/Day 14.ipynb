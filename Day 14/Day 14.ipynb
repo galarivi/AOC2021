{
 "cells": [
  {
   "cell_type": "code",
   "execution_count": 26,
   "id": "dc0c706f",
   "metadata": {},
   "outputs": [],
   "source": [
    "# open file \n",
    "mni = open(\"input.txt\",\"r\");\n",
    "\n",
    "# reading file content line by line\n",
    "polymer_template = readline(mni)\n",
    "readline(mni)\n",
    "pairs = Dict(); \n",
    "\n",
    "for line in readlines(mni)\n",
    "    pairs[split(line,\" -> \")[1]] = split(line,\" -> \")[2]\n",
    "end"
   ]
  },
  {
   "cell_type": "code",
   "execution_count": 27,
   "id": "c53e0f6d",
   "metadata": {},
   "outputs": [
    {
     "data": {
      "text/plain": [
       "insert_polymer (generic function with 1 method)"
      ]
     },
     "execution_count": 27,
     "metadata": {},
     "output_type": "execute_result"
    }
   ],
   "source": [
    "function insert_polymer(cur_polymer, dict)\n",
    "    new_polymer = []\n",
    "    for (a, b) in zip(cur_polymer[1:end-1], cur_polymer[2:end])\n",
    "        push!(new_polymer, string(a))\n",
    "        push!(new_polymer, string(dict[a*b]))\n",
    "    end\n",
    "    \n",
    "    push!(new_polymer, string(cur_polymer[end]))\n",
    "    \n",
    "    return new_polymer\n",
    "end"
   ]
  },
  {
   "cell_type": "code",
   "execution_count": 28,
   "id": "d60dd6ad",
   "metadata": {},
   "outputs": [],
   "source": [
    "polymer_list = []\n",
    "polymer_dict = copy(pairs)\n",
    "\n",
    "push!(polymer_list, polymer_template)\n",
    "\n",
    "for i in 1:10\n",
    "    push!(polymer_list, insert_polymer(polymer_list[end], polymer_dict));\n",
    "end"
   ]
  },
  {
   "cell_type": "code",
   "execution_count": 29,
   "id": "50dd4cf5",
   "metadata": {},
   "outputs": [
    {
     "data": {
      "text/plain": [
       "Dict{Any, Any} with 10 entries:\n",
       "  \"F\" => 3962\n",
       "  \"B\" => 1690\n",
       "  \"S\" => 1782\n",
       "  \"C\" => 551\n",
       "  \"P\" => 3637\n",
       "  \"N\" => 2193\n",
       "  \"V\" => 1227\n",
       "  \"K\" => 999\n",
       "  \"H\" => 1645\n",
       "  \"O\" => 1771"
      ]
     },
     "execution_count": 29,
     "metadata": {},
     "output_type": "execute_result"
    }
   ],
   "source": [
    "counts = Dict()\n",
    "for elem in polymer_list[end]\n",
    "    if elem in keys(counts)\n",
    "        counts[elem] += 1\n",
    "    else\n",
    "        counts[elem] = 1\n",
    "    end\n",
    "end\n",
    "\n",
    "counts\n",
    "counts2 = copy(counts)"
   ]
  },
  {
   "cell_type": "code",
   "execution_count": 30,
   "id": "1617cbac",
   "metadata": {},
   "outputs": [
    {
     "name": "stdout",
     "output_type": "stream",
     "text": [
      "(maxv, minv, maxv - minv) = (3962, 551, 3411)\n"
     ]
    },
    {
     "data": {
      "text/plain": [
       "(3962, 551, 3411)"
      ]
     },
     "execution_count": 30,
     "metadata": {},
     "output_type": "execute_result"
    }
   ],
   "source": [
    "minv = 10000000\n",
    "maxv = 0\n",
    "\n",
    "for val in values(counts)\n",
    "    minv = val < minv ? val : minv\n",
    "    maxv = val > maxv ? val : maxv\n",
    "end\n",
    "\n",
    "@show (maxv, minv, maxv-minv)"
   ]
  },
  {
   "cell_type": "code",
   "execution_count": 31,
   "id": "d0642822",
   "metadata": {},
   "outputs": [],
   "source": [
    "# Part 2"
   ]
  },
  {
   "cell_type": "code",
   "execution_count": 57,
   "id": "7bdf41cb",
   "metadata": {},
   "outputs": [
    {
     "data": {
      "text/plain": [
       "expand_and_count (generic function with 1 method)"
      ]
     },
     "execution_count": 57,
     "metadata": {},
     "output_type": "execute_result"
    }
   ],
   "source": [
    "function expand_and_count(pair, rule_dict, memo, cur_step, max_step, distinct_elem)\n",
    "    pair_str = string(pair[1] * pair[2])\n",
    "    \n",
    "    if sum(memo[pair_str][cur_step, 1:end]) > 0\n",
    "        #@show (\"Found\", pair_str, cur_step, memo[pair_str][cur_step, 1:end], sum(memo[pair_str][cur_step, 1:end]))\n",
    "        return memo[pair_str][cur_step, 1:end]\n",
    "    end\n",
    "    \n",
    "    if cur_step < max_step \n",
    "        left_pair = rule_dict[pair_str]\n",
    "        left_count = expand_and_count(left_pair, rule_dict, memo, cur_step + 1, max_step, distinct_elem)\n",
    "        right_pair = string(rule_dict[pair_str][end], string(pair[end]))\n",
    "        right_count = expand_and_count(right_pair, rule_dict, memo, cur_step + 1, max_step, distinct_elem)\n",
    "        \n",
    "        memo[pair_str][cur_step, 1:end] = left_count + right_count\n",
    "        \n",
    "        mid = string(rule_dict[pair_str][2])\n",
    "        idx_mid = indexin([mid], distinct_elem)[1]\n",
    "        memo[pair_str][cur_step, idx_mid] -= 1\n",
    "    else\n",
    "        \n",
    "        left = string(rule_dict[pair_str][1])\n",
    "        mid = string(rule_dict[pair_str][2])\n",
    "        right = string(pair[2])\n",
    "        \n",
    "        idx_left = indexin([left], distinct_elem)[1]\n",
    "        idx_mid = indexin([mid], distinct_elem)[1]\n",
    "        idx_right = indexin([right], distinct_elem)[1]\n",
    "        \n",
    "        #@show (pair_str, rule_dict[pair_str], cur_step, mid, idx_mid, distinct_elem, memo[pair_str][cur_step, idx_left])\n",
    "        memo[pair_str][cur_step, idx_left] += 1\n",
    "        memo[pair_str][cur_step, idx_mid] += 1\n",
    "        memo[pair_str][cur_step, idx_right] += 1\n",
    "    end\n",
    "    \n",
    "    #@show (\"Add\", pair_str, cur_step, memo[pair_str][cur_step, 1:end])\n",
    "    \n",
    "    return memo[pair_str][cur_step, 1:end]\n",
    "end"
   ]
  },
  {
   "cell_type": "code",
   "execution_count": 58,
   "id": "3f6792c6",
   "metadata": {},
   "outputs": [
    {
     "data": {
      "text/plain": [
       "initialize_memo (generic function with 1 method)"
      ]
     },
     "execution_count": 58,
     "metadata": {},
     "output_type": "execute_result"
    }
   ],
   "source": [
    "function initialize_memo(pairs, steps, distinct_elem)\n",
    "    memo = Dict()\n",
    "    for pair in keys(pairs)\n",
    "        pair_counts = zeros(Int64, max, length(distinct_elem))\n",
    "        pair_str = string(pair)\n",
    "        memo[pair_str] = pair_counts\n",
    "    end\n",
    "    \n",
    "    return memo\n",
    "end    \n",
    "    "
   ]
  },
  {
   "cell_type": "code",
   "execution_count": 59,
   "id": "c4c60c32",
   "metadata": {},
   "outputs": [],
   "source": [
    "mni = open(\"input.txt\",\"r\");\n",
    "\n",
    "\n",
    "# reading file content line by line\n",
    "polymer_template = readline(mni)\n",
    "readline(mni)\n",
    "\n",
    "distinct_elem = []\n",
    "for elem in values(pairs)\n",
    "    if !(string(elem) in distinct_elem) \n",
    "        push!(distinct_elem, string(elem))\n",
    "    end\n",
    "end\n",
    "sort!(distinct_elem)\n",
    "\n",
    "pairs2 = Dict(); \n",
    "for line in readlines(mni)\n",
    "    pairs2[split(line,\" -> \")[1]] = string(split(line,\" -> \")[1][1]) * split(line,\" -> \")[2]\n",
    "end"
   ]
  },
  {
   "cell_type": "code",
   "execution_count": 61,
   "id": "0a4750de",
   "metadata": {
    "scrolled": true
   },
   "outputs": [
    {
     "name": "stdout",
     "output_type": "stream",
     "text": [
      "pair = string(polymer_template[i - 1], polymer_template[i]) = \"SN\"\n",
      "pair = string(polymer_template[i - 1], polymer_template[i]) = \"NP\"\n",
      "pair = string(polymer_template[i - 1], polymer_template[i]) = \"PV\"\n",
      "pair = string(polymer_template[i - 1], polymer_template[i]) = \"VP\"\n",
      "pair = string(polymer_template[i - 1], polymer_template[i]) = \"PF\"\n",
      "pair = string(polymer_template[i - 1], polymer_template[i]) = \"FC\"\n",
      "pair = string(polymer_template[i - 1], polymer_template[i]) = \"CP\"\n",
      "pair = string(polymer_template[i - 1], polymer_template[i]) = \"PP\"\n",
      "pair = string(polymer_template[i - 1], polymer_template[i]) = \"PK\"\n",
      "pair = string(polymer_template[i - 1], polymer_template[i]) = \"KS\"\n",
      "pair = string(polymer_template[i - 1], polymer_template[i]) = \"SB\"\n",
      "pair = string(polymer_template[i - 1], polymer_template[i]) = \"BN\"\n",
      "pair = string(polymer_template[i - 1], polymer_template[i]) = \"NS\"\n",
      "pair = string(polymer_template[i - 1], polymer_template[i]) = \"SP\"\n",
      "pair = string(polymer_template[i - 1], polymer_template[i]) = \"PS\"\n",
      "pair = string(polymer_template[i - 1], polymer_template[i]) = \"SP\"\n",
      "pair = string(polymer_template[i - 1], polymer_template[i]) = \"PS\"\n",
      "pair = string(polymer_template[i - 1], polymer_template[i]) = \"SO\"\n",
      "pair = string(polymer_template[i - 1], polymer_template[i]) = \"OF\"\n",
      "cur = string(polymer_template[i]) = \"N\"\n",
      "idx = (indexin([cur], distinct_elem))[1] = 6\n",
      "cur = string(polymer_template[i]) = \"P\"\n",
      "idx = (indexin([cur], distinct_elem))[1] = 8\n",
      "cur = string(polymer_template[i]) = \"V\"\n",
      "idx = (indexin([cur], distinct_elem))[1] = 10\n",
      "cur = string(polymer_template[i]) = \"P\"\n",
      "idx = (indexin([cur], distinct_elem))[1] = 8\n",
      "cur = string(polymer_template[i]) = \"F\"\n",
      "idx = (indexin([cur], distinct_elem))[1] = 3\n",
      "cur = string(polymer_template[i]) = \"C\"\n",
      "idx = (indexin([cur], distinct_elem))[1] = 2\n",
      "cur = string(polymer_template[i]) = \"P\"\n",
      "idx = (indexin([cur], distinct_elem))[1] = 8\n",
      "cur = string(polymer_template[i]) = \"P\"\n",
      "idx = (indexin([cur], distinct_elem))[1] = 8\n",
      "cur = string(polymer_template[i]) = \"K\"\n",
      "idx = (indexin([cur], distinct_elem))[1] = 5\n",
      "cur = string(polymer_template[i]) = \"S\"\n",
      "idx = (indexin([cur], distinct_elem))[1] = 9\n",
      "cur = string(polymer_template[i]) = \"B\"\n",
      "idx = (indexin([cur], distinct_elem))[1] = 1\n",
      "cur = string(polymer_template[i]) = \"N\"\n",
      "idx = (indexin([cur], distinct_elem))[1] = 6\n",
      "cur = string(polymer_template[i]) = \"S\"\n",
      "idx = (indexin([cur], distinct_elem))[1] = 9\n",
      "cur = string(polymer_template[i]) = \"P\"\n",
      "idx = (indexin([cur], distinct_elem))[1] = 8\n",
      "cur = string(polymer_template[i]) = \"S\"\n",
      "idx = (indexin([cur], distinct_elem))[1] = 9\n",
      "cur = string(polymer_template[i]) = \"P\"\n",
      "idx = (indexin([cur], distinct_elem))[1] = 8\n",
      "cur = string(polymer_template[i]) = \"S\"\n",
      "idx = (indexin([cur], distinct_elem))[1] = 9\n",
      "cur = string(polymer_template[i]) = \"O\"\n",
      "idx = (indexin([cur], distinct_elem))[1] = 7\n"
     ]
    }
   ],
   "source": [
    "max = 40 #steps\n",
    "memo = initialize_memo(pairs2, max, distinct_elem)\n",
    "tot_count = copy(memo[string(polymer_template[1], polymer_template[2])][1, 1:end])\n",
    "\n",
    "for i =  2:length(polymer_template)\n",
    "    @show pair = string(polymer_template[i-1], polymer_template[i])\n",
    "    cur_count = expand_and_count(pair, pairs2, memo, 1, max, distinct_elem)\n",
    "  \n",
    "    tot_count += cur_count \n",
    "    #for ckey in keys(cur_count)\n",
    "    #    if ckey in keys(tot_count)\n",
    "    #        tot_count[ckey] += cur_count[ckey]\n",
    "    #    else\n",
    "    #        tot_count[ckey] = cur_count[ckey]\n",
    "    #    end   \n",
    "    #end \n",
    "end\n",
    "\n",
    "for i =  2:length(polymer_template) - 1  \n",
    "    @show cur = string(polymer_template[i])\n",
    "    @show idx = indexin([cur], distinct_elem)[1]\n",
    "    tot_count[idx] -= 1\n",
    "end\n",
    "    \n",
    "\n"
   ]
  },
  {
   "cell_type": "code",
   "execution_count": 62,
   "id": "1a0d4c31",
   "metadata": {
    "scrolled": true
   },
   "outputs": [
    {
     "name": "stdout",
     "output_type": "stream",
     "text": [
      "polymer_template = \"SNPVPFCPPKSBNSPSPSOF\"\n",
      "distinct_elem = Any[\"B\", \"C\", \"F\", \"H\", \"K\", \"N\", \"O\", \"P\", \"S\", \"V\"]\n",
      "findmax(tot_count) = (7780153820616, 3)\n",
      "findmin(tot_count) = (302338065046, 2)\n"
     ]
    },
    {
     "data": {
      "text/plain": [
       "(302338065046, 2)"
      ]
     },
     "execution_count": 62,
     "metadata": {},
     "output_type": "execute_result"
    }
   ],
   "source": [
    "@show polymer_template\n",
    "@show distinct_elem\n",
    "tot_count\n",
    "\n",
    "@show findmax(tot_count)\n",
    "@show findmin(tot_count)"
   ]
  },
  {
   "cell_type": "code",
   "execution_count": 63,
   "id": "7d68791a",
   "metadata": {
    "scrolled": true
   },
   "outputs": [
    {
     "data": {
      "text/plain": [
       "Dict{Any, Any} with 10 entries:\n",
       "  \"F\" => 3962\n",
       "  \"B\" => 1690\n",
       "  \"S\" => 1782\n",
       "  \"C\" => 551\n",
       "  \"P\" => 3637\n",
       "  \"N\" => 2193\n",
       "  \"V\" => 1227\n",
       "  \"K\" => 999\n",
       "  \"H\" => 1645\n",
       "  \"O\" => 1771"
      ]
     },
     "execution_count": 63,
     "metadata": {},
     "output_type": "execute_result"
    }
   ],
   "source": [
    "counts2"
   ]
  },
  {
   "cell_type": "code",
   "execution_count": 64,
   "id": "e2a05794",
   "metadata": {},
   "outputs": [
    {
     "data": {
      "text/plain": [
       "7477815755570"
      ]
     },
     "execution_count": 64,
     "metadata": {},
     "output_type": "execute_result"
    }
   ],
   "source": [
    "7780153820616 -  302338065046"
   ]
  },
  {
   "cell_type": "code",
   "execution_count": 47,
   "id": "668e6cea",
   "metadata": {},
   "outputs": [
    {
     "data": {
      "text/plain": [
       "11×10 Matrix{Int64}:\n",
       " 234  79  173  170  90  229  291  364  226  193\n",
       " 125  42   76   75  39  109  155  181  116  107\n",
       "  64  23   31   33  17   49   88   88   61   59\n",
       "  34  11   13   14   6   22   46   42   34   35\n",
       "  16   6    5    6   2    9   27   20   19   19\n",
       "  10   3    2    2   0    3   14   10   10   11\n",
       "   6   2    0    1   0    1    7    4    6    6\n",
       "   4   1    0    0   0    0    3    1    4    4\n",
       "   1   1    0    0   0    0    1    0    3    3\n",
       "   1   0    0    0   0    0    1    0    2    1\n",
       "   1   0    0    0   0    0    0    0    1    1"
      ]
     },
     "execution_count": 47,
     "metadata": {},
     "output_type": "execute_result"
    }
   ],
   "source": [
    "memo[\"SV\"][end-10:end, 1:end]"
   ]
  },
  {
   "cell_type": "code",
   "execution_count": 13,
   "id": "a3a79571",
   "metadata": {},
   "outputs": [
    {
     "data": {
      "text/plain": [
       "4-element Vector{Any}:\n",
       " \"B\"\n",
       " \"C\"\n",
       " \"H\"\n",
       " \"N\""
      ]
     },
     "execution_count": 13,
     "metadata": {},
     "output_type": "execute_result"
    }
   ],
   "source": [
    "ckey = \"H\"\n",
    "a = indexin([ckey], distinct_elem)\n",
    "distinct_elem\n"
   ]
  },
  {
   "cell_type": "code",
   "execution_count": 14,
   "id": "685692d5",
   "metadata": {},
   "outputs": [
    {
     "data": {
      "text/plain": [
       "Dict{Any, Any} with 16 entries:\n",
       "  \"HB\" => [0 0 0 0; 250 88 74 101; … ; 2 1 2 0; 1 1 1 0]\n",
       "  \"CH\" => [0 0 0 0; 210 121 88 94; … ; 1 1 3 0; 1 1 1 0]\n",
       "  \"BC\" => [0 0 0 0; 342 1 0 170; … ; 3 1 0 1; 2 1 0 0]\n",
       "  \"HC\" => [0 0 0 0; 0 0 0 0; … ; 2 2 1 0; 1 1 1 0]\n",
       "  \"NN\" => [606 89 0 330; 0 0 0 0; … ; 0 0 0 0; 0 0 0 0]\n",
       "  \"HH\" => [0 0 0 0; 0 0 0 0; … ; 0 2 2 1; 0 0 2 1]\n",
       "  \"BH\" => [0 0 0 0; 0 0 0 0; … ; 1 0 3 1; 1 0 2 0]\n",
       "  \"CC\" => [0 0 0 0; 0 0 0 0; … ; 1 3 0 1; 0 2 0 1]\n",
       "  \"NB\" => [0 0 0 0; 342 0 0 171; … ; 3 0 0 2; 2 0 0 1]\n",
       "  \"BB\" => [0 0 0 0; 0 0 0 0; … ; 4 0 0 1; 2 0 0 1]\n",
       "  \"NH\" => [0 0 0 0; 0 0 0 0; … ; 2 1 1 1; 0 1 1 1]\n",
       "  \"CN\" => [0 0 0 0; 265 89 0 159; … ; 0 3 0 2; 0 2 0 1]\n",
       "  \"BN\" => [0 0 0 0; 0 0 0 0; … ; 3 0 0 2; 2 0 0 1]\n",
       "  \"HN\" => [0 0 0 0; 0 0 0 0; … ; 1 2 1 1; 0 1 1 1]\n",
       "  \"CB\" => [460 209 161 195; 0 0 0 0; … ; 2 2 1 0; 1 1 1 0]\n",
       "  \"NC\" => [683 1 0 341; 341 1 0 171; … ; 3 1 0 1; 1 1 0 1]"
      ]
     },
     "execution_count": 14,
     "metadata": {},
     "output_type": "execute_result"
    }
   ],
   "source": [
    "memo"
   ]
  },
  {
   "cell_type": "code",
   "execution_count": 15,
   "id": "7aa6e99f",
   "metadata": {},
   "outputs": [],
   "source": [
    "count_list = [] \n",
    "for polymer in polymer_list\n",
    "    counts = Dict()\n",
    "    for elem in polymer\n",
    "        if string(elem) in keys(counts)\n",
    "            counts[string(elem)] += 1\n",
    "        else\n",
    "            counts[string(elem)] = 1\n",
    "        end\n",
    "    end\n",
    "    \n",
    "    push!(count_list, counts)\n",
    "end"
   ]
  },
  {
   "cell_type": "code",
   "execution_count": 16,
   "id": "8a28750f",
   "metadata": {},
   "outputs": [
    {
     "data": {
      "text/plain": [
       "11-element Vector{Any}:\n",
       " Dict{Any, Any}(\"B\" => 1, \"C\" => 1, \"N\" => 2)\n",
       " Dict{Any, Any}(\"B\" => 2, \"C\" => 2, \"N\" => 2, \"H\" => 1)\n",
       " Dict{Any, Any}(\"B\" => 6, \"C\" => 4, \"N\" => 2, \"H\" => 1)\n",
       " Dict{Any, Any}(\"B\" => 11, \"C\" => 5, \"N\" => 5, \"H\" => 4)\n",
       " Dict{Any, Any}(\"B\" => 23, \"C\" => 10, \"N\" => 11, \"H\" => 5)\n",
       " Dict{Any, Any}(\"B\" => 46, \"C\" => 15, \"N\" => 23, \"H\" => 13)\n",
       " Dict{Any, Any}(\"B\" => 98, \"C\" => 31, \"N\" => 48, \"H\" => 16)\n",
       " Dict{Any, Any}(\"B\" => 199, \"C\" => 48, \"N\" => 99, \"H\" => 39)\n",
       " Dict{Any, Any}(\"B\" => 417, \"C\" => 96, \"N\" => 205, \"H\" => 51)\n",
       " Dict{Any, Any}(\"B\" => 845, \"C\" => 152, \"N\" => 422, \"H\" => 118)\n",
       " Dict{Any, Any}(\"B\" => 1749, \"C\" => 298, \"N\" => 865, \"H\" => 161)"
      ]
     },
     "execution_count": 16,
     "metadata": {},
     "output_type": "execute_result"
    }
   ],
   "source": [
    "count_list"
   ]
  },
  {
   "cell_type": "code",
   "execution_count": 17,
   "id": "a9607921",
   "metadata": {},
   "outputs": [
    {
     "ename": "LoadError",
     "evalue": "KeyError: key \"FN\" not found",
     "output_type": "error",
     "traceback": [
      "KeyError: key \"FN\" not found",
      "",
      "Stacktrace:",
      " [1] getindex(h::Dict{Any, Any}, key::String)",
      "   @ Base .\\dict.jl:481",
      " [2] macro expansion",
      "   @ .\\show.jl:1047 [inlined]",
      " [3] top-level scope",
      "   @ .\\In[17]:13",
      " [4] eval",
      "   @ .\\boot.jl:373 [inlined]",
      " [5] include_string(mapexpr::typeof(REPL.softscope), mod::Module, code::String, filename::String)",
      "   @ Base .\\loading.jl:1196"
     ]
    }
   ],
   "source": [
    "#F       N\n",
    "#F   S   N\n",
    "#F K S B N\n",
    "#FSKOSSBPN\n",
    "#\n",
    "\n",
    "id(s) = indexin([s], distinct_elem)[1]\n",
    "pair = \"FN\"\n",
    "step = 8\n",
    "\n",
    "\n",
    "for (i, elem) in enumerate(distinct_elem)\n",
    "    @show (elem, memo[pair][step, id(elem)])\n",
    "end"
   ]
  },
  {
   "cell_type": "code",
   "execution_count": 18,
   "id": "cb92dd9a",
   "metadata": {},
   "outputs": [
    {
     "data": {
      "text/plain": [
       "\"B\""
      ]
     },
     "execution_count": 18,
     "metadata": {},
     "output_type": "execute_result"
    }
   ],
   "source": [
    "\n",
    "pairs[\"BN\"]"
   ]
  },
  {
   "cell_type": "code",
   "execution_count": 19,
   "id": "d2f0071a",
   "metadata": {
    "scrolled": false
   },
   "outputs": [
    {
     "ename": "LoadError",
     "evalue": "KeyError: key \"FN\" not found",
     "output_type": "error",
     "traceback": [
      "KeyError: key \"FN\" not found",
      "",
      "Stacktrace:",
      " [1] getindex",
      "   @ .\\dict.jl:481 [inlined]",
      " [2] expand_and_count(pair::String, rule_dict::Dict{Any, Any}, memo::Dict{Any, Any}, cur_step::Int64, max_step::Int64, distinct_elem::Vector{Any})",
      "   @ Main .\\In[7]:4",
      " [3] top-level scope",
      "   @ In[19]:24",
      " [4] eval",
      "   @ .\\boot.jl:373 [inlined]",
      " [5] include_string(mapexpr::typeof(REPL.softscope), mod::Module, code::String, filename::String)",
      "   @ Base .\\loading.jl:1196"
     ]
    }
   ],
   "source": [
    "mni = open(\"input.txt\",\"r\");\n",
    "\n",
    "\n",
    "# reading file content line by line\n",
    "polymer_template = readline(mni)\n",
    "readline(mni)\n",
    "\n",
    "distinct_elem = []\n",
    "for elem in values(pairs)\n",
    "    if !(string(elem) in distinct_elem) \n",
    "        push!(distinct_elem, string(elem))\n",
    "    end\n",
    "end\n",
    "sort!(distinct_elem)\n",
    "\n",
    "pairs2 = Dict(); \n",
    "for line in readlines(mni)\n",
    "    pairs2[split(line,\" -> \")[1]] = string(split(line,\" -> \")[1][1]) * split(line,\" -> \")[2]\n",
    "end\n",
    "\n",
    "max = 10 #steps\n",
    "memo = initialize_memo(pairs2, max, distinct_elem)\n",
    "\n",
    "expand_and_count(\"FN\", pairs2, memo, 1, max, distinct_elem);"
   ]
  },
  {
   "cell_type": "code",
   "execution_count": 53,
   "id": "15e93687",
   "metadata": {},
   "outputs": [
    {
     "name": "stdout",
     "output_type": "stream",
     "text": [
      "distinct_elem = Any[\"B\", \"C\", \"F\", \"H\", \"K\", \"N\", \"O\", \"P\", \"S\", \"V\"]\n"
     ]
    },
    {
     "data": {
      "text/plain": [
       "20×10 Matrix{Int64}:\n",
       " 87920  29201  181441  120076  64871  124352  94079  181686  105562  59389\n",
       " 45297  15074   86418   59408  32136   62588  48589   90627   53186  30966\n",
       " 23359   7793   41010   29253  15894   31508  25203   45243   26727  16155\n",
       " 12077   4029   19340   14361   7797   15805  13081   22649   13464   8470\n",
       "  6239   2100    9084    6999   3819    7932   6825   11338    6750   4451\n",
       "  3243   1084    4218    3396   1848    3950   3575    5699    3407   2349\n",
       "  1682    571    1952    1628    895    1970   1876    2854    1709   1248\n",
       "   874    294     885     776    420     968   1001    1443     867    665\n",
       "   452    154     401     362    199     477    532     722     436    362\n",
       "   234     79     173     170     90     229    291     364     226    193\n",
       "   125     42      76      75     39     109    155     181     116    107\n",
       "    64     23      31      33     17      49     88      88      61     59\n",
       "    34     11      13      14      6      22     46      42      34     35\n",
       "    16      6       5       6      2       9     27      20      19     19\n",
       "    10      3       2       2      0       3     14      10      10     11\n",
       "     6      2       0       1      0       1      7       4       6      6\n",
       "     4      1       0       0      0       0      3       1       4      4\n",
       "     1      1       0       0      0       0      1       0       3      3\n",
       "     1      0       0       0      0       0      1       0       2      1\n",
       "     1      0       0       0      0       0      0       0       1      1"
      ]
     },
     "execution_count": 53,
     "metadata": {},
     "output_type": "execute_result"
    }
   ],
   "source": [
    "@show distinct_elem\n",
    "\n",
    "memo[\"SV\"][1, 1:end]"
   ]
  },
  {
   "cell_type": "code",
   "execution_count": 54,
   "id": "3e235564",
   "metadata": {
    "scrolled": true
   },
   "outputs": [
    {
     "data": {
      "text/plain": [
       "Dict{Any, Any} with 10 entries:\n",
       "  \"F\" => 7058172\n",
       "  \"B\" => 2473376\n",
       "  \"S\" => 3237688\n",
       "  \"C\" => 814333\n",
       "  \"P\" => 5981203\n",
       "  \"N\" => 3787781\n",
       "  \"V\" => 1600401\n",
       "  \"K\" => 2084943\n",
       "  \"H\" => 3905381\n",
       "  \"O\" => 2611155"
      ]
     },
     "execution_count": 54,
     "metadata": {},
     "output_type": "execute_result"
    }
   ],
   "source": [
    "polymer_list = []\n",
    "polymer_dict = copy(pairs)\n",
    "\n",
    "push!(polymer_list, \"SV\")\n",
    "\n",
    "for i in 1:25\n",
    "    push!(polymer_list, insert_polymer(polymer_list[end], polymer_dict));\n",
    "end\n",
    "counts = Dict()\n",
    "for elem in polymer_list[end]\n",
    "    if elem in keys(counts)\n",
    "        counts[elem] += 1\n",
    "    else\n",
    "        counts[elem] = 1\n",
    "    end\n",
    "end\n",
    "\n",
    "counts"
   ]
  },
  {
   "cell_type": "code",
   "execution_count": null,
   "id": "f4c9acc9",
   "metadata": {},
   "outputs": [],
   "source": []
  },
  {
   "cell_type": "code",
   "execution_count": null,
   "id": "3926d4f6",
   "metadata": {},
   "outputs": [],
   "source": []
  },
  {
   "cell_type": "code",
   "execution_count": null,
   "id": "dab1bd2a",
   "metadata": {},
   "outputs": [],
   "source": []
  },
  {
   "cell_type": "code",
   "execution_count": null,
   "id": "0c90c6f9",
   "metadata": {},
   "outputs": [],
   "source": []
  },
  {
   "cell_type": "code",
   "execution_count": 22,
   "id": "a349f0ca",
   "metadata": {},
   "outputs": [
    {
     "ename": "LoadError",
     "evalue": "syntax: incomplete: \"function\" at In[22]:1 requires end",
     "output_type": "error",
     "traceback": [
      "syntax: incomplete: \"function\" at In[22]:1 requires end",
      "",
      "Stacktrace:",
      " [1] top-level scope",
      "   @ In[22]:1",
      " [2] eval",
      "   @ .\\boot.jl:373 [inlined]",
      " [3] include_string(mapexpr::typeof(REPL.softscope), mod::Module, code::String, filename::String)",
      "   @ Base .\\loading.jl:1196"
     ]
    }
   ],
   "source": [
    "function expand_and_count(pair, rule_dict, memo, cur_step, max_step)\n",
    "    \n",
    "    memokey = string(string(pair[1]), string(pair[2]))\n",
    "    \n",
    "    if memokey in keys(memo)\n",
    "        if(memo[memokey])\n",
    "        return memo_arr[memokey]\n",
    "    end\n",
    "    \n",
    "    count = Dict()\n",
    "    \n",
    "    if cur_step < max_step \n",
    "        \n",
    "        left_pair = rule_dict[string(pair[1] * pair[2])]\n",
    "        left_count = expand_and_count(left_pair, rule_dict, memo_arr, cur_step + 1, max_step)\n",
    "        right_pair = string(rule_dict[string(pair[1] * pair[2])][end], string(pair[end]))\n",
    "        right_count = expand_and_count(right_pair, rule_dict, memo_arr, cur_step + 1, max_step)\n",
    "        \n",
    "        for lkey in keys(left_count)\n",
    "            count[lkey] = left_count[lkey]\n",
    "        end\n",
    "        \n",
    "         for rkey in keys(right_count)\n",
    "            if rkey in keys(count)\n",
    "                count[rkey] += right_count[rkey]\n",
    "            else\n",
    "                count[rkey] = right_count[rkey]\n",
    "            end   \n",
    "        end\n",
    "    else\n",
    "        count[string(pair[1])] = 1\n",
    "        \n",
    "        if string(rule_dict[string(pair[1] * pair[2])][2]) in keys(count)\n",
    "            count[string(rule_dict[string(pair[1] * pair[2])][2])] += 1\n",
    "        else\n",
    "            count[string(rule_dict[string(pair[1] * pair[2])][2])] = 1\n",
    "        end\n",
    "        \n",
    "        if string(pair[2]) in keys(count)\n",
    "            count[string(pair[2])] += 1\n",
    "        else\n",
    "            count[string(pair[2])] = 1\n",
    "        end\n",
    "    end\n",
    "    \n",
    "    @show [memokey, count]\n",
    "    memo_arr[memokey] = count\n",
    "                    \n",
    "    return count\n",
    "end"
   ]
  },
  {
   "cell_type": "code",
   "execution_count": null,
   "id": "7416b034",
   "metadata": {},
   "outputs": [],
   "source": []
  },
  {
   "cell_type": "code",
   "execution_count": null,
   "id": "3ec699fd",
   "metadata": {},
   "outputs": [],
   "source": []
  },
  {
   "cell_type": "code",
   "execution_count": null,
   "id": "11276e40",
   "metadata": {},
   "outputs": [],
   "source": []
  },
  {
   "cell_type": "code",
   "execution_count": null,
   "id": "c57c7eb5",
   "metadata": {},
   "outputs": [],
   "source": []
  },
  {
   "cell_type": "code",
   "execution_count": null,
   "id": "88d19bf9",
   "metadata": {},
   "outputs": [],
   "source": []
  }
 ],
 "metadata": {
  "kernelspec": {
   "display_name": "Julia 1.7.0",
   "language": "julia",
   "name": "julia-1.7"
  },
  "language_info": {
   "file_extension": ".jl",
   "mimetype": "application/julia",
   "name": "julia",
   "version": "1.7.0"
  }
 },
 "nbformat": 4,
 "nbformat_minor": 5
}
