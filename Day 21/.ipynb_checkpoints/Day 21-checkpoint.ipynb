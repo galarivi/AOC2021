{
 "cells": [
  {
   "cell_type": "code",
   "execution_count": 2,
   "id": "772f96d5",
   "metadata": {},
   "outputs": [
    {
     "data": {
      "text/plain": [
       "nr (generic function with 1 method)"
      ]
     },
     "execution_count": 2,
     "metadata": {},
     "output_type": "execute_result"
    }
   ],
   "source": [
    "function nr(r) \n",
    "    return mod1(r, 100) \n",
    "end"
   ]
  },
  {
   "cell_type": "code",
   "execution_count": 3,
   "id": "e59d2d6f",
   "metadata": {},
   "outputs": [
    {
     "name": "stdout",
     "output_type": "stream",
     "text": [
      "(win_roll, p1_score, p2_score) = (1098, 913, 1000)\n"
     ]
    },
    {
     "data": {
      "text/plain": [
       "1002474"
      ]
     },
     "execution_count": 3,
     "metadata": {},
     "output_type": "execute_result"
    }
   ],
   "source": [
    "# input is simple here\n",
    "p1 = 5\n",
    "p2 = 6\n",
    "p1_score = 0\n",
    "p2_score = 0 \n",
    "\n",
    "d = 1\n",
    "\n",
    "winning_score = 1000\n",
    "win_roll = 0\n",
    "turn = 1\n",
    "\n",
    "while true\n",
    "    if turn == 1\n",
    "        turn = 2\n",
    "        p1_before = p1\n",
    "        p1 = mod1(p1+sum([nr(d),nr(d+1),nr(d+2)]), 10)\n",
    "        p1_score += p1\n",
    "        win_roll += 3\n",
    "        #@show (nr(d),nr(d+1),nr(d+2)), p1_before, p1, p1_score\n",
    "        if p1_score >= winning_score\n",
    "            break\n",
    "        end\n",
    "    else\n",
    "        turn = 1\n",
    "        p2_before = p2\n",
    "        p2 = mod1(p2+sum([nr(d),nr(d+1),nr(d+2)]), 10)\n",
    "        p2_score += p2\n",
    "        win_roll += 3\n",
    "        #@show (nr(d),nr(d+1),nr(d+2)), p2_before, p2, p2_score\n",
    "        if p2_score >= winning_score\n",
    "            break\n",
    "        end\n",
    "    end\n",
    "    d = nr(d+3)\n",
    "end\n",
    "@show win_roll, p1_score, p2_score\n",
    "min(p1_score, p2_score) * win_roll"
   ]
  },
  {
   "cell_type": "code",
   "execution_count": 84,
   "id": "da4f9ed9",
   "metadata": {},
   "outputs": [
    {
     "data": {
      "text/plain": [
       "score (generic function with 1 method)"
      ]
     },
     "execution_count": 84,
     "metadata": {},
     "output_type": "execute_result"
    }
   ],
   "source": [
    "# Part 2\n",
    "# Min score is 1 each turn, so at most, player 1 will win after 21 turns\n",
    "# Each turn each player rolls all numbers from 3 to 9\n",
    "# Can start on any wheel position, can create a map for score count increases each roll\n",
    "\n",
    "function roll_and_score(position)\n",
    "    scores = zeros(Int64, 1,10)\n",
    "    for d1 in 1:3, d2 in 1:3, d3 in 1:3\n",
    "        roll = d1+d2+d3\n",
    "        new_position = mod1(position + d1 + d2 + d3, 10)\n",
    "        scores[new_position] +=1\n",
    "    end\n",
    "    return scores\n",
    "end\n",
    "\n",
    "function score(round_score, wheel_pos)\n",
    "    hist = roll\n",
    "    next_score = zeros(Int64,1,1010)\n",
    "    \n",
    "    for i in 1:999\n",
    "        Si = transpose(score_counts[1]) * round_score[i]\n",
    "        next_score[i:i+ 9] = next_score[i:i+ 9] .+ Si\n",
    "    end\n",
    "    return next_score[1:999], sum(next_score[1000:end])\n",
    "end"
   ]
  },
  {
   "cell_type": "code",
   "execution_count": 40,
   "id": "e3c6f7b2",
   "metadata": {},
   "outputs": [],
   "source": [
    "score_counts = []\n",
    "for i in 1:10\n",
    "    push!(score_counts, roll_and_score(i))\n",
    "end"
   ]
  },
  {
   "cell_type": "code",
   "execution_count": 41,
   "id": "20debdd7",
   "metadata": {},
   "outputs": [],
   "source": [
    "p1 = zeros(Int64,1,1000)\n",
    "p1[5] = 1\n",
    "p2 = zeros(Int64,1,1000)\n",
    "p2[6] = 1\n",
    "p1_scores = []\n",
    "p2_scores = []\n",
    "\n",
    "push!(p1_scores, p1)\n",
    "push!(p2_scores, p2 )\n",
    "\n",
    "for i in 2:21\n",
    "    push!(p1_scores, score(p1_scores[end]))\n",
    "    push!(p2_scores, score(p2_scores[end])) \n",
    "end\n"
   ]
  },
  {
   "cell_type": "code",
   "execution_count": 92,
   "id": "5152f960",
   "metadata": {},
   "outputs": [
    {
     "data": {
      "text/plain": [
       "729"
      ]
     },
     "execution_count": 92,
     "metadata": {},
     "output_type": "execute_result"
    }
   ],
   "source": [
    "sum(p1_scores[2])"
   ]
  },
  {
   "cell_type": "code",
   "execution_count": 11,
   "id": "0d621bf2",
   "metadata": {},
   "outputs": [
    {
     "data": {
      "text/plain": [
       "1×10 Matrix{Int64}:\n",
       " 3  1  0  0  0  1  3  6  7  6"
      ]
     },
     "execution_count": 11,
     "metadata": {},
     "output_type": "execute_result"
    }
   ],
   "source": [
    "score_counts[3]"
   ]
  },
  {
   "cell_type": "code",
   "execution_count": 50,
   "id": "d3655e17",
   "metadata": {},
   "outputs": [
    {
     "data": {
      "text/plain": [
       "1"
      ]
     },
     "execution_count": 50,
     "metadata": {},
     "output_type": "execute_result"
    }
   ],
   "source": [
    "test = zeros(Int64,1,1000)\n",
    "test[4] = 1"
   ]
  },
  {
   "cell_type": "code",
   "execution_count": 85,
   "id": "c1fab2c8",
   "metadata": {},
   "outputs": [
    {
     "data": {
      "text/plain": [
       "2"
      ]
     },
     "execution_count": 85,
     "metadata": {},
     "output_type": "execute_result"
    }
   ],
   "source": [
    "test1 = zeros(Int64,999,1\n",
    "test1[4] = 1\n",
    "test1[2] = 2"
   ]
  },
  {
   "cell_type": "code",
   "execution_count": 93,
   "id": "c1175132",
   "metadata": {},
   "outputs": [
    {
     "ename": "LoadError",
     "evalue": "UndefVarError: state not defined",
     "output_type": "error",
     "traceback": [
      "UndefVarError: state not defined",
      "",
      "Stacktrace:",
      " [1] top-level scope",
      "   @ In[93]:1",
      " [2] eval",
      "   @ .\\boot.jl:373 [inlined]",
      " [3] include_string(mapexpr::typeof(REPL.softscope), mod::Module, code::String, filename::String)",
      "   @ Base .\\loading.jl:1196"
     ]
    }
   ],
   "source": [
    "round = [state]\n",
    "round =[score; pos_hist]\n",
    "round(state, cur_wins)\n",
    "\n",
    "function dirac_roll(score)\n",
    "    new_score = []\n",
    "    for (val, pos_hist) in score\n",
    "        \n",
    "    end\n",
    "    \n",
    "    return new_state\n",
    "end"
   ]
  },
  {
   "cell_type": "code",
   "execution_count": 104,
   "id": "dae70226",
   "metadata": {},
   "outputs": [
    {
     "data": {
      "text/plain": [
       "roll (generic function with 1 method)"
      ]
     },
     "execution_count": 104,
     "metadata": {},
     "output_type": "execute_result"
    }
   ],
   "source": [
    "\n",
    "function initialize_state()\n",
    "    new_state = []\n",
    "    for i in 1:1010\n",
    "        push!(new_state,zeros(Int64,10))\n",
    "    end\n",
    "end\n",
    "function apply_spread(state, score, spread)\n",
    "    new_state = copy(state)\n",
    "    for (i, count) in enumerate(spread)\n",
    "        new_state[i+score][i] += count\n",
    "    end\n",
    "    return new_state\n",
    "end\n",
    "function roll(state)\n",
    "    new_state = initialize_state()\n",
    "    \n",
    "    for (score, pos_hist) in enumerate(state)\n",
    "        spread = zeros(Int64,10)\n",
    "        for (pos, pos_count) in enumerate(pos_hist)\n",
    "            spread = spread .+ (roll_and_score(pos) .* pos_count)\n",
    "        end\n",
    "        \n",
    "        new_state = apply_spread(state, score, spread)\n",
    "    end\n",
    "    \n",
    "    return new_state[1:1001], sum(x->(sum(x)) for x in new_state[1002:end])\n",
    "end"
   ]
  },
  {
   "cell_type": "code",
   "execution_count": 105,
   "id": "d2c30b72",
   "metadata": {},
   "outputs": [
    {
     "data": {
      "text/plain": [
       "1×10 Matrix{Int64}:\n",
       " 0  0  0  1  3  6  7  6  3  1"
      ]
     },
     "execution_count": 105,
     "metadata": {},
     "output_type": "execute_result"
    }
   ],
   "source": [
    "score_hist = roll_and_score(1)\n",
    "score_hist"
   ]
  },
  {
   "cell_type": "code",
   "execution_count": 103,
   "id": "f64fdfdc",
   "metadata": {},
   "outputs": [
    {
     "ename": "LoadError",
     "evalue": "MethodError: no method matching (Array{Vector{Int64}})(::Vector{Int64}, ::Int64)\n\u001b[0mClosest candidates are:\n\u001b[0m  (Array{T})(\u001b[91m::LinearAlgebra.UniformScaling\u001b[39m, ::Integer, \u001b[91m::Integer\u001b[39m) where T at C:\\Users\\Gerald\\AppData\\Local\\Programs\\Julia-1.7.0\\share\\julia\\stdlib\\v1.7\\LinearAlgebra\\src\\uniformscaling.jl:495\n\u001b[0m  (Array{T})(::AbstractArray{S, N}) where {T, N, S} at C:\\Users\\Gerald\\AppData\\Local\\Programs\\Julia-1.7.0\\share\\julia\\base\\boot.jl:482\n\u001b[0m  (Array{T})(\u001b[91m::Nothing\u001b[39m, ::Any...) where T at C:\\Users\\Gerald\\AppData\\Local\\Programs\\Julia-1.7.0\\share\\julia\\base\\baseext.jl:45\n\u001b[0m  ...",
     "output_type": "error",
     "traceback": [
      "MethodError: no method matching (Array{Vector{Int64}})(::Vector{Int64}, ::Int64)\n\u001b[0mClosest candidates are:\n\u001b[0m  (Array{T})(\u001b[91m::LinearAlgebra.UniformScaling\u001b[39m, ::Integer, \u001b[91m::Integer\u001b[39m) where T at C:\\Users\\Gerald\\AppData\\Local\\Programs\\Julia-1.7.0\\share\\julia\\stdlib\\v1.7\\LinearAlgebra\\src\\uniformscaling.jl:495\n\u001b[0m  (Array{T})(::AbstractArray{S, N}) where {T, N, S} at C:\\Users\\Gerald\\AppData\\Local\\Programs\\Julia-1.7.0\\share\\julia\\base\\boot.jl:482\n\u001b[0m  (Array{T})(\u001b[91m::Nothing\u001b[39m, ::Any...) where T at C:\\Users\\Gerald\\AppData\\Local\\Programs\\Julia-1.7.0\\share\\julia\\base\\baseext.jl:45\n\u001b[0m  ...",
      "",
      "Stacktrace:",
      " [1] top-level scope",
      "   @ In[103]:2",
      " [2] eval",
      "   @ .\\boot.jl:373 [inlined]",
      " [3] include_string(mapexpr::typeof(REPL.softscope), mod::Module, code::String, filename::String)",
      "   @ Base .\\loading.jl:1196"
     ]
    }
   ],
   "source": [
    "p1 = initialize_state()\n",
    "p1[1][4]\n",
    "new_state = Array{typeof(state0)}(zeros(Int64, 10), 1009)"
   ]
  },
  {
   "cell_type": "code",
   "execution_count": 100,
   "id": "b9bd0aef",
   "metadata": {},
   "outputs": [
    {
     "data": {
      "text/plain": [
       "1009-element Vector{Vector{Int64}}:\n",
       " #undef\n",
       " #undef\n",
       " #undef\n",
       " #undef\n",
       "    [0, 0, 0, 0, 0, 0, 0, 0, 0, 0]\n",
       " #undef\n",
       " #undef\n",
       " #undef\n",
       " #undef\n",
       " #undef\n",
       " #undef\n",
       " #undef\n",
       " #undef\n",
       "   ⋮\n",
       " #undef\n",
       " #undef\n",
       " #undef\n",
       " #undef\n",
       " #undef\n",
       " #undef\n",
       " #undef\n",
       " #undef\n",
       " #undef\n",
       " #undef\n",
       " #undef\n",
       " #undef"
      ]
     },
     "execution_count": 100,
     "metadata": {},
     "output_type": "execute_result"
    }
   ],
   "source": [
    "new_state"
   ]
  },
  {
   "cell_type": "code",
   "execution_count": 108,
   "id": "48520f7d",
   "metadata": {},
   "outputs": [
    {
     "data": {
      "text/plain": [
       "1×10 Matrix{Int64}:\n",
       " 0  0  0  0  0  0  0  0  0  0"
      ]
     },
     "execution_count": 108,
     "metadata": {},
     "output_type": "execute_result"
    }
   ],
   "source": [
    "(roll_and_score(2) .* 0)"
   ]
  },
  {
   "cell_type": "code",
   "execution_count": null,
   "id": "82b05658",
   "metadata": {},
   "outputs": [],
   "source": []
  }
 ],
 "metadata": {
  "kernelspec": {
   "display_name": "Julia 1.7.0",
   "language": "julia",
   "name": "julia-1.7"
  },
  "language_info": {
   "file_extension": ".jl",
   "mimetype": "application/julia",
   "name": "julia",
   "version": "1.7.0"
  }
 },
 "nbformat": 4,
 "nbformat_minor": 5
}
