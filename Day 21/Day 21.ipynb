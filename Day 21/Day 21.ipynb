{
 "cells": [
  {
   "cell_type": "code",
   "execution_count": 1,
   "id": "e3c0d11d",
   "metadata": {
    "scrolled": true
   },
   "outputs": [
    {
     "data": {
      "text/plain": [
       "nr (generic function with 1 method)"
      ]
     },
     "execution_count": 1,
     "metadata": {},
     "output_type": "execute_result"
    }
   ],
   "source": [
    "function nr(r) \n",
    "    return mod1(r, 100) \n",
    "end"
   ]
  },
  {
   "cell_type": "code",
   "execution_count": 3,
   "id": "26e845c4",
   "metadata": {},
   "outputs": [
    {
     "name": "stdout",
     "output_type": "stream",
     "text": [
      "(win_roll, p1_score, p2_score) = (1098, 913, 1000)\n"
     ]
    },
    {
     "data": {
      "text/plain": [
       "1002474"
      ]
     },
     "execution_count": 3,
     "metadata": {},
     "output_type": "execute_result"
    }
   ],
   "source": [
    "# Part 1 input is simple here\n",
    "p1 = 5\n",
    "p2 = 6\n",
    "p1_score = 0\n",
    "p2_score = 0 \n",
    "\n",
    "d = 1\n",
    "\n",
    "ws1 = 1000\n",
    "win_roll = 0\n",
    "turn = 1\n",
    "\n",
    "while true\n",
    "    if turn == 1\n",
    "        turn = 2\n",
    "        p1_before = p1\n",
    "        p1 = mod1(p1+sum([nr(d),nr(d+1),nr(d+2)]), 10)\n",
    "        p1_score += p1\n",
    "        win_roll += 3\n",
    "        #@show (nr(d),nr(d+1),nr(d+2)), p1_before, p1, p1_score\n",
    "        if p1_score >= ws1\n",
    "            break\n",
    "        end\n",
    "    else\n",
    "        turn = 1\n",
    "        p2_before = p2\n",
    "        p2 = mod1(p2+sum([nr(d),nr(d+1),nr(d+2)]), 10)\n",
    "        p2_score += p2\n",
    "        win_roll += 3\n",
    "        #@show (nr(d),nr(d+1),nr(d+2)), p2_before, p2, p2_score\n",
    "        if p2_score >= ws1\n",
    "            break\n",
    "        end\n",
    "    end\n",
    "    d = nr(d+3)\n",
    "end\n",
    "@show win_roll, p1_score, p2_score\n",
    "min(p1_score, p2_score) * win_roll"
   ]
  },
  {
   "cell_type": "code",
   "execution_count": 2,
   "id": "2cc8c24e",
   "metadata": {},
   "outputs": [
    {
     "data": {
      "text/plain": [
       "22"
      ]
     },
     "execution_count": 2,
     "metadata": {},
     "output_type": "execute_result"
    }
   ],
   "source": [
    "const winning_score = 22"
   ]
  },
  {
   "cell_type": "code",
   "execution_count": 5,
   "id": "90f80304",
   "metadata": {},
   "outputs": [
    {
     "data": {
      "text/plain": [
       "roll (generic function with 2 methods)"
      ]
     },
     "execution_count": 5,
     "metadata": {},
     "output_type": "execute_result"
    }
   ],
   "source": [
    "# Part 2\n",
    "# Min score is 1 each turn, so at most, player 1 will win after 21 turns\n",
    "# Each turn each player rolls all numbers from 3 to 9\n",
    "# Can start on any wheel position, can create a map for score count increases each roll\n",
    "cache = Dict{typeof((1, 2, Int128(0), Int128(0))), typeof(Int128[0, 0])}()\n",
    "function roll()\n",
    "    return [d1 + d2 + d3 for d1 in 1:3, d2 in 1:3, d3 in 1:3]\n",
    "end\n",
    "\n",
    "function u(p1, p2, s1, s2)\n",
    "    k = (p1, p2, s1, s2)\n",
    "    \n",
    "    if haskey(cache, k)\n",
    "        return cache[k]\n",
    "    end\n",
    "    win_count = Int128[0, 0]\n",
    "    \n",
    "    for r in roll()\n",
    "        p11 = mod1(r + p1, 10)\n",
    "        s11 = p11 + s1\n",
    "        \n",
    "        if s11 >= 21\n",
    "            win_count[1] += 1\n",
    "        else\n",
    "            y, x = u(p2, p11, s2, s11)\n",
    "            \n",
    "            win_count[1] += x\n",
    "            win_count[2] += y\n",
    "        end\n",
    "    end\n",
    "    cache[k] = win_count\n",
    "    return win_count\n",
    "end\n",
    "function roll_and_score(position)\n",
    "    scores = zeros(Int64, 1,10)\n",
    "    for d1 in 1:3, d2 in 1:3, d3 in 1:3\n",
    "        roll = d1+d2+d3\n",
    "        new_position = mod1(position + d1 + d2 + d3, 10)\n",
    "        scores[new_position] +=1\n",
    "    end\n",
    "    return scores\n",
    "end\n",
    "function initialize_state()\n",
    "    new_state = []\n",
    "    for i in 1:winning_score + 113\n",
    "        push!(new_state,zeros(Int64,1,10))\n",
    "    end\n",
    "    return new_state\n",
    "end\n",
    "function apply_spread(state, score, spread)\n",
    "    new_state = copy(state)\n",
    "    for (i, count) in enumerate(spread)\n",
    "        new_state[score + i][i] += count\n",
    "    end\n",
    "    return new_state\n",
    "end\n",
    "function roll(state)\n",
    "    new_state = initialize_state()\n",
    "    \n",
    "    for (score, pos_hist) in enumerate(state)\n",
    "        spread = zeros(Int64,1, 10)\n",
    "        for (pos, pos_count) in enumerate(pos_hist)\n",
    "            cur_contribution = roll_and_score(pos) .* pos_count\n",
    "            spread = spread + cur_contribution\n",
    "        end\n",
    "        \n",
    "        new_state = apply_spread(new_state, score, spread)\n",
    "    end\n",
    "    \n",
    "    return new_state[1:winning_score], sum(sum(new_state[winning_score+1:end]))\n",
    "end"
   ]
  },
  {
   "cell_type": "code",
   "execution_count": 7,
   "id": "5047eeda",
   "metadata": {},
   "outputs": [
    {
     "data": {
      "text/plain": [
       "2-element Vector{Int128}:\n",
       " 919758187195363\n",
       " 635572886949720"
      ]
     },
     "execution_count": 7,
     "metadata": {},
     "output_type": "execute_result"
    }
   ],
   "source": [
    "u(5,6,0,0)"
   ]
  },
  {
   "cell_type": "code",
   "execution_count": 25,
   "id": "bae507c6",
   "metadata": {},
   "outputs": [
    {
     "data": {
      "text/plain": [
       "1596221542559729"
      ]
     },
     "execution_count": 25,
     "metadata": {},
     "output_type": "execute_result"
    }
   ],
   "source": [
    "p1 = initialize_state()[1:22]\n",
    "p1[1][4] = 1\n",
    "p2 = initialize_state()[1:22]\n",
    "p2[1][8] = 1\n",
    "    \n",
    "p1_score = 0\n",
    "p2_score = 0\n",
    "\n",
    "while sum(sum(p1)) > 0 || sum(sum(p2)) > 0\n",
    "    p1, wins = roll(p1)\n",
    "    p1_score += wins * sum(sum(p2))\n",
    "    p2, wins = roll(p2)\n",
    "    p2_score += wins * sum(sum(p1))\n",
    "end\n",
    " p1, wins = roll(p1)\n",
    "    p1_score += wins * sum(sum(p2))\n",
    "    p2, wins = roll(p2)\n",
    "    p2_score += wins * sum(sum(p1))\n",
    " p1, wins = roll(p1)\n",
    "    p1_score += wins * sum(sum(p2))\n",
    "    p2, wins = roll(p2)\n",
    "    p2_score += wins * sum(sum(p1))\n",
    " p1, wins = roll(p1)\n",
    "    p1_score += wins * sum(sum(p2))\n",
    "    p2, wins = roll(p2)\n",
    "    p2_score += wins * sum(sum(p1))"
   ]
  },
  {
   "cell_type": "code",
   "execution_count": 26,
   "id": "9d3edefc",
   "metadata": {},
   "outputs": [
    {
     "name": "stdout",
     "output_type": "stream",
     "text": [
      "p1_score = 2055555562945528\n",
      "p2_score = 1596221542559729\n"
     ]
    }
   ],
   "source": [
    "@show p1_score\n",
    "@show p2_score;\n"
   ]
  },
  {
   "cell_type": "code",
   "execution_count": 13,
   "id": "d40f4b68",
   "metadata": {},
   "outputs": [
    {
     "data": {
      "text/plain": [
       "181440528713473225"
      ]
     },
     "execution_count": 13,
     "metadata": {},
     "output_type": "execute_result"
    }
   ],
   "source": [
    "425958365*425958365"
   ]
  },
  {
   "cell_type": "code",
   "execution_count": 14,
   "id": "33b9c12e",
   "metadata": {},
   "outputs": [
    {
     "data": {
      "text/plain": [
       "149991365214372969"
      ]
     },
     "execution_count": 14,
     "metadata": {},
     "output_type": "execute_result"
    }
   ],
   "source": [
    "387287187*387287187"
   ]
  },
  {
   "cell_type": "code",
   "execution_count": 28,
   "id": "662cfd26",
   "metadata": {},
   "outputs": [
    {
     "data": {
      "text/plain": [
       "3×3×3 Array{Int64, 3}:\n",
       "[:, :, 1] =\n",
       " 3  4  5\n",
       " 4  5  6\n",
       " 5  6  7\n",
       "\n",
       "[:, :, 2] =\n",
       " 4  5  6\n",
       " 5  6  7\n",
       " 6  7  8\n",
       "\n",
       "[:, :, 3] =\n",
       " 5  6  7\n",
       " 6  7  8\n",
       " 7  8  9"
      ]
     },
     "execution_count": 28,
     "metadata": {},
     "output_type": "execute_result"
    }
   ],
   "source": [
    "roll()"
   ]
  },
  {
   "cell_type": "code",
   "execution_count": null,
   "id": "04c1e849",
   "metadata": {},
   "outputs": [],
   "source": []
  }
 ],
 "metadata": {
  "kernelspec": {
   "display_name": "Julia 1.7.0",
   "language": "julia",
   "name": "julia-1.7"
  },
  "language_info": {
   "file_extension": ".jl",
   "mimetype": "application/julia",
   "name": "julia",
   "version": "1.7.0"
  }
 },
 "nbformat": 4,
 "nbformat_minor": 5
}
