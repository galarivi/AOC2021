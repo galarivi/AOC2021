{
 "cells": [
  {
   "cell_type": "code",
   "execution_count": 36,
   "id": "bd637631",
   "metadata": {},
   "outputs": [],
   "source": [
    "# open file \n",
    "mni = open(\"input.txt\",\"r\");\n",
    "  \n",
    "# reading file content line by line\n",
    "grid = readlines(mni); "
   ]
  },
  {
   "cell_type": "code",
   "execution_count": 37,
   "id": "a48b7286",
   "metadata": {},
   "outputs": [],
   "source": [
    "node_map = ones(Int64, size(grid,1), length(grid[1])) .* -1;\n",
    "for (i, line) in enumerate(grid)\n",
    "    node_map[i,1:end] = [parse(Int64, val) for val in line]\n",
    "end\n"
   ]
  },
  {
   "cell_type": "code",
   "execution_count": 20,
   "id": "4b10cf4f",
   "metadata": {},
   "outputs": [
    {
     "name": "stderr",
     "output_type": "stream",
     "text": [
      "WARNING: redefinition of constant offsets. This may fail, cause incorrect answers, or produce other errors.\n"
     ]
    },
    {
     "data": {
      "text/plain": [
       "4-element Vector{CartesianIndex{2}}:\n",
       " CartesianIndex(1, 0)\n",
       " CartesianIndex(-1, 0)\n",
       " CartesianIndex(0, 1)\n",
       " CartesianIndex(0, -1)"
      ]
     },
     "execution_count": 20,
     "metadata": {},
     "output_type": "execute_result"
    }
   ],
   "source": [
    "const offsets = [CartesianIndex(1, 0),\n",
    "                 CartesianIndex(-1, 0),\n",
    "                 CartesianIndex(0, 1),\n",
    "                 CartesianIndex(0, -1)]"
   ]
  },
  {
   "cell_type": "code",
   "execution_count": 42,
   "id": "ef10e0b9",
   "metadata": {},
   "outputs": [
    {
     "data": {
      "text/plain": [
       "path_find (generic function with 1 method)"
      ]
     },
     "execution_count": 42,
     "metadata": {},
     "output_type": "execute_result"
    }
   ],
   "source": [
    "# https://github.com/adrhill/AdventOfCode2021.jl/blob/main/src/day15.jl\n",
    "function path_find(risk_map)\n",
    "    h, w = size(risk_map)\n",
    "    total_risk_map = fill(typemax(Int), h, w)\n",
    "    \n",
    "    queue = [(CartesianIndex(1, 1), 0)]\n",
    "        \n",
    "    while !isempty(queue)\n",
    "        cur_loc, cur_risk = pop!(queue)\n",
    "        \n",
    "        if Tuple(cur_loc) == (h, w)\n",
    "            return total_risk_map\n",
    "        end\n",
    "        \n",
    "        for offset in offsets\n",
    "            n = cur_loc + offset\n",
    "            if checkbounds(Bool, risk_map, n)\n",
    "                new_risk = cur_risk + risk_map[n]\n",
    "                if new_risk < total_risk_map[n]\n",
    "                    total_risk_map[n] = new_risk\n",
    "                    push!(queue, (n, new_risk))\n",
    "                end\n",
    "            end\n",
    "        end\n",
    "        \n",
    "        sort!(queue; by=c -> -c[2])\n",
    "    end\n",
    "    \n",
    "    return total_risk_map\n",
    "end"
   ]
  },
  {
   "cell_type": "code",
   "execution_count": 46,
   "id": "576dce83",
   "metadata": {},
   "outputs": [
    {
     "data": {
      "text/plain": [
       "366"
      ]
     },
     "execution_count": 46,
     "metadata": {},
     "output_type": "execute_result"
    }
   ],
   "source": [
    "p1 = path_find(node_map)\n",
    "p1[end,end]"
   ]
  },
  {
   "cell_type": "code",
   "execution_count": 71,
   "id": "eddbc059",
   "metadata": {},
   "outputs": [
    {
     "data": {
      "text/plain": [
       "500×500 Matrix{Int64}:\n",
       " 1  9  6  8  4  6  4  9  1  6  1  1  2  …  8  1  6  9  3  7  8  4  5  3  2  4\n",
       " 1  5  2  5  7  1  1  2  1  6  1  3  3     3  5  1  1  6  8  3  5  4  6  5  6\n",
       " 2  1  4  3  6  3  1  1  6  2  3  6  1     5  4  8  6  7  4  9  3  1  6  6  2\n",
       " 2  5  2  1  6  2  5  3  1  4  1  2  1     4  7  5  5  5  5  7  1  7  6  5  5\n",
       " 3  4  1  9  1  1  6  3  9  5  1  7  1     5  9  2  6  5  5  2  5  8  3  7  6\n",
       " 4  5  2  4  9  6  4  1  5  3  2  4  7  …  3  1  1  2  7  6  6  1  6  7  5  8\n",
       " 3  7  1  1  5  6  9  9  2  2  5  7  2     3  4  4  6  6  5  6  8  1  5  3  8\n",
       " 9  3  7  2  2  1  8  2  1  1  2  2  7     5  9  5  6  2  5  5  8  3  7  5  8\n",
       " 7  2  5  2  4  3  9  6  1  2  4  3  6     8  8  2  5  6  7  4  6  6  5  7  8\n",
       " 3  1  2  4  2  2  2  2  8  5  3  3  8     6  1  4  9  5  3  7  5  1  5  2  8\n",
       " 5  1  1  3  4  3  1  5  1  2  4  1  6  …  8  2  7  5  1  3  9  8  5  5  5  8\n",
       " 8  9  1  8  7  6  1  2  6  3  1  1  5     4  5  4  8  7  5  5  3  8  9  7  4\n",
       " 2  3  1  5  1  1  2  8  6  8  2  1  1     9  3  5  1  5  2  5  5  6  7  5  5\n",
       " ⋮              ⋮              ⋮        ⋱        ⋮              ⋮           \n",
       " 6  5  6  4  6  5  6  8  5  8  8  3  3     7  2  9  4  1  8  9  9  1  7  6  7\n",
       " 2  6  4  4  4  2  5  5  8  3  5  5  5     9  1  5  4  5  1  3  6  9  7  2  7\n",
       " 7  6  6  5  2  9  7  5  6  4  6  6  6  …  1  4  9  7  7  1  2  5  6  9  1  5\n",
       " 2  9  5  8  7  4  9  1  5  7  4  7  7     2  9  3  9  2  9  5  9  2  6  7  9\n",
       " 7  2  9  9  5  1  8  5  3  5  3  3  8     1  9  3  4  4  2  9  3  9  8  9  1\n",
       " 5  6  5  7  5  9  5  7  8  1  3  9  5     9  1  4  3  5  9  3  6  1  9  6  6\n",
       " 2  4  8  9  5  5  4  5  5  5  4  5  4     2  8  4  3  9  9  1  4  7  9  3  1\n",
       " 6  3  7  7  5  6  7  7  5  7  6  4  7  …  2  6  9  9  2  8  8  2  8  5  9  8\n",
       " 8  7  6  5  6  4  7  8  3  4  1  9  1     1  8  8  2  9  6  6  1  5  9  7  9\n",
       " 7  5  7  5  6  8  5  5  3  4  2  7  5     3  8  1  1  1  9  8  9  2  3  7  1\n",
       " 2  5  7  1  5  7  6  9  5  7  5  7  6     5  1  1  8  5  2  3  3  9  9  7  9\n",
       " 8  9  5  1  7  5  5  5  3  5  9  1  9     9  5  7  6  9  1  8  3  1  4  5  9"
      ]
     },
     "execution_count": 71,
     "metadata": {},
     "output_type": "execute_result"
    }
   ],
   "source": [
    "#part 2\n",
    "parts = [mod1.(node_map .+ n, 9) for n in 0:24]\n",
    "node_map_2 = hvcat((5), [parts[x + y - 1] for x in 1:5, y in 1:5]...)"
   ]
  },
  {
   "cell_type": "code",
   "execution_count": 61,
   "id": "62687c2a",
   "metadata": {},
   "outputs": [
    {
     "data": {
      "text/plain": [
       "(500, 500)"
      ]
     },
     "execution_count": 61,
     "metadata": {},
     "output_type": "execute_result"
    }
   ],
   "source": [
    "size(node_map) .* 5"
   ]
  },
  {
   "cell_type": "code",
   "execution_count": 68,
   "id": "e18d28bd",
   "metadata": {},
   "outputs": [
    {
     "ename": "LoadError",
     "evalue": "syntax: incomplete: premature end of input",
     "output_type": "error",
     "traceback": [
      "syntax: incomplete: premature end of input",
      "",
      "Stacktrace:",
      " [1] top-level scope",
      "   @ In[68]:1",
      " [2] eval",
      "   @ .\\boot.jl:373 [inlined]",
      " [3] include_string(mapexpr::typeof(REPL.softscope), mod::Module, code::String, filename::String)",
      "   @ Base .\\loading.jl:1196"
     ]
    }
   ],
   "source": [
    "[[parts[x + y - 1] for x in 1:5, y in 1:5]...\n",
    "    "
   ]
  },
  {
   "cell_type": "code",
   "execution_count": null,
   "id": "97d49e99",
   "metadata": {},
   "outputs": [],
   "source": []
  }
 ],
 "metadata": {
  "kernelspec": {
   "display_name": "Julia 1.7.0",
   "language": "julia",
   "name": "julia-1.7"
  },
  "language_info": {
   "file_extension": ".jl",
   "mimetype": "application/julia",
   "name": "julia",
   "version": "1.7.0"
  }
 },
 "nbformat": 4,
 "nbformat_minor": 5
}
