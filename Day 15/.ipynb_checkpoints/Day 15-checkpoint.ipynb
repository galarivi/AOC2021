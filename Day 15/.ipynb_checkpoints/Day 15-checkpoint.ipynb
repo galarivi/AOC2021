{
 "cells": [
  {
   "cell_type": "code",
   "execution_count": 36,
   "id": "bd637631",
   "metadata": {},
   "outputs": [],
   "source": [
    "# open file \n",
    "mni = open(\"input.txt\",\"r\");\n",
    "  \n",
    "# reading file content line by line\n",
    "grid = readlines(mni); "
   ]
  },
  {
   "cell_type": "code",
   "execution_count": 37,
   "id": "a48b7286",
   "metadata": {},
   "outputs": [],
   "source": [
    "node_map = ones(Int64, size(grid,1), length(grid[1])) .* -1;\n",
    "for (i, line) in enumerate(grid)\n",
    "    node_map[i,1:end] = [parse(Int64, val) for val in line]\n",
    "end\n"
   ]
  },
  {
   "cell_type": "code",
   "execution_count": 20,
   "id": "bbffef97",
   "metadata": {},
   "outputs": [
    {
     "name": "stderr",
     "output_type": "stream",
     "text": [
      "WARNING: redefinition of constant offsets. This may fail, cause incorrect answers, or produce other errors.\n"
     ]
    },
    {
     "data": {
      "text/plain": [
       "4-element Vector{CartesianIndex{2}}:\n",
       " CartesianIndex(1, 0)\n",
       " CartesianIndex(-1, 0)\n",
       " CartesianIndex(0, 1)\n",
       " CartesianIndex(0, -1)"
      ]
     },
     "execution_count": 20,
     "metadata": {},
     "output_type": "execute_result"
    }
   ],
   "source": [
    "const offsets = [CartesianIndex(1, 0),\n",
    "                 CartesianIndex(-1, 0),\n",
    "                 CartesianIndex(0, 1),\n",
    "                 CartesianIndex(0, -1)]"
   ]
  },
  {
   "cell_type": "code",
   "execution_count": 42,
   "id": "c06c74f2",
   "metadata": {},
   "outputs": [
    {
     "data": {
      "text/plain": [
       "path_find (generic function with 1 method)"
      ]
     },
     "execution_count": 42,
     "metadata": {},
     "output_type": "execute_result"
    }
   ],
   "source": [
    "# https://github.com/adrhill/AdventOfCode2021.jl/blob/main/src/day15.jl\n",
    "function path_find(risk_map)\n",
    "    h, w = size(risk_map)\n",
    "    total_risk_map = fill(typemax(Int), h, w)\n",
    "    \n",
    "    queue = [(CartesianIndex(1, 1), 0)]\n",
    "        \n",
    "    while !isempty(queue)\n",
    "        cur_loc, cur_risk = pop!(queue)\n",
    "        \n",
    "        if Tuple(cur_loc) == (h, w)\n",
    "            return total_risk_map\n",
    "        end\n",
    "        \n",
    "        for offset in offsets\n",
    "            n = cur_loc + offset\n",
    "            if checkbounds(Bool, risk_map, n)\n",
    "                new_risk = cur_risk + risk_map[n]\n",
    "                if new_risk < total_risk_map[n]\n",
    "                    total_risk_map[n] = new_risk\n",
    "                    push!(queue, (n, new_risk))\n",
    "                end\n",
    "            end\n",
    "        end\n",
    "        \n",
    "        sort!(queue; by=c -> -c[2])\n",
    "    end\n",
    "    \n",
    "    return total_risk_map\n",
    "end"
   ]
  },
  {
   "cell_type": "code",
   "execution_count": 46,
   "id": "20edafef",
   "metadata": {},
   "outputs": [
    {
     "data": {
      "text/plain": [
       "366"
      ]
     },
     "execution_count": 46,
     "metadata": {},
     "output_type": "execute_result"
    }
   ],
   "source": [
    "p1 = path_find(node_map)\n",
    "p1[end,end]"
   ]
  },
  {
   "cell_type": "code",
   "execution_count": 69,
   "id": "8bf97224",
   "metadata": {},
   "outputs": [
    {
     "ename": "LoadError",
     "evalue": "syntax: expected \"]\" or separator in arguments to \"[ ]\"; got \"[ parts[((x + y) - 1)] for x = 1:5, y = 1:5 ])\"",
     "output_type": "error",
     "traceback": [
      "syntax: expected \"]\" or separator in arguments to \"[ ]\"; got \"[ parts[((x + y) - 1)] for x = 1:5, y = 1:5 ])\"",
      "",
      "Stacktrace:",
      " [1] top-level scope",
      "   @ In[69]:3",
      " [2] eval",
      "   @ .\\boot.jl:373 [inlined]",
      " [3] include_string(mapexpr::typeof(REPL.softscope), mod::Module, code::String, filename::String)",
      "   @ Base .\\loading.jl:1196"
     ]
    }
   ],
   "source": [
    "#part 2\n",
    "parts = [mod1.(node_map .+ n, 9) for n in 0:24]\n",
    "node_map_2 = hvcat((5), [parts[x + y - 1] for x in 1:5, y in 1:5])"
   ]
  },
  {
   "cell_type": "code",
   "execution_count": 61,
   "id": "bee67634",
   "metadata": {},
   "outputs": [
    {
     "data": {
      "text/plain": [
       "(500, 500)"
      ]
     },
     "execution_count": 61,
     "metadata": {},
     "output_type": "execute_result"
    }
   ],
   "source": [
    "size(node_map) .* 5"
   ]
  },
  {
   "cell_type": "code",
   "execution_count": 68,
   "id": "27cb66e4",
   "metadata": {},
   "outputs": [
    {
     "ename": "LoadError",
     "evalue": "syntax: incomplete: premature end of input",
     "output_type": "error",
     "traceback": [
      "syntax: incomplete: premature end of input",
      "",
      "Stacktrace:",
      " [1] top-level scope",
      "   @ In[68]:1",
      " [2] eval",
      "   @ .\\boot.jl:373 [inlined]",
      " [3] include_string(mapexpr::typeof(REPL.softscope), mod::Module, code::String, filename::String)",
      "   @ Base .\\loading.jl:1196"
     ]
    }
   ],
   "source": [
    "[[parts[x + y - 1] for x in 1:5, y in 1:5]...\n",
    "    "
   ]
  },
  {
   "cell_type": "code",
   "execution_count": null,
   "id": "101c431b",
   "metadata": {},
   "outputs": [],
   "source": []
  }
 ],
 "metadata": {
  "kernelspec": {
   "display_name": "Julia 1.7.0",
   "language": "julia",
   "name": "julia-1.7"
  },
  "language_info": {
   "file_extension": ".jl",
   "mimetype": "application/julia",
   "name": "julia",
   "version": "1.7.0"
  }
 },
 "nbformat": 4,
 "nbformat_minor": 5
}
