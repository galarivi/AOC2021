{
 "cells": [
  {
   "cell_type": "code",
   "execution_count": 1,
   "id": "ab4eb959",
   "metadata": {},
   "outputs": [],
   "source": [
    "# open file \n",
    "mni = open(\"input.txt\",\"r\");\n",
    "hex_bytes = readline(mni)\n",
    "bits_array = bitstring.([parse(UInt16,hex_bytes[i], base=16) for i in 1:length(hex_bytes)])\n",
    "bits = \"\"\n",
    "for b in bits_array\n",
    "    tail = b[end-3:end]\n",
    "    bits *= tail;\n",
    "end"
   ]
  },
  {
   "cell_type": "code",
   "execution_count": 2,
   "id": "2f69a523",
   "metadata": {},
   "outputs": [
    {
     "data": {
      "text/plain": [
       "get_node_literal (generic function with 1 method)"
      ]
     },
     "execution_count": 2,
     "metadata": {},
     "output_type": "execute_result"
    }
   ],
   "source": [
    "function VVV(bits, c)\n",
    "    return parse(Int, bits[c:c+2], base=2)\n",
    "end\n",
    "function TTT(bits, c)\n",
    "    return parse(Int, bits[c+3:c+5], base=2)\n",
    "end\n",
    "function sp_type(bits, c)\n",
    "    return parse(Bool, bits[c+6]) ? \"Packets\" : \"Bits\"\n",
    "end\n",
    "function LLLL(bits, c)\n",
    "    if TTT(bits, c) == 4\n",
    "        return -1\n",
    "    end\n",
    "    \n",
    "    if sp_type(bits, c) == \"Packets\" \n",
    "        return parse(Int, bits[c+7:c+7+10], base=2)\n",
    "    elseif sp_type(bits, c) == \"Bits\" \n",
    "        return parse(Int, bits[c+7:c+7+14], base=2)\n",
    "    end\n",
    "end\n",
    "function A_idx(bits, c)\n",
    "    if sp_type(bits, c) == \"Packets\" \n",
    "        return c+18\n",
    "    elseif sp_type(bits, c) == \"Bits\" \n",
    "        return c+22\n",
    "    end\n",
    "end\n",
    "function get_node_literal(bits, c)\n",
    "    idx = c+6\n",
    "    bitstr = \"\"\n",
    "    while bits[idx] == '1'\n",
    "        bitstr *= bits[idx+1:idx+4]\n",
    "        idx += 5\n",
    "    end\n",
    "    bitstr *= bits[idx+1:idx+4]\n",
    "    idx += 5\n",
    "    return parse(Int, bitstr, base=2), idx\n",
    "end"
   ]
  },
  {
   "cell_type": "code",
   "execution_count": 3,
   "id": "5d50cb00",
   "metadata": {},
   "outputs": [
    {
     "data": {
      "text/plain": [
       "packet_parse (generic function with 1 method)"
      ]
     },
     "execution_count": 3,
     "metadata": {},
     "output_type": "execute_result"
    }
   ],
   "source": [
    "function packet_parse(bits, c)\n",
    "    if !occursin('1', bits[c:end])\n",
    "        return (\"Empty\"), -1\n",
    "    end\n",
    "    \n",
    "    V = VVV(bits, c)\n",
    "    T = TTT(bits, c)\n",
    "       \n",
    "    if T == 4\n",
    "        literal, next = get_node_literal(bits, c)\n",
    "        return (V, T, literal), next\n",
    "    else\n",
    "        I = sp_type(bits, c)\n",
    "        L = LLLL(bits, c)     \n",
    "        subnodes = []\n",
    "        next = A_idx(bits, c)\n",
    "        if I == \"Packets\"\n",
    "            for i in 1:L\n",
    "                subnode, next = packet_parse(bits, next)\n",
    "                push!(subnodes, subnode)\n",
    "            end\n",
    "        elseif I == \"Bits\"\n",
    "            packet_end = next + L\n",
    "            while next < packet_end\n",
    "                subnode, next = packet_parse(bits, next)\n",
    "                push!(subnodes, subnode)\n",
    "                if subnode[1] == \"Empty\"\n",
    "                    break\n",
    "                end\n",
    "            end\n",
    "        end\n",
    "        return (V, T, I, L, subnodes), next\n",
    "    end\n",
    "end"
   ]
  },
  {
   "cell_type": "code",
   "execution_count": 4,
   "id": "50f4bed0",
   "metadata": {},
   "outputs": [
    {
     "data": {
      "text/plain": [
       "get_val_sum (generic function with 1 method)"
      ]
     },
     "execution_count": 4,
     "metadata": {},
     "output_type": "execute_result"
    }
   ],
   "source": [
    "function get_val_sum(packet)\n",
    "    val_sum = packet[1]\n",
    "    if packet[2] != 4\n",
    "        for subpacket in packet[5]\n",
    "            val_sum += get_val_sum(subpacket)\n",
    "        end\n",
    "    end\n",
    "    \n",
    "    return val_sum\n",
    "end"
   ]
  },
  {
   "cell_type": "code",
   "execution_count": 5,
   "id": "6563b3e0",
   "metadata": {},
   "outputs": [
    {
     "data": {
      "text/plain": [
       "get_packet_val (generic function with 1 method)"
      ]
     },
     "execution_count": 5,
     "metadata": {},
     "output_type": "execute_result"
    }
   ],
   "source": [
    "function get_packet_val(packet)\n",
    "    T = packet[2]\n",
    "    if  T == 0\n",
    "        return sum(sp->get_packet_val(sp), packet[5])\n",
    "    elseif T == 1\n",
    "        return prod(sp->get_packet_val(sp), packet[5])\n",
    "    elseif T == 2\n",
    "        return findmin([get_packet_val(sp) for sp in packet[5]])[1]\n",
    "    elseif T == 3\n",
    "        return findmax([get_packet_val(sp) for sp in packet[5]])[1]\n",
    "    elseif T == 4\n",
    "        return packet[3]\n",
    "    elseif T == 5\n",
    "        return get_packet_val(packet[5][1]) > get_packet_val(packet[5][2]) ? 1 : 0\n",
    "    elseif T == 6\n",
    "        return get_packet_val(packet[5][1]) < get_packet_val(packet[5][2]) ? 1 : 0\n",
    "    elseif T == 7\n",
    "        return get_packet_val(packet[5][1]) == get_packet_val(packet[5][2]) ? 1 : 0\n",
    "    end\n",
    "end"
   ]
  },
  {
   "cell_type": "code",
   "execution_count": 6,
   "id": "09bf6c6c",
   "metadata": {
    "scrolled": true
   },
   "outputs": [
    {
     "data": {
      "text/plain": [
       "((5, 0, \"Packets\", 53, Any[(5, 4, 211), (6, 0, \"Bits\", 51, Any[(4, 4, 11312662170)]), (2, 3, \"Packets\", 2, Any[(4, 4, 230), (3, 4, 9149058)]), (7, 1, \"Bits\", 76, Any[(4, 4, 18660), (5, 7, \"Packets\", 2, Any[(6, 4, 6), (1, 4, 294)])]), (0, 0, \"Bits\", 48, Any[(4, 4, 64337), (5, 4, 10), (3, 4, 5)]), (1, 1, \"Packets\", 2, Any[(2, 6, \"Bits\", 32, Any[(5, 4, 60), (3, 4, 60)]), (7, 4, 6475254)]), (6, 4, 630700), (3, 3, \"Bits\", 26, Any[(1, 4, 13722)]), (0, 4, 4492), (7, 1, \"Packets\", 2, Any[(2, 4, 12), (7, 6, \"Bits\", 32, Any[(2, 4, 197), (3, 4, 197)])])  …  (1, 1, \"Bits\", 32, Any[(7, 4, 244), (6, 4, 194)]), (0, 0, \"Packets\", 5, Any[(6, 4, 142), (4, 4, 11161), (4, 4, 247), (5, 4, 2618), (4, 4, 16293547)]), (7, 1, \"Packets\", 2, Any[(2, 6, \"Bits\", 110, Any[(1, 0, \"Bits\", 33, Any[(2, 4, 7), (2, 4, 3), (1, 4, 3)]), (6, 0, \"Bits\", 33, Any[(6, 4, 9), (1, 4, 14), (0, 4, 3)])]), (3, 4, 929778)]), (3, 0, \"Bits\", 82, Any[(0, 4, 404241717), (1, 4, 10324282)]), (1, 2, \"Packets\", 5, Any[(1, 4, 2884), (4, 4, 118514996), (0, 4, 486), (0, 4, 3), (4, 4, 6316459236)]), (7, 2, \"Bits\", 72, Any[(1, 4, 74059715753), (0, 4, 18)]), (2, 1, \"Packets\", 4, Any[(5, 4, 65), (4, 4, 37), (1, 4, 163), (3, 4, 107)]), (5, 4, 7), (4, 1, \"Bits\", 144, Any[(0, 7, \"Bits\", 106, Any[(3, 0, \"Bits\", 33, Any[(6, 4, 2), (7, 4, 8), (0, 4, 13)]), (4, 0, \"Packets\", 3, Any[(5, 4, 15), (6, 4, 8), (2, 4, 13)])]), (5, 4, 103)]), (4, 1, \"Packets\", 5, Any[(6, 4, 171), (2, 4, 170), (2, 4, 64), (7, 4, 100), (6, 4, 180)])]), 5588)"
      ]
     },
     "execution_count": 6,
     "metadata": {},
     "output_type": "execute_result"
    }
   ],
   "source": [
    "a, next = packet_parse(bits, 1)"
   ]
  },
  {
   "cell_type": "code",
   "execution_count": 7,
   "id": "8684f113",
   "metadata": {},
   "outputs": [
    {
     "data": {
      "text/plain": [
       "927"
      ]
     },
     "execution_count": 7,
     "metadata": {},
     "output_type": "execute_result"
    }
   ],
   "source": [
    "a_val_sum = get_val_sum(a)"
   ]
  },
  {
   "cell_type": "code",
   "execution_count": 8,
   "id": "25cb00ad",
   "metadata": {},
   "outputs": [
    {
     "data": {
      "text/plain": [
       "1725277876501"
      ]
     },
     "execution_count": 8,
     "metadata": {},
     "output_type": "execute_result"
    }
   ],
   "source": [
    "get_packet_val(a)"
   ]
  }
 ],
 "metadata": {
  "celltoolbar": "Raw Cell Format",
  "kernelspec": {
   "display_name": "Julia 1.7.0",
   "language": "julia",
   "name": "julia-1.7"
  },
  "language_info": {
   "file_extension": ".jl",
   "mimetype": "application/julia",
   "name": "julia",
   "version": "1.7.0"
  }
 },
 "nbformat": 4,
 "nbformat_minor": 5
}
