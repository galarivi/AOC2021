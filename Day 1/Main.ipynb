{
 "cells": [
  {
   "cell_type": "code",
   "execution_count": 10,
   "id": "4f5625d8-7485-4ebd-9259-34bbb19ea022",
   "metadata": {},
   "outputs": [],
   "source": [
    "# open file \n",
    "mni = open(\"input.txt\",\"r\");\n",
    "  \n",
    "# reading file content line by line\n",
    "dd = readlines(mni);\n",
    "\n",
    "data = [parse(Int, d) for d in dd];"
   ]
  },
  {
   "cell_type": "code",
   "execution_count": 25,
   "id": "838a4bc8-9f1e-40ac-aaf7-dfa37dc5c195",
   "metadata": {},
   "outputs": [
    {
     "data": {
      "text/plain": [
       "1559"
      ]
     },
     "execution_count": 25,
     "metadata": {},
     "output_type": "execute_result"
    }
   ],
   "source": [
    "# Part A\n",
    "a = data[1:end-1];\n",
    "b = data[2:end];\n",
    "c = b .- a\n",
    "\n",
    "sum(c.>0)\n",
    "\n"
   ]
  },
  {
   "cell_type": "code",
   "execution_count": 27,
   "id": "81a6f846-22d1-454b-8198-7a6902217934",
   "metadata": {},
   "outputs": [
    {
     "data": {
      "text/plain": [
       "1600"
      ]
     },
     "execution_count": 27,
     "metadata": {},
     "output_type": "execute_result"
    }
   ],
   "source": [
    "# Part B\n",
    "a = data[1:end-2]\n",
    "b = data[2:end-1]\n",
    "c = data[3:end]\n",
    "\n",
    "sums = a .+ b .+ c;\n",
    "\n",
    "sumsa = sums[1:end-1]\n",
    "sumsb = sums[2:end]\n",
    "\n",
    "sumsc = sumsb .- sumsa\n",
    "\n",
    "sum(sumsc.>0)"
   ]
  },
  {
   "cell_type": "code",
   "execution_count": null,
   "id": "99fcfe39",
   "metadata": {},
   "outputs": [],
   "source": []
  }
 ],
 "metadata": {
  "kernelspec": {
   "display_name": "Julia 1.7.0",
   "language": "julia",
   "name": "julia-1.7"
  },
  "language_info": {
   "file_extension": ".jl",
   "mimetype": "application/julia",
   "name": "julia",
   "version": "1.7.0"
  },
  "toc-autonumbering": true,
  "toc-showmarkdowntxt": true
 },
 "nbformat": 4,
 "nbformat_minor": 5
}
