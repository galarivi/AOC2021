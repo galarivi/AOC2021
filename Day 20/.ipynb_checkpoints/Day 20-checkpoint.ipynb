{
 "cells": [
  {
   "cell_type": "code",
   "execution_count": 1,
   "id": "3b49f452",
   "metadata": {},
   "outputs": [],
   "source": [
    "# open file \n",
    "mni = open(\"input.txt\",\"r\");\n",
    "raw = readlines(mni)\n",
    "code = \"\"\n",
    "image = []\n",
    "code_done = false\n",
    "\n",
    "for line in raw\n",
    "    if !code_done\n",
    "        if line != \"\"\n",
    "            code *= line\n",
    "        else\n",
    "            code_done = true\n",
    "        end\n",
    "    else\n",
    "        push!(image,line)\n",
    "    end\n",
    "end"
   ]
  },
  {
   "cell_type": "code",
   "execution_count": 2,
   "id": "b37e8670",
   "metadata": {},
   "outputs": [
    {
     "data": {
      "text/plain": [
       "modified_convolve2 (generic function with 1 method)"
      ]
     },
     "execution_count": 2,
     "metadata": {},
     "output_type": "execute_result"
    }
   ],
   "source": [
    "function resize_image_off(image)\n",
    "    h, w = length(image) + 4, length(image[1]) + 4\n",
    "    blank = \"\"\n",
    "    for i in 1:w\n",
    "        blank *= \".\"\n",
    "    end\n",
    "    \n",
    "    new_im = [blank; blank]\n",
    "    for line in image\n",
    "        new_line = \"..\" * line * \"..\"\n",
    "        push!(new_im,new_line)\n",
    "    end\n",
    "    push!(new_im,blank)\n",
    "    push!(new_im,blank)\n",
    "    \n",
    "    return new_im, h, w\n",
    "end\n",
    "\n",
    "function resize_image_on(image)\n",
    "    h, w = length(image) + 4, length(image[1]) + 4\n",
    "    blank = \"\"\n",
    "    for i in 1:w\n",
    "        blank *= \"#\"\n",
    "    end\n",
    "    \n",
    "    new_im = [blank; blank]\n",
    "    for line in image\n",
    "        new_line = \"##\" * line * \"##\"\n",
    "        push!(new_im,new_line)\n",
    "    end\n",
    "    push!(new_im,blank)\n",
    "    push!(new_im,blank)\n",
    "    \n",
    "    return new_im, h, w\n",
    "end\n",
    "function get_idx(image, r, c)\n",
    "    bits_raw = image[r-1][c-1:c+1] * image[r][c-1:c+1] * image[r+1][c-1:c+1]\n",
    "    #@show r, c, bits_raw\n",
    "    return parse(Int,reduce(string,[t == '.' ? \"0\" : \"1\" for t in bits_raw]), base=2)\n",
    "end\n",
    "\n",
    "function modified_convolve1(image, code)\n",
    "    big, h, w = resize_image_off(image)\n",
    "    new = []\n",
    "    for r in 2:h-1\n",
    "        line = \"\"\n",
    "        for c in 2:w-1\n",
    "            idx = get_idx(big, r, c)\n",
    "            line = line * string(code[idx+1])\n",
    "        end\n",
    "        push!(new,line)\n",
    "    end\n",
    "    #new = [line[2:end-1] for line in new[2:end-1]]\n",
    "    \n",
    "    return new\n",
    "end\n",
    "function modified_convolve2(image, code)\n",
    "    big, h, w = resize_image_on(image)\n",
    "    new = []\n",
    "    for r in 2:h-1\n",
    "        line = \"\"\n",
    "        for c in 2:w-1\n",
    "            idx = get_idx(big, r, c)\n",
    "            line = line * string(code[idx+1])\n",
    "        end\n",
    "        push!(new,line)\n",
    "    end\n",
    "    #new = [line[2:end-1] for line in new[2:end-1]]\n",
    "    \n",
    "    return new\n",
    "end"
   ]
  },
  {
   "cell_type": "code",
   "execution_count": 3,
   "id": "2efea48c",
   "metadata": {},
   "outputs": [
    {
     "data": {
      "text/plain": [
       "5229"
      ]
     },
     "execution_count": 3,
     "metadata": {},
     "output_type": "execute_result"
    }
   ],
   "source": [
    "# 2 functionsbecause the code at index 0 is symbol '#' the infinite fill switches after the first iteration.\n",
    "# Better code should look at the code first and last index for determining.\n",
    "\n",
    "new1 = modified_convolve1(image, code)\n",
    "new2 = modified_convolve2(new1, code) \n",
    "\n",
    "tot = 0\n",
    "for line in new2\n",
    "    for c in line\n",
    "        if c == '#'\n",
    "            tot += 1\n",
    "        end\n",
    "    end\n",
    "end\n",
    "#part 1\n",
    "tot\n",
    "    "
   ]
  },
  {
   "cell_type": "code",
   "execution_count": 4,
   "id": "2b96869f",
   "metadata": {},
   "outputs": [],
   "source": [
    "a = image\n",
    "for i in 1:25\n",
    "    b = modified_convolve1(a, code)\n",
    "    a = modified_convolve2(b, code)\n",
    "end"
   ]
  },
  {
   "cell_type": "code",
   "execution_count": 5,
   "id": "d68e4228",
   "metadata": {},
   "outputs": [
    {
     "data": {
      "text/plain": [
       "17009"
      ]
     },
     "execution_count": 5,
     "metadata": {},
     "output_type": "execute_result"
    }
   ],
   "source": [
    "tot = 0\n",
    "for line in a\n",
    "    for c in line\n",
    "        if c == '#'\n",
    "            tot += 1\n",
    "        end\n",
    "    end\n",
    "end\n",
    "#part 2\n",
    "tot"
   ]
  }
 ],
 "metadata": {
  "kernelspec": {
   "display_name": "Julia 1.7.0",
   "language": "julia",
   "name": "julia-1.7"
  },
  "language_info": {
   "file_extension": ".jl",
   "mimetype": "application/julia",
   "name": "julia",
   "version": "1.7.0"
  }
 },
 "nbformat": 4,
 "nbformat_minor": 5
}
