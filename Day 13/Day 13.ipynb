{
 "cells": [
  {
   "cell_type": "code",
   "execution_count": 1,
   "id": "ad127098",
   "metadata": {},
   "outputs": [],
   "source": [
    "# open file \n",
    "mni = open(\"input.txt\",\"r\");\n",
    "\n",
    "# reading file content line by line\n",
    "\n",
    "pairs = []; \n",
    "folds = [];\n",
    "for line in readlines(mni)\n",
    "    if length(split(line,\",\")) > 1\n",
    "        push!(pairs,[parse(Int64, val) + 1 for val in split(line,\",\")])\n",
    "    elseif line != \"\"\n",
    "        dir = split(split(line,\"=\")[1],\" \")[end]\n",
    "        val = parse(Int64, split(line,\"=\")[2]) + 1\n",
    "        push!(folds, (dir, val))\n",
    "    end\n",
    "end"
   ]
  },
  {
   "cell_type": "code",
   "execution_count": 2,
   "id": "ea8dd10a",
   "metadata": {},
   "outputs": [
    {
     "data": {
      "text/plain": [
       "find_max (generic function with 1 method)"
      ]
     },
     "execution_count": 2,
     "metadata": {},
     "output_type": "execute_result"
    }
   ],
   "source": [
    "function find_max(pairs)\n",
    "    xmax = 0\n",
    "    ymax = 0\n",
    "    for row in pairs\n",
    "        xmax = max(row[1], xmax)[1]\n",
    "        ymax = max(row[2], ymax)[1]\n",
    "    end\n",
    "    \n",
    "    return (xmax, ymax)\n",
    "end"
   ]
  },
  {
   "cell_type": "code",
   "execution_count": 3,
   "id": "4d294bf6",
   "metadata": {},
   "outputs": [
    {
     "data": {
      "text/plain": [
       "make_grid (generic function with 1 method)"
      ]
     },
     "execution_count": 3,
     "metadata": {},
     "output_type": "execute_result"
    }
   ],
   "source": [
    "function make_grid(pairs, folds)\n",
    "    (xmax, ymax) = find_max(pairs)\n",
    "    \n",
    "    grid = zeros(Int64, ymax, xmax)\n",
    "    \n",
    "    for pair in pairs\n",
    "        grid[pair[2], pair[1]] = 1\n",
    "    end\n",
    "    \n",
    "    return grid\n",
    "end"
   ]
  },
  {
   "cell_type": "code",
   "execution_count": 4,
   "id": "30b69405",
   "metadata": {},
   "outputs": [
    {
     "data": {
      "text/plain": [
       "fold_grid (generic function with 1 method)"
      ]
     },
     "execution_count": 4,
     "metadata": {},
     "output_type": "execute_result"
    }
   ],
   "source": [
    "function fold_grid(grid, fold)\n",
    "    fold_idx = fold[2]\n",
    "    folded_grid = copy(grid)\n",
    "    if fold[1] == \"x\"\n",
    "        folded_grid = folded_grid[1:end, 1:fold_idx-1]\n",
    "        \n",
    "        for i in 1 : size(grid,2) - fold_idx\n",
    "            folded_grid[1:end, fold_idx - i] = folded_grid[1:end, fold_idx - i] + grid[1:end, fold_idx + i]\n",
    "        end\n",
    "    elseif fold[1] == \"y\"\n",
    "        folded_grid = folded_grid[1:fold[2]-1, 1:end]\n",
    "        \n",
    "        for j in 1 : size(grid,1) - fold_idx\n",
    "            folded_grid[fold_idx - j, 1:end] = folded_grid[fold_idx - j, 1:end] + grid[fold_idx + j,1:end]\n",
    "        end\n",
    "    end     \n",
    "    return folded_grid\n",
    "end"
   ]
  },
  {
   "cell_type": "code",
   "execution_count": 9,
   "id": "8425e0b5",
   "metadata": {},
   "outputs": [],
   "source": [
    "grid = make_grid(pairs, folds)\n",
    "grids = push!(Array{typeof(grid)}(undef, 0), grid)\n",
    "counts = Array{Int64}(undef, 0)\n",
    "\n",
    "for fold in folds\n",
    "    push!(grids, fold_grid(grids[end], fold))\n",
    "    \n",
    "    count = 0\n",
    "    for elem in grids[end]\n",
    "        if elem > 0\n",
    "            count += 1\n",
    "        end\n",
    "    end\n",
    "    push!(counts, count)\n",
    "end    "
   ]
  },
  {
   "cell_type": "code",
   "execution_count": 26,
   "id": "588ef34e",
   "metadata": {},
   "outputs": [
    {
     "data": {
      "text/plain": [
       "6×40 Matrix{Int64}:\n",
       "  4   2  11  2  0   0  13  4   0  0  14  …   0   6  1  0  0  38  9  20   0  0\n",
       " 14   0   0  0  0  29   0  0  19  0  16      2   0  0  2  0   1  0   0  12  0\n",
       "  2  12   3  0  0  22   0  0  14  0   4      6   0  0  0  0   8  0   0   6  0\n",
       " 12   0   0  0  0   7  12  8  13  0   2     10   0  0  0  0   6  2   1   0  0\n",
       " 10   0   0  0  0  15   0  0   3  0  30     15   0  0  5  0  25  0   0   0  0\n",
       " 22   3   8  2  0   9   0  0   8  0   2  …   0  11  8  0  0  23  0   0   0  0"
      ]
     },
     "execution_count": 26,
     "metadata": {},
     "output_type": "execute_result"
    }
   ],
   "source": [
    "count = 0\n",
    "for elem in grids[2]\n",
    "    if elem > 0\n",
    "        count += 1\n",
    "    end\n",
    "end    \n",
    "\n",
    "grids[end]"
   ]
  },
  {
   "cell_type": "code",
   "execution_count": 16,
   "id": "09a2b943",
   "metadata": {},
   "outputs": [
    {
     "data": {
      "text/plain": [
       "6×5 Matrix{Int64}:\n",
       "  4   2  11  2  0\n",
       " 14   0   0  0  0\n",
       "  2  12   3  0  0\n",
       " 12   0   0  0  0\n",
       " 10   0   0  0  0\n",
       " 22   3   8  2  0"
      ]
     },
     "execution_count": 16,
     "metadata": {},
     "output_type": "execute_result"
    }
   ],
   "source": [
    "grids[end][1:end, 1:5]"
   ]
  },
  {
   "cell_type": "code",
   "execution_count": 18,
   "id": "b9596827",
   "metadata": {},
   "outputs": [
    {
     "data": {
      "text/plain": [
       "6×6 Matrix{Int64}:\n",
       " 0   0  13  4   0  0\n",
       " 0  29   0  0  19  0\n",
       " 0  22   0  0  14  0\n",
       " 0   7  12  8  13  0\n",
       " 0  15   0  0   3  0\n",
       " 0   9   0  0   8  0"
      ]
     },
     "execution_count": 18,
     "metadata": {},
     "output_type": "execute_result"
    }
   ],
   "source": [
    "grids[end][1:end, 5:10]"
   ]
  },
  {
   "cell_type": "code",
   "execution_count": 19,
   "id": "042c7199",
   "metadata": {},
   "outputs": [
    {
     "data": {
      "text/plain": [
       "6×6 Matrix{Int64}:\n",
       " 0  14   0   0   2  0\n",
       " 0  16   0   0  11  0\n",
       " 0   4  32  15   4  0\n",
       " 0   2   0   0   7  0\n",
       " 0  30   0   0   7  0\n",
       " 0   2   0   0   6  0"
      ]
     },
     "execution_count": 19,
     "metadata": {},
     "output_type": "execute_result"
    }
   ],
   "source": [
    "grids[end][1:end, 10:15]"
   ]
  },
  {
   "cell_type": "code",
   "execution_count": 20,
   "id": "04e8f40d",
   "metadata": {},
   "outputs": [
    {
     "data": {
      "text/plain": [
       "6×6 Matrix{Int64}:\n",
       " 0  13  0  0  5  0\n",
       " 0  14  0  3  0  0\n",
       " 0  14  6  0  0  0\n",
       " 0  15  0  1  0  0\n",
       " 0   7  0  8  0  0\n",
       " 0   4  0  0  4  0"
      ]
     },
     "execution_count": 20,
     "metadata": {},
     "output_type": "execute_result"
    }
   ],
   "source": [
    "grids[end][1:end, 15:20]"
   ]
  },
  {
   "cell_type": "code",
   "execution_count": 22,
   "id": "e51ecdb8",
   "metadata": {},
   "outputs": [
    {
     "data": {
      "text/plain": [
       "6×6 Matrix{Int64}:\n",
       " 0   8   6  4   0  0\n",
       " 0   8   0  0   4  0\n",
       " 0   5   0  0   4  0\n",
       " 0   4  10  5   0  0\n",
       " 0  10   0  2   0  0\n",
       " 0   5   0  0  23  0"
      ]
     },
     "execution_count": 22,
     "metadata": {},
     "output_type": "execute_result"
    }
   ],
   "source": [
    "grids[end][1:end, 20:25]"
   ]
  },
  {
   "cell_type": "code",
   "execution_count": 24,
   "id": "c3e02d36",
   "metadata": {},
   "outputs": [
    {
     "data": {
      "text/plain": [
       "6×6 Matrix{Int64}:\n",
       " 0  24  16   1  7  0\n",
       " 0   3   0   0  0  0\n",
       " 0  26  17  11  0  0\n",
       " 0   7   0   0  0  0\n",
       " 0   2   0   0  0  0\n",
       " 0   4  11   7  2  0"
      ]
     },
     "execution_count": 24,
     "metadata": {},
     "output_type": "execute_result"
    }
   ],
   "source": [
    "grids[end][1:end, 25:30]"
   ]
  },
  {
   "cell_type": "code",
   "execution_count": 27,
   "id": "b90e9684",
   "metadata": {},
   "outputs": [
    {
     "data": {
      "text/plain": [
       "6×6 Matrix{Int64}:\n",
       " 0   0   6  1  0  0\n",
       " 0   2   0  0  2  0\n",
       " 0   6   0  0  0  0\n",
       " 0  10   0  0  0  0\n",
       " 0  15   0  0  5  0\n",
       " 0   0  11  8  0  0"
      ]
     },
     "execution_count": 27,
     "metadata": {},
     "output_type": "execute_result"
    }
   ],
   "source": [
    "grids[end][1:end, 30:35]"
   ]
  },
  {
   "cell_type": "code",
   "execution_count": 28,
   "id": "a4274a0f",
   "metadata": {},
   "outputs": [
    {
     "data": {
      "text/plain": [
       "6×6 Matrix{Int64}:\n",
       " 0  38  9  20   0  0\n",
       " 0   1  0   0  12  0\n",
       " 0   8  0   0   6  0\n",
       " 0   6  2   1   0  0\n",
       " 0  25  0   0   0  0\n",
       " 0  23  0   0   0  0"
      ]
     },
     "execution_count": 28,
     "metadata": {},
     "output_type": "execute_result"
    }
   ],
   "source": [
    "grids[end][1:end, 35:40]"
   ]
  }
 ],
 "metadata": {
  "kernelspec": {
   "display_name": "Julia 1.7.0",
   "language": "julia",
   "name": "julia-1.7"
  },
  "language_info": {
   "file_extension": ".jl",
   "mimetype": "application/julia",
   "name": "julia",
   "version": "1.7.0"
  }
 },
 "nbformat": 4,
 "nbformat_minor": 5
}
