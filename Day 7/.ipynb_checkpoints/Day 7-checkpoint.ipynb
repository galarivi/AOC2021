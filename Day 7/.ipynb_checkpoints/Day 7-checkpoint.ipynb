{
 "cells": [
  {
   "cell_type": "code",
   "execution_count": 1,
   "id": "6bee87c4",
   "metadata": {},
   "outputs": [
    {
     "data": {
      "text/plain": [
       "1952"
      ]
     },
     "execution_count": 1,
     "metadata": {},
     "output_type": "execute_result"
    }
   ],
   "source": [
    "# open file \n",
    "mni = open(\"input.txt\",\"r\");\n",
    "  \n",
    "# reading file content line by line\n",
    "raw = readline(mni);\n",
    "\n",
    "vals = [parse(Int64, val) for val in split(raw,\",\")];\n",
    "maxval = findmax(vals)[1]"
   ]
  },
  {
   "cell_type": "code",
   "execution_count": 2,
   "id": "3a98e647",
   "metadata": {},
   "outputs": [
    {
     "name": "stdout",
     "output_type": "stream",
     "text": [
      "findmin(err_arr) = (337488, 371)\n"
     ]
    },
    {
     "data": {
      "text/plain": [
       "(337488, 371)"
      ]
     },
     "execution_count": 2,
     "metadata": {},
     "output_type": "execute_result"
    }
   ],
   "source": [
    "#Part 1\n",
    "err_arr = Array{Int64}(zeros(maxval+1))\n",
    "\n",
    "for i in 1:maxval+1\n",
    "    for val in vals\n",
    "        err_arr[i] += abs(val-i-1)\n",
    "    end\n",
    "end\n",
    "\n",
    "@show findmin(err_arr)"
   ]
  },
  {
   "cell_type": "code",
   "execution_count": 3,
   "id": "527651e6",
   "metadata": {},
   "outputs": [
    {
     "name": "stdout",
     "output_type": "stream",
     "text": [
      "findmin(err_arr) = (89647695, 479)\n"
     ]
    },
    {
     "data": {
      "text/plain": [
       "(89647695, 479)"
      ]
     },
     "execution_count": 3,
     "metadata": {},
     "output_type": "execute_result"
    }
   ],
   "source": [
    "#Part 2\n",
    "err_arr = Array{Int64}(zeros(maxval+1))\n",
    "\n",
    "for test_pos in 1:maxval+1\n",
    "    for crab_pos in vals\n",
    "        err_arr[test_pos] += sum([gas for gas in 1:abs(crab_pos-test_pos-1)])\n",
    "    end\n",
    "end\n",
    "\n",
    "@show findmin(err_arr)"
   ]
  }
 ],
 "metadata": {
  "kernelspec": {
   "display_name": "Julia 1.7.0",
   "language": "julia",
   "name": "julia-1.7"
  },
  "language_info": {
   "file_extension": ".jl",
   "mimetype": "application/julia",
   "name": "julia",
   "version": "1.7.0"
  }
 },
 "nbformat": 4,
 "nbformat_minor": 5
}
