{
 "cells": [
  {
   "cell_type": "code",
   "execution_count": 1,
   "id": "86ac68cd",
   "metadata": {},
   "outputs": [],
   "source": [
    "# open file \n",
    "mni = open(\"input.txt\",\"r\");\n",
    "  \n",
    "# reading file content line by line\n",
    "lines = readlines(mni);\n"
   ]
  },
  {
   "cell_type": "code",
   "execution_count": 2,
   "id": "078aecdb",
   "metadata": {},
   "outputs": [],
   "source": [
    "# First index is line in the file\n",
    "# Second index chooses between unique signal pattern [1] and output digit pattern [2]\n",
    "# Final index is digit character string for each signal. \n",
    "#   Range 1:10 for Unique signal pattern. Range 1:4 for output pattern\n",
    "displays = [[[split(nums, \" \")] for nums in split(line, \" | \")] for line in lines];"
   ]
  },
  {
   "cell_type": "code",
   "execution_count": 3,
   "id": "af222360",
   "metadata": {},
   "outputs": [
    {
     "data": {
      "text/plain": [
       "signal_hash (generic function with 1 method)"
      ]
     },
     "execution_count": 3,
     "metadata": {},
     "output_type": "execute_result"
    }
   ],
   "source": [
    "function signal_hash(signal, signal_list)\n",
    "    hash_val = 0\n",
    "    for (i, wire) in enumerate(signal)\n",
    "        hash_val = hash_val + sum([(occursin(wire, test_sig) ? 1 : 0) for test_sig in signal_list])\n",
    "    end \n",
    "    \n",
    "    return hash_val\n",
    "end"
   ]
  },
  {
   "cell_type": "code",
   "execution_count": 4,
   "id": "0e31a320",
   "metadata": {},
   "outputs": [
    {
     "name": "stdout",
     "output_type": "stream",
     "text": [
      "sig_dict = Dict{Any, Any}(34 => 2, 39 => 3, 41 => 6, 49 => 8, 25 => 7, 45 => 9, 30 => 4, 42 => 0, 17 => 1, 37 => 5)\n"
     ]
    }
   ],
   "source": [
    "#build display table\n",
    "sig_list = [\"abcefg\", \"cf\", \"acdeg\", \"acdfg\", \"bcdf\", \"abdfg\", \"abdefg\", \"acf\", \"abcdefg\", \"abcdfg\"]\n",
    "sig_dict = Dict()\n",
    "\n",
    "for i = 1:10\n",
    "    sig_dict[signal_hash(sig_list[i], sig_list)] = i-1\n",
    "end\n",
    "\n",
    "@show sig_dict;"
   ]
  },
  {
   "cell_type": "code",
   "execution_count": 27,
   "id": "5b73e4cd",
   "metadata": {},
   "outputs": [
    {
     "name": "stdout",
     "output_type": "stream",
     "text": [
      "unique_dig_count = 440\n",
      "Int(round(total_output)) = 1046281\n"
     ]
    },
    {
     "data": {
      "text/plain": [
       "1046281"
      ]
     },
     "execution_count": 27,
     "metadata": {},
     "output_type": "execute_result"
    }
   ],
   "source": [
    "unique_dig_count = 0\n",
    "total_output = 0\n",
    "\n",
    "for display in displays\n",
    "    unique_signals = display[1]\n",
    "    output_digits = display[2]\n",
    "    \n",
    "    sig_hash = Array{typeof([\"\"; Int64])}(undef, 0)\n",
    "    output_decimal = 0\n",
    "    multiplier = 1000\n",
    "    \n",
    "    for signals in output_digits\n",
    "        for signal in signals\n",
    "            hash = signal_hash(signal, unique_signals[1])\n",
    "            if sig_dict[hash] in [1, 4, 7, 8]\n",
    "                unique_dig_count = unique_dig_count + 1 #part 1\n",
    "            end\n",
    "            \n",
    "            output_decimal = output_decimal + sig_dict[hash] * multiplier\n",
    "            multiplier = multiplier/10\n",
    "        end\n",
    "    end\n",
    "    \n",
    "    total_output = total_output + output_decimal\n",
    "end\n",
    "\n",
    "@show unique_dig_count\n",
    "@show Int(round(total_output))"
   ]
  },
  {
   "cell_type": "code",
   "execution_count": null,
   "id": "68f05e42",
   "metadata": {},
   "outputs": [],
   "source": []
  }
 ],
 "metadata": {
  "kernelspec": {
   "display_name": "Julia 1.7.0",
   "language": "julia",
   "name": "julia-1.7"
  },
  "language_info": {
   "file_extension": ".jl",
   "mimetype": "application/julia",
   "name": "julia",
   "version": "1.7.0"
  }
 },
 "nbformat": 4,
 "nbformat_minor": 5
}
