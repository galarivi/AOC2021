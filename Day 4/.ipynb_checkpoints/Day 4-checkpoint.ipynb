{
 "cells": [
  {
   "cell_type": "code",
   "execution_count": 1,
   "id": "5035fd34",
   "metadata": {},
   "outputs": [],
   "source": [
    "# open file \n",
    "mni = open(\"input.txt\",\"r\");\n",
    "  \n",
    "# reading file content line by line\n",
    "bingo_nums = [parse(Int, num) for num in split(readline(mni),\",\")];\n",
    "readline(mni)\n",
    "\n",
    "bingo_board_raw = readlines(mni);"
   ]
  },
  {
   "cell_type": "code",
   "execution_count": 2,
   "id": "6242b05d",
   "metadata": {},
   "outputs": [],
   "source": [
    "# Set up boards and get ready to play\n",
    "current_board = Matrix{Int64}(undef, 5,5)\n",
    "bingo_boards = Array{typeof(current_board)}(undef, 0)\n",
    "board_row = 1\n",
    "\n",
    "for line in bingo_board_raw\n",
    "    if line == \"\"\n",
    "        push!(bingo_boards, copy(current_board))\n",
    "        board_row = 1\n",
    "    else\n",
    "        current_board[board_row, :] = [parse(Int, num) for num in split(line)]\n",
    "        board_row += 1\n",
    "    end   \n",
    "end\n",
    "\n",
    "push!(bingo_boards, copy(current_board));"
   ]
  },
  {
   "cell_type": "code",
   "execution_count": 3,
   "id": "217795eb",
   "metadata": {},
   "outputs": [],
   "source": [
    "# Part 1\n",
    "# Checked status for each number on each board\n",
    "board_statuses = push!(Array{typeof(zeros(Bool, 5, 5))}(undef, 0), zeros(Bool,5,5))\n",
    "\n",
    "while size(board_statuses,1) < size(bingo_boards, 1)\n",
    "    push!(board_statuses, zeros(Bool,5,5))  \n",
    "end\n",
    "\n",
    "win_num = -1;\n",
    "win_board_idx = -1;\n",
    "\n",
    "# Bingo engine commence\n",
    "for bingo_num in bingo_nums\n",
    "   for (idx, board) in enumerate(bingo_boards)\n",
    "        # Cross em \n",
    "        board_statuses[idx] .+= (board .== bingo_num)\n",
    "            \n",
    "        # Check em\n",
    "        for diag in 1:5\n",
    "            row_count = count(i->(i==1), board_statuses[idx][diag,1:end])\n",
    "            col_count = count(i->(i==1), board_statuses[idx][1:end, diag])\n",
    "            if row_count == 5 || col_count == 5\n",
    "                # GOT EM \n",
    "                win_num = bingo_num;\n",
    "                win_board_idx = idx;\n",
    "                break\n",
    "            end\n",
    "        end\n",
    "    end\n",
    "    \n",
    "    if win_num > 0\n",
    "        break\n",
    "    end\n",
    "end\n",
    "\n",
    "win_board = copy(bingo_boards[win_board_idx]);\n",
    "win_board_stat = copy(board_statuses[win_board_idx]);"
   ]
  },
  {
   "cell_type": "code",
   "execution_count": 4,
   "id": "6eb20dcc",
   "metadata": {},
   "outputs": [
    {
     "name": "stdout",
     "output_type": "stream",
     "text": [
      "win_sum * win_num = 74320\n"
     ]
    },
    {
     "data": {
      "text/plain": [
       "74320"
      ]
     },
     "execution_count": 4,
     "metadata": {},
     "output_type": "execute_result"
    }
   ],
   "source": [
    "win_sum = 0\n",
    "for (idx, val) in enumerate(win_board)\n",
    "    if win_board_stat[idx] == false\n",
    "        win_sum += val\n",
    "    end\n",
    "end\n",
    "\n",
    "@show win_sum * win_num"
   ]
  },
  {
   "cell_type": "code",
   "execution_count": 5,
   "id": "32da6518",
   "metadata": {},
   "outputs": [],
   "source": [
    "# Part 2\n",
    "board_statuses = push!(Array{typeof(zeros(Bool, 5, 5))}(undef, 0), zeros(Bool,5,5))\n",
    "\n",
    "while size(board_statuses,1) < size(bingo_boards, 1)\n",
    "    push!(board_statuses, zeros(Bool,5,5))  \n",
    "end\n",
    "\n",
    "first_win_num = -1;\n",
    "last_win_num = -1;\n",
    "winning_board_idx_arr = Array{Int64}(undef, 0)\n",
    "\n",
    "# Bingo engine commence\n",
    "for bingo_num in bingo_nums\n",
    "   for (idx, board) in enumerate(bingo_boards)\n",
    "        if !(idx in winning_board_idx_arr)\n",
    "            # Cross em \n",
    "            board_statuses[idx] .+= (board .== bingo_num)\n",
    "                \n",
    "            # Check em\n",
    "            for diag in 1:5\n",
    "                row_count = count(i->(i==1), board_statuses[idx][diag,1:end])\n",
    "                col_count = count(i->(i==1), board_statuses[idx][1:end, diag])\n",
    "                if row_count == 5 || col_count == 5\n",
    "                    # GOT EM \n",
    "                    if first_win_num < 0\n",
    "                        first_win_num = bingo_num;\n",
    "                    end\n",
    "                    \n",
    "                    push!(winning_board_idx_arr, idx);\n",
    "                    \n",
    "                    if size(winning_board_idx_arr, 1) == size(bingo_boards, 1)\n",
    "                        last_win_num = bingo_num;\n",
    "                    end\n",
    "                    break\n",
    "                end\n",
    "            end\n",
    "        end\n",
    "    end\n",
    "    \n",
    "    if last_win_num > 0\n",
    "        break\n",
    "    end\n",
    "end    "
   ]
  },
  {
   "cell_type": "code",
   "execution_count": 6,
   "id": "9330cbb6",
   "metadata": {},
   "outputs": [
    {
     "name": "stdout",
     "output_type": "stream",
     "text": [
      "win_sum * last_win_num = 17884\n"
     ]
    },
    {
     "data": {
      "text/plain": [
       "17884"
      ]
     },
     "execution_count": 6,
     "metadata": {},
     "output_type": "execute_result"
    }
   ],
   "source": [
    "last_win_idx = winning_board_idx_arr[end]\n",
    "win_board = copy(bingo_boards[last_win_idx]);\n",
    "win_board_stat = copy(board_statuses[last_win_idx]);\n",
    "win_sum = 0\n",
    "\n",
    "for (idx, val) in enumerate(win_board)\n",
    "    if win_board_stat[idx] == false\n",
    "        win_sum += val\n",
    "    end\n",
    "end\n",
    "\n",
    "@show win_sum * last_win_num"
   ]
  }
 ],
 "metadata": {
  "kernelspec": {
   "display_name": "Julia 1.7.0",
   "language": "julia",
   "name": "julia-1.7"
  },
  "language_info": {
   "file_extension": ".jl",
   "mimetype": "application/julia",
   "name": "julia",
   "version": "1.7.0"
  }
 },
 "nbformat": 4,
 "nbformat_minor": 5
}
