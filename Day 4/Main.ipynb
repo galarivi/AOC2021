{
 "cells": [
  {
   "cell_type": "code",
   "execution_count": null,
   "id": "5035fd34",
   "metadata": {},
   "outputs": [],
   "source": [
    "# open file \n",
    "mni = open(\"input.txt\",\"r\");\n",
    "  \n",
    "# reading file content line by line\n",
    "dd = readlines(mni);\n",
    "\n",
    "data = [parse(Int, d) for d in dd];\n"
   ]
  }
 ],
 "metadata": {
  "kernelspec": {
   "display_name": "Julia 1.6.1",
   "language": "julia",
   "name": "julia-1.6"
  },
  "language_info": {
   "file_extension": ".jl",
   "mimetype": "application/julia",
   "name": "julia",
   "version": "1.6.1"
  }
 },
 "nbformat": 4,
 "nbformat_minor": 5
}
